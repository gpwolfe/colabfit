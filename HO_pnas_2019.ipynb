{
 "cells": [
  {
   "cell_type": "code",
   "execution_count": 30,
   "metadata": {},
   "outputs": [],
   "source": [
    "from colabfit.tools.database import MongoDatabase, load_data\n",
    "from colabfit.tools.property_settings import PropertySettings\n",
    "from colabfit.tools.configuration import AtomicConfiguration\n",
    "from colabfit.tools.property_definitions import potential_energy_pd, atomic_forces_pd\n",
    "import ase\n",
    "from pathlib import Path\n"
   ]
  },
  {
   "cell_type": "code",
   "execution_count": 22,
   "metadata": {},
   "outputs": [],
   "source": [
    "client = MongoDatabase('test',drop_database=True)"
   ]
  },
  {
   "cell_type": "code",
   "execution_count": 41,
   "metadata": {},
   "outputs": [],
   "source": [
    "def reader(file_path):\n",
    "    file_name=file_path.stem\n",
    "    atoms=ase.io.read(file_path, index=':')\n",
    "    for atom in atoms:\n",
    "        atom.info['name'] = file_name\n",
    "    return atoms"
   ]
  },
  {
   "cell_type": "code",
   "execution_count": 45,
   "metadata": {},
   "outputs": [
    {
     "name": "stderr",
     "output_type": "stream",
     "text": [
      "1it [00:03,  3.14s/it]\n"
     ]
    }
   ],
   "source": [
    "configurations = load_data(\n",
    "    file_path='/Users/piper/Code/colabfit/data/liquid_solid_water/', #Data can be downloaded here: https://figshare.com/articles/dataset/A_dataset_of_DFT_energies_and_forces_for_carbon_allotropes_of_monolayer_graphene_bilayer_graphene_graphite_and_diamond/12649811\n",
    "    file_format='folder', \n",
    "    name_field='name',  \n",
    "    elements=['H', 'O'],\n",
    "    reader=reader,\n",
    "    glob_string='*.xyz',\n",
    "    generator=False,\n",
    ")"
   ]
  },
  {
   "cell_type": "code",
   "execution_count": 46,
   "metadata": {},
   "outputs": [],
   "source": [
    "#Load from colabfit's definitions\n",
    "client.insert_property_definition(potential_energy_pd)\n",
    "client.insert_property_definition(atomic_forces_pd)"
   ]
  },
  {
   "cell_type": "code",
   "execution_count": 47,
   "metadata": {},
   "outputs": [],
   "source": [
    "metadata = { 'software': {'value':['LAMMPS', 'i-PI']},\n",
    "            'method': {'value':['revPBE0-D3', 'DFT']}\n",
    "}\n",
    "property_map = {\n",
    "    'potential-energy': [{\n",
    "        'energy':   {'field': 'TotEnergy',  'units': 'eV'},\n",
    "        'per-atom': {'value': False, 'units': None},\n",
    "        '_metadata': metadata\n",
    "    }],\n",
    "\n",
    "    'atomic-forces': [{\n",
    "        'forces':   {'field': 'force',  'units': 'eV/Ang'},\n",
    "            '_metadata': metadata\n",
    "\n",
    "    }],\n",
    "}"
   ]
  },
  {
   "cell_type": "code",
   "execution_count": 50,
   "metadata": {},
   "outputs": [
    {
     "name": "stderr",
     "output_type": "stream",
     "text": [
      "Preparing to add configurations to Database: 100%|██████████| 1593/1593 [00:10<00:00, 157.29it/s]\n",
      "/Users/piper/Code/colabfit/venv/lib/python3.8/site-packages/colabfit/tools/database.py:1095: UserWarning: 5 duplicate configurations detected\n",
      "  warnings.warn(\n",
      "/Users/piper/Code/colabfit/venv/lib/python3.8/site-packages/colabfit/tools/database.py:1102: UserWarning: 19 duplicate properties detected\n",
      "  warnings.warn(\n",
      "/Users/piper/Code/colabfit/venv/lib/python3.8/site-packages/colabfit/tools/database.py:1109: UserWarning: 5 duplicate data objects detected\n",
      "  warnings.warn(\n"
     ]
    }
   ],
   "source": [
    "ids = list(client.insert_data(\n",
    "    configurations,\n",
    "    property_map=property_map,\n",
    "    generator=False,\n",
    "    verbose=True\n",
    "))\n",
    "\n",
    "all_co_ids, all_do_ids = list(zip(*ids))"
   ]
  },
  {
   "cell_type": "code",
   "execution_count": 51,
   "metadata": {},
   "outputs": [],
   "source": [
    "hashes = client.get_data('configurations', fields=['hash'])\n",
    "name = 'HO_pnas_2019'"
   ]
  },
  {
   "cell_type": "code",
   "execution_count": 53,
   "metadata": {},
   "outputs": [
    {
     "name": "stdout",
     "output_type": "stream",
     "text": [
      "Configuration set         (HO_pnas_2019):    1588\n"
     ]
    }
   ],
   "source": [
    "cs_ids = []\n",
    "co_ids = client.get_data(\n",
    "    'configurations',\n",
    "    fields='hash',\n",
    "    query={'hash': {'$in': hashes}},\n",
    "    ravel=True\n",
    ").tolist()\n",
    "\n",
    "print('Configuration set ', f'({name}):'.rjust(22), f'{len(co_ids)}'.rjust(7))\n",
    "\n",
    "cs_id = client.insert_configuration_set(co_ids, description=\"Liquid and solid H2O/water thermodynamics\", name=name)\n",
    "\n",
    "cs_ids.append(cs_id)"
   ]
  },
  {
   "cell_type": "code",
   "execution_count": 54,
   "metadata": {},
   "outputs": [
    {
     "name": "stderr",
     "output_type": "stream",
     "text": [
      "Aggregating configuration info: 100%|██████████| 1588/1588 [00:00<00:00, 1593.47it/s]\n",
      "Aggregating data_object info: 100%|██████████| 1588/1588 [00:00<00:00, 37829.45it/s]\n",
      "Updating CA->DS relationships: 100%|██████████| 1588/1588 [00:00<00:00, 5014.07it/s]\n"
     ]
    }
   ],
   "source": [
    "ds_id = client.insert_dataset(\n",
    "    cs_ids,\n",
    "    all_do_ids,\n",
    "    name='HO_pnas_2019',\n",
    "    authors=[\n",
    "        'B. Cheng, E. Engel, J. Behler, C. Dellago, M. Ceriotti'\n",
    "    ],\n",
    "    links=[\n",
    "        'https://archive.materialscloud.org/record/2018.0020/v1',\n",
    "        'https://www.pnas.org/doi/full/10.1073/pnas.1815117116'\n",
    "    ],\n",
    "    description = \"1590 configurations of H2O/water \"\n",
    "    \"with potential energy and forces calculated using \"\n",
    "    \"a hybrid approach, DFT and revPBE0-D3 \",\n",
    "    verbose=True,\n",
    ")"
   ]
  }
 ],
 "metadata": {
  "kernelspec": {
   "display_name": "venv",
   "language": "python",
   "name": "python3"
  },
  "language_info": {
   "codemirror_mode": {
    "name": "ipython",
    "version": 3
   },
   "file_extension": ".py",
   "mimetype": "text/x-python",
   "name": "python",
   "nbconvert_exporter": "python",
   "pygments_lexer": "ipython3",
   "version": "3.8.0 (v3.8.0:fa919fdf25, Oct 14 2019, 10:23:27) \n[Clang 6.0 (clang-600.0.57)]"
  },
  "orig_nbformat": 4,
  "vscode": {
   "interpreter": {
    "hash": "cda00fdd2df1dfb76afa143867e38c41c6b496947491a0a99a04064f867acbf2"
   }
  }
 },
 "nbformat": 4,
 "nbformat_minor": 2
}
