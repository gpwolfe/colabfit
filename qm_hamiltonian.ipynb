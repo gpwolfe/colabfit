{
 "cells": [
  {
   "attachments": {},
   "cell_type": "markdown",
   "metadata": {},
   "source": [
    "##### Data at:\n",
    "http://quantum-machine.org/data/schnorb_hamiltonian/schnorb_hamiltonian_water.tgz\n",
    "http://quantum-machine.org/data/schnorb_hamiltonian/schnorb_hamiltonian_ethanol_dft.tgz\n",
    "http://quantum-machine.org/data/schnorb_hamiltonian/schnorb_hamiltonian_malondialdehyde.tgz\n",
    "http://quantum-machine.org/data/schnorb_hamiltonian/schnorb_hamiltonian_uracil.tgz\n",
    "\n",
    "The ethanol_hf file is not included, as it is run at a different level of theory.\n",
    "Uracil file has failed multiple times to download properly--could be a result of the size or might be a problem with the uploaded file\n",
    "\n",
    "Unzip files to one parent folder before running script.\n"
   ]
  },
  {
   "cell_type": "code",
   "execution_count": null,
   "metadata": {},
   "outputs": [],
   "source": [
    "import ase\n",
    "from ase.db import connect\n",
    "from colabfit.tools.database import MongoDatabase, load_data\n",
    "from colabfit.tools.property_definitions import potential_energy_pd, atomic_forces_pd\n",
    "from pathlib import Path\n",
    "\n",
    "DB_PATH = '/Users/piper/Code/colabfit/data/qm_hamiltonian/'"
   ]
  },
  {
   "cell_type": "code",
   "execution_count": null,
   "metadata": {},
   "outputs": [],
   "source": [
    "client = MongoDatabase('test',drop_database=True)"
   ]
  },
  {
   "cell_type": "code",
   "execution_count": null,
   "metadata": {},
   "outputs": [],
   "source": [
    "def reader(filepath):\n",
    "    filepath = Path(filepath)\n",
    "    db = connect(filepath)\n",
    "    atoms = []\n",
    "    for row in db.select():\n",
    "        atom = row.toatoms()\n",
    "        atom.info = row.data\n",
    "        atom.info['name'] = filepath.stem.split('_')[-1]\n",
    "        atoms.append(atom)\n",
    "        if type(atom.info['energy'] == list):\n",
    "            atom.info['energy'] = float(atom.info['energy'][0])\n",
    "    return atoms"
   ]
  },
  {
   "cell_type": "code",
   "execution_count": null,
   "metadata": {},
   "outputs": [],
   "source": [
    "configurations = load_data(\n",
    "    file_path=DB_PATH,\n",
    "    file_format='folder', \n",
    "    name_field='name',  \n",
    "    elements=['C', 'H', 'O', 'N'],\n",
    "    reader=reader,\n",
    "    glob_string='*.db',\n",
    "    generator=False,\n",
    ")"
   ]
  },
  {
   "cell_type": "code",
   "execution_count": null,
   "metadata": {},
   "outputs": [],
   "source": [
    "configurations[2000].info.keys()"
   ]
  },
  {
   "cell_type": "code",
   "execution_count": null,
   "metadata": {},
   "outputs": [],
   "source": [
    "client.insert_property_definition(potential_energy_pd)\n",
    "client.insert_property_definition(atomic_forces_pd)"
   ]
  },
  {
   "cell_type": "code",
   "execution_count": null,
   "metadata": {},
   "outputs": [],
   "source": [
    "metadata = { 'software': {'value':['ORCA', 'SchNOrb']},\n",
    "            'method': {'value':'PBE/def2-SVP'}\n",
    "}\n",
    "property_map = {\n",
    "    'potential-energy': [{\n",
    "        'energy':   {'field': 'energy',  'units': 'Hartree'},\n",
    "        'per-atom': {'value': False, 'units': None},\n",
    "        '_metadata': metadata\n",
    "    }],\n",
    "    \n",
    "    'atomic-forces': [{\n",
    "        'forces': {'field': 'forces', 'units': 'eV/Ang'},\n",
    "        '_metadata': metadata\n",
    "    }]\n",
    "}"
   ]
  },
  {
   "cell_type": "code",
   "execution_count": null,
   "metadata": {},
   "outputs": [],
   "source": [
    "ids = list(client.insert_data(\n",
    "    configurations,\n",
    "    property_map=property_map,\n",
    "    generator=False,\n",
    "    verbose=True\n",
    "))\n",
    "\n",
    "all_co_ids, all_do_ids = list(zip(*ids))"
   ]
  },
  {
   "cell_type": "code",
   "execution_count": null,
   "metadata": {},
   "outputs": [],
   "source": [
    "cs_regexes = [\n",
    "    ['QM_Hamiltonian_set',\n",
    "     '.*',\n",
    "     'All configurations in the Quantum Machine Molecular Hamiltonians and Overlap Matrices set'\n",
    "    ],\n",
    "    ['QM_Hamiltonian_water',\n",
    "     'water',\n",
    "     'All water configurations from the Quantum Machine Molecular Hamiltonians and Overlap Matrices set'\n",
    "    ],\n",
    "    ['QM_Hamiltonian_ethanol_hf',\n",
    "     'hf',\n",
    "     'All ethanol hf configurations from the Quantum Machine Molecular Hamiltonians and Overlap Matrices set'\n",
    "    ],\n",
    "    ['QM_Hamiltonian_ethanol_dft',\n",
    "     'dft',\n",
    "     'All ethanol dft configurations from the Quantum Machine Molecular Hamiltonians and Overlap Matrices set'\n",
    "    ],\n",
    "    ['QM_Hamiltonian_malondialdehyde',\n",
    "     'malondialdehyde',\n",
    "     'All malondialdehyde configurations from the Quantum Machine Molecular Hamiltonians and Overlap Matrices set'\n",
    "    ],\n",
    "    ['QM_Hamiltonian_uracil',\n",
    "     'uracil',\n",
    "     'All uracil configurations from the Quantum Machine Molecular Hamiltonians and Overlap Matrices set'\n",
    "    ]\n",
    "]\n",
    "\n",
    "\n",
    "cs_ids = []\n",
    "\n",
    "for i, (name, regex, desc) in enumerate(cs_regexes):\n",
    "    co_ids = client.get_data(\n",
    "        'configurations',\n",
    "        fields='hash',\n",
    "        query={'hash': {'$in': all_co_ids}, 'names': {'$regex': regex}},\n",
    "        ravel=True\n",
    "    ).tolist()\n",
    "\n",
    "    print(f'Configuration set {i}', f'({name}):'.rjust(22), f'{len(co_ids)}'.rjust(7))\n",
    "\n",
    "    if len(co_ids) > 0:\n",
    "        cs_id = client.insert_configuration_set(co_ids, description=desc,name=name)\n",
    "\n",
    "        cs_ids.append(cs_id)"
   ]
  },
  {
   "cell_type": "code",
   "execution_count": null,
   "metadata": {},
   "outputs": [],
   "source": [
    "client.insert_dataset(\n",
    "    cs_ids,\n",
    "    all_do_ids,\n",
    "    name='schnorb_hamiltonian_nature_2019',\n",
    "    authors=[\n",
    "        'K. T. Schütt, M. Gastegger, A. Tkatchenko, K. R. Müller, R. J. Maurer'\n",
    "    ],\n",
    "    links=[\n",
    "        'http://quantum-machine.org/datasets/',\n",
    "        'https://www.nature.com/articles/s41467-019-12875-2',\n",
    "    ],\n",
    "    description = '~100,000 configurations of water, ethanol, malondialdehyde '\n",
    "    'and uracil gathered at the PBE/def2-SVP level of theory using ORCA.',\n",
    "    verbose=True,\n",
    ")\n"
   ]
  }
 ],
 "metadata": {
  "kernelspec": {
   "display_name": "venv",
   "language": "python",
   "name": "python3"
  },
  "language_info": {
   "codemirror_mode": {
    "name": "ipython",
    "version": 3
   },
   "file_extension": ".py",
   "mimetype": "text/x-python",
   "name": "python",
   "nbconvert_exporter": "python",
   "pygments_lexer": "ipython3",
   "version": "3.8.0"
  },
  "orig_nbformat": 4,
  "vscode": {
   "interpreter": {
    "hash": "cda00fdd2df1dfb76afa143867e38c41c6b496947491a0a99a04064f867acbf2"
   }
  }
 },
 "nbformat": 4,
 "nbformat_minor": 2
}
