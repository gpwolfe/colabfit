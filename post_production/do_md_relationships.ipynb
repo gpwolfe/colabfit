{
 "cells": [
  {
   "cell_type": "code",
   "execution_count": 32,
   "metadata": {},
   "outputs": [],
   "source": [
    "from collections import defaultdict\n",
    "from pymongo import MongoClient\n",
    "from tqdm import tqdm\n",
    "\n",
    "# client = MongoClient(\"mongodb://10.0.52.71:27017/\")\n",
    "# db = client[\"colabfit-2023-5-16\"]\n",
    "\n",
    "client = MongoClient(\"mongodb://localhost:5000/\")\n",
    "db = client[\"colabfit-2023-5-16\"]\n",
    "\n",
    "# client = MongoClient(\"mongodb://localhost:27017/\")\n",
    "# db = client[\"mp\"]"
   ]
  },
  {
   "cell_type": "code",
   "execution_count": 28,
   "metadata": {},
   "outputs": [],
   "source": [
    "ds = \"DS_sbwtdhegp9yg_0\"  # 3BPA\n",
    "# ds = \"DS_8cge9vvgyk47_0\" # Local Materials Project"
   ]
  },
  {
   "cell_type": "code",
   "execution_count": 50,
   "metadata": {},
   "outputs": [],
   "source": [
    "def get_pi_do_md(ds_id):\n",
    "    pi_ids = defaultdict(list)\n",
    "    dos = db.data_objects.find({\"relationships.datasets\": ds_id}, {\"colabfit-id\": 1})\n",
    "    for do in tqdm(dos):\n",
    "        pis = db.property_instances.find(\n",
    "            {\"relationships.data_objects\": do[\"colabfit-id\"]},\n",
    "            {\n",
    "                \"colabfit-id\": 1,\n",
    "                \"relationships.data_objects\": 1,\n",
    "                \"relationships.metadata\": 1,\n",
    "            },\n",
    "        )\n",
    "\n",
    "        for pi in pis:\n",
    "            pi_ids[pi[\"colabfit-id\"]] = (\n",
    "                pi[\"relationships\"][\"data_objects\"],\n",
    "                pi[\"relationships\"][\"metadata\"],\n",
    "            )\n",
    "    return pi_ids"
   ]
  },
  {
   "cell_type": "code",
   "execution_count": 78,
   "metadata": {},
   "outputs": [],
   "source": [
    "def get_pi_data(ds_id):\n",
    "    name = db.datasets.find_one({\"colabfit-id\": ds_id}, {\"name\": 1})\n",
    "    name = name[\"name\"]\n",
    "    pis = get_pi_do_md(ds_id)\n",
    "    mds_over_one = sum([len(val[1]) > 1 for k, val in pis.items()])\n",
    "    unequal_md_do = sum(\n",
    "        [(len(val[1]) > 1 and len(val[0]) != len(val[1])) for k, val in pis.items()]\n",
    "    )\n",
    "\n",
    "    with open(f\"{name}_pi_data.txt\", \"w\") as f:\n",
    "        f.write(f\"{name}, {ds_id}\\n\")\n",
    "        f.write(f\"mds_over_one, {mds_over_one}\\n\")\n",
    "        f.write(f\"unequal_md_do, {unequal_md_do}\\n\")\n",
    "        f.writelines([f\"{key}, {val}\\n\" for key, val in pis.items()])\n",
    "    print(name)\n",
    "    return pis"
   ]
  },
  {
   "cell_type": "code",
   "execution_count": 79,
   "metadata": {},
   "outputs": [
    {
     "name": "stderr",
     "output_type": "stream",
     "text": [
      "1691it [00:07, 236.87it/s]"
     ]
    },
    {
     "name": "stdout",
     "output_type": "stream",
     "text": [
      "AgPd_npj2021\n"
     ]
    },
    {
     "name": "stderr",
     "output_type": "stream",
     "text": [
      "\n"
     ]
    }
   ],
   "source": [
    "pis = get_pi_data(\"DS_p6m0q7c6dd64_0\")"
   ]
  },
  {
   "cell_type": "code",
   "execution_count": 81,
   "metadata": {},
   "outputs": [],
   "source": [
    "dss = sorted([ds[\"colabfit-id\"] for ds in db.datasets.find({}, {\"colabfit-id\": 1})])"
   ]
  },
  {
   "cell_type": "code",
   "execution_count": null,
   "metadata": {},
   "outputs": [],
   "source": []
  },
  {
   "attachments": {},
   "cell_type": "markdown",
   "metadata": {},
   "source": [
    "3BPA: all 1:1 DO-MD relationships\n"
   ]
  },
  {
   "attachments": {},
   "cell_type": "markdown",
   "metadata": {},
   "source": [
    "makelist unequal_md_do_relationships\n",
    "for each data object\n",
    "    get relevant PIs\n",
    "    if relationship is 1(MD)->1(DO):\n",
    "        find DO-id position in array\n",
    "        find corresponding MD in array\n",
    "        DO.update with field \"relationships.metadata(array)\"\n",
    "    elif relationship is 1(MD)->many(DO):\n",
    "        DO.update with field \"relationships.metadata(array)\"\n",
    "    else:\n",
    "        append DO-id to unequal_md_do_relationships (to examine later)\n",
    "\n",
    "    "
   ]
  },
  {
   "attachments": {},
   "cell_type": "markdown",
   "metadata": {},
   "source": [
    "db.property_instances.find(\n",
    "    {\n",
    "        \"$and\": [\n",
    "            {\"relationships.data_objects.1\": {\"$exists\": true}},\n",
    "            {\"relationships.metadata.1\": {\"$exists\": true}},\n",
    "            {\n",
    "                {\"$size\": \"relationships.metadata\"}: {\n",
    "                    \"$not\": {\"$size\": \"relationships.data_objects\"}\n",
    "                }\n",
    "            },\n",
    "        ]\n",
    "    }\n",
    ").count()\n",
    "{{\"$size\": \"relationships.metadata\"}: {\"$not\": {\"$size\": \"relationships.data_objects\"}}}"
   ]
  },
  {
   "attachments": {},
   "cell_type": "markdown",
   "metadata": {},
   "source": [
    "db.property_instances.aggregate([\n",
    "  {\n",
    "    $match:\n",
    "      {\n",
    "        \"relationships.metadata.1\": {\n",
    "          $exists: true,\n",
    "        },\n",
    "        \"relationships.data_objects.1\": {\n",
    "          $exists: true,\n",
    "        },\n",
    "      },\n",
    "  },\n",
    "  {\n",
    "    $project:\n",
    "      {\n",
    "        mds: {\n",
    "          $size: \"$relationships.metadata\",\n",
    "        },\n",
    "        dos: {\n",
    "          $size: \"$relationships.data_objects\",\n",
    "        },\n",
    "      },\n",
    "  },\n",
    "  {\n",
    "    $match:\n",
    "      {\n",
    "        mds: {\n",
    "          $ne: \"dos\",\n",
    "        },\n",
    "      },\n",
    "  },\n",
    "  {\n",
    "    $count:\n",
    "      \"num_mds_ne_dos\",\n",
    "  },\n",
    "])"
   ]
  }
 ],
 "metadata": {
  "kernelspec": {
   "display_name": "venv",
   "language": "python",
   "name": "python3"
  },
  "language_info": {
   "codemirror_mode": {
    "name": "ipython",
    "version": 3
   },
   "file_extension": ".py",
   "mimetype": "text/x-python",
   "name": "python",
   "nbconvert_exporter": "python",
   "pygments_lexer": "ipython3",
   "version": "3.11.3"
  },
  "orig_nbformat": 4
 },
 "nbformat": 4,
 "nbformat_minor": 2
}
