{
 "cells": [
  {
   "cell_type": "code",
   "execution_count": 1,
   "metadata": {},
   "outputs": [],
   "source": [
    "from collections import defaultdict\n",
    "from pymongo import MongoClient\n",
    "from tqdm import tqdm\n",
    "\n",
    "# client = MongoClient(\"mongodb://10.0.52.71:27017/\")\n",
    "# db = client[\"colabfit-2023-5-16\"]\n",
    "\n",
    "client = MongoClient(\"mongodb://localhost:27017/\")\n",
    "db = client[\"mp\"]\n"
   ]
  },
  {
   "attachments": {},
   "cell_type": "markdown",
   "metadata": {},
   "source": [
    "makelist unequal_md_do_relationships\n",
    "for each data object\n",
    "    get relevant PIs\n",
    "    if relationship is 1(MD)->1(DO):\n",
    "        find DO-id position in array\n",
    "        find corresponding MD in array\n",
    "        DO.update with field \"relationships.metadata(array)\"\n",
    "    elif relationship is 1(MD)->many(DO):\n",
    "        DO.update with field \"relationships.metadata(array)\"\n",
    "    else:\n",
    "        append DO-id to unequal_md_do_relationships (to examine later)\n",
    "\n",
    "    "
   ]
  },
  {
   "cell_type": "code",
   "execution_count": null,
   "metadata": {},
   "outputs": [],
   "source": [
    "db.property_instances.find(\n",
    "    {\n",
    "        \"$and\": [\n",
    "            {\"relationships.data_objects.1\": {\"$exists\": true}},\n",
    "            {\"relationships.metadata.1\": {\"$exists\": true}},\n",
    "            {\n",
    "                {\"$size\": \"relationships.metadata\"}: {\n",
    "                    \"$not\": {\"$size\": \"relationships.data_objects\"}\n",
    "                }\n",
    "            },\n",
    "        ]\n",
    "    }\n",
    ").count()\n",
    "{{\"$size\": \"relationships.metadata\"}: {\"$not\": {\"$size\": \"relationships.data_objects\"}}}"
   ]
  },
  {
   "attachments": {},
   "cell_type": "markdown",
   "metadata": {},
   "source": [
    "db.property_instances.aggregate([\n",
    "  {\n",
    "    $match:\n",
    "      {\n",
    "        \"relationships.metadata.1\": {\n",
    "          $exists: true,\n",
    "        },\n",
    "        \"relationships.data_objects.1\": {\n",
    "          $exists: true,\n",
    "        },\n",
    "      },\n",
    "  },\n",
    "  {\n",
    "    $project:\n",
    "      {\n",
    "        mds: {\n",
    "          $size: \"$relationships.metadata\",\n",
    "        },\n",
    "        dos: {\n",
    "          $size: \"$relationships.data_objects\",\n",
    "        },\n",
    "      },\n",
    "  },\n",
    "  {\n",
    "    $match:\n",
    "      {\n",
    "        mds: {\n",
    "          $ne: \"dos\",\n",
    "        },\n",
    "      },\n",
    "  },\n",
    "  {\n",
    "    $count:\n",
    "      \"num_mds_ne_dos\",\n",
    "  },\n",
    "])"
   ]
  }
 ],
 "metadata": {
  "kernelspec": {
   "display_name": "venv",
   "language": "python",
   "name": "python3"
  },
  "language_info": {
   "codemirror_mode": {
    "name": "ipython",
    "version": 3
   },
   "file_extension": ".py",
   "mimetype": "text/x-python",
   "name": "python",
   "nbconvert_exporter": "python",
   "pygments_lexer": "ipython3",
   "version": "3.8.0"
  },
  "orig_nbformat": 4
 },
 "nbformat": 4,
 "nbformat_minor": 2
}
