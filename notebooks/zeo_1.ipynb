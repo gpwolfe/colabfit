{
 "cells": [
  {
   "cell_type": "code",
   "execution_count": 30,
   "metadata": {},
   "outputs": [],
   "source": [
    "import ase\n",
    "from ase import Atoms\n",
    "from colabfit.tools.database import MongoDatabase, load_data\n",
    "from colabfit.tools.property_settings import PropertySettings\n",
    "from colabfit.tools.configuration import AtomicConfiguration\n",
    "from colabfit.tools.property_definitions import potential_energy_pd, atomic_forces_pd, cauchy_stress_pd\n",
    "import numpy as np\n",
    "from pathlib import Path\n"
   ]
  },
  {
   "cell_type": "code",
   "execution_count": 9,
   "metadata": {},
   "outputs": [],
   "source": [
    "\n",
    "DATASET_FP = Path(\"/Users/piper/Code/colabfit/data/zeo-1/npz/\")\n",
    "client = MongoDatabase('test',drop_database=True)\n",
    "\n"
   ]
  },
  {
   "cell_type": "code",
   "execution_count": 16,
   "metadata": {},
   "outputs": [],
   "source": [
    "\n",
    "def reader(file):\n",
    "    npz = np.load(file)\n",
    "    name = file.stem\n",
    "    atoms = []\n",
    "    for xyz, lattice, energy, stress, gradients, charges in zip(\n",
    "        npz[\"xyz\"], npz[\"lattice\"], npz[\"energy\"],\n",
    "        npz[\"stress\"], npz[\"gradients\"], npz[\"charges\"]\n",
    "        ):\n",
    "        atoms.append(\n",
    "            Atoms(\n",
    "                numbers=npz[\"numbers\"],\n",
    "                positions=xyz,\n",
    "                cell=lattice,\n",
    "                pbc=True,\n",
    "                info={\n",
    "                    \"name\": name,\n",
    "                    \"potential_energy\": energy,\n",
    "                    \"cauchy_stress\": stress,\n",
    "                    \"nuclear_gradients\": gradients,\n",
    "                    \"partial_charges\": charges,\n",
    "                },\n",
    "            )\n",
    "        )\n",
    "    return atoms\n"
   ]
  },
  {
   "cell_type": "code",
   "execution_count": 28,
   "metadata": {},
   "outputs": [
    {
     "name": "stderr",
     "output_type": "stream",
     "text": [
      "226it [00:12, 18.37it/s]\n"
     ]
    }
   ],
   "source": [
    "configurations = load_data(\n",
    "    file_path=DATASET_FP,\n",
    "    file_format='folder', \n",
    "    name_field='name',  \n",
    "    elements=['O', 'Si', 'Ge', 'Li', 'H', 'Al', 'K', 'Ca', 'C', 'N', 'Na', 'F', 'Ba', 'Cs', 'Be'],\n",
    "    reader=reader,\n",
    "    glob_string='*.npz',\n",
    "    generator=False,\n",
    ")\n",
    "    "
   ]
  },
  {
   "cell_type": "code",
   "execution_count": 31,
   "metadata": {},
   "outputs": [
    {
     "name": "stderr",
     "output_type": "stream",
     "text": [
      "/Users/piper/Code/colabfit/venv/lib/python3.8/site-packages/colabfit/tools/database.py:1203: UserWarning: Property definition with name 'potential-energy' already exists. Using existing definition.\n",
      "  warnings.warn(\n",
      "/Users/piper/Code/colabfit/venv/lib/python3.8/site-packages/colabfit/tools/database.py:1203: UserWarning: Property definition with name 'atomic-forces' already exists. Using existing definition.\n",
      "  warnings.warn(\n"
     ]
    }
   ],
   "source": [
    "client.insert_property_definition(potential_energy_pd)\n",
    "client.insert_property_definition(atomic_forces_pd)\n",
    "client.insert_property_definition(cauchy_stress_pd)"
   ]
  },
  {
   "cell_type": "code",
   "execution_count": 32,
   "metadata": {},
   "outputs": [],
   "source": [
    "metadata = { 'software': {'value':'Amsterdam Modeling Suite'},\n",
    "            'method': {'value':'revPBE'}\n",
    "}\n",
    "property_map = {\n",
    "    'potential-energy': [{\n",
    "        'energy':   {'field': 'potential_energy',  'units': 'a.u.'},\n",
    "        'per-atom': {'value': False, 'units': None},\n",
    "        '_metadata': metadata\n",
    "    }],\n",
    "    \n",
    "    'cauchy-stress': [{\n",
    "        'stress': {'field': 'cauchy_stress', 'units': 'a.u.'},\n",
    "        '_metadata': metadata\n",
    "    }]\n",
    "}"
   ]
  },
  {
   "cell_type": "code",
   "execution_count": 33,
   "metadata": {},
   "outputs": [
    {
     "name": "stderr",
     "output_type": "stream",
     "text": [
      "Preparing to add configurations to Database: 100%|██████████| 12930/12930 [00:40<00:00, 317.73it/s]\n",
      "/Users/piper/Code/colabfit/venv/lib/python3.8/site-packages/colabfit/tools/database.py:1102: UserWarning: 12929 duplicate properties detected\n",
      "  warnings.warn(\n"
     ]
    }
   ],
   "source": [
    "ids = list(client.insert_data(\n",
    "    configurations,\n",
    "    property_map=property_map,\n",
    "    generator=False,\n",
    "    verbose=True\n",
    "))\n",
    "\n",
    "all_co_ids, all_do_ids = list(zip(*ids))"
   ]
  },
  {
   "cell_type": "code",
   "execution_count": 36,
   "metadata": {},
   "outputs": [],
   "source": [
    "co_ids = client.get_data(\n",
    "    'configurations',\n",
    "    fields='hash',\n",
    "    query={'hash': {'$in': all_co_ids}},\n",
    "    ravel=True\n",
    ").tolist()\n",
    "\n",
    "desc = \"All configurations from Zeo-1 dataset\"\n",
    "cs_ids = []\n",
    "cs_id = client.insert_configuration_set(co_ids, description=desc,name='Zeo-1')\n",
    "cs_ids.append(cs_id)"
   ]
  },
  {
   "cell_type": "code",
   "execution_count": 37,
   "metadata": {},
   "outputs": [
    {
     "name": "stderr",
     "output_type": "stream",
     "text": [
      "Aggregating configuration info: 100%|██████████| 12930/12930 [00:05<00:00, 2356.30it/s]\n",
      "Aggregating data_object info: 100%|██████████| 12930/12930 [00:00<00:00, 59162.16it/s]\n",
      "Updating CA->DS relationships: 100%|██████████| 12930/12930 [00:00<00:00, 34158.88it/s]\n"
     ]
    }
   ],
   "source": [
    "ds_id = client.insert_dataset(\n",
    "    cs_ids,\n",
    "    all_do_ids,\n",
    "    name='Zeo-1_sd_2022',\n",
    "    authors=[\n",
    "        'A. Christensen, O. A. von Lilienfeld'\n",
    "    ],\n",
    "    links=[\n",
    "        'https://archive.materialscloud.org/record/2021.171',\n",
    "        'https://www.nature.com/articles/s41597-022-01160-5'\n",
    "    ],\n",
    "    description = '130,000 configurations of zeolite from the '\n",
    "    'Database of Zeolite Structures. Calculations performed using '\n",
    "    'Amsterdam Modeling Suite software.',\n",
    "    verbose=True,\n",
    ")"
   ]
  }
 ],
 "metadata": {
  "kernelspec": {
   "display_name": "venv",
   "language": "python",
   "name": "python3"
  },
  "language_info": {
   "codemirror_mode": {
    "name": "ipython",
    "version": 3
   },
   "file_extension": ".py",
   "mimetype": "text/x-python",
   "name": "python",
   "nbconvert_exporter": "python",
   "pygments_lexer": "ipython3",
   "version": "3.8.0"
  },
  "orig_nbformat": 4,
  "vscode": {
   "interpreter": {
    "hash": "cda00fdd2df1dfb76afa143867e38c41c6b496947491a0a99a04064f867acbf2"
   }
  }
 },
 "nbformat": 4,
 "nbformat_minor": 2
}
