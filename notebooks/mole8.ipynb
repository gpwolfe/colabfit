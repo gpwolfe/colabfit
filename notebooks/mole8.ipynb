{
 "cells": [
  {
   "cell_type": "code",
   "execution_count": 1,
   "metadata": {},
   "outputs": [],
   "source": [
    "import ase\n",
    "from ase.calculators.calculator import PropertyNotImplementedError\n",
    "from colabfit.tools.database import MongoDatabase, load_data\n",
    "from colabfit.tools.configuration import AtomicConfiguration\n",
    "from colabfit.tools.property_definitions import atomic_forces_pd, potential_energy_pd\n",
    "from collections import defaultdict\n",
    "from pathlib import Path\n",
    "import re"
   ]
  },
  {
   "cell_type": "code",
   "execution_count": 2,
   "metadata": {},
   "outputs": [],
   "source": [
    "client = MongoDatabase('test2',drop_database=True)"
   ]
  },
  {
   "cell_type": "code",
   "execution_count": 3,
   "metadata": {},
   "outputs": [],
   "source": [
    "DATASET_FP = Path(\"/Users/piper/Code/colabfit/data/mole8/\")"
   ]
  },
  {
   "cell_type": "code",
   "execution_count": 4,
   "metadata": {},
   "outputs": [],
   "source": [
    "def reader(file_path):\n",
    "    file_name=file_path.stem\n",
    "    atom=ase.io.read(file_path, format='gaussian-out')\n",
    "    atom.info['name'] = file_name\n",
    "    # ase.io.reader fails to parse a small number of .out files\n",
    "    try:\n",
    "        atom.info['forces'] = atom.get_forces() * (ase.units.Bohr/ase.units.Hartree)\n",
    "    except PropertyNotImplementedError:\n",
    "        pass\n",
    "    try:\n",
    "        atom.info['potential_energy'] = atom.get_total_energy() / ase.units.Hartree\n",
    "    except PropertyNotImplementedError:\n",
    "        pass\n",
    "    yield atom"
   ]
  },
  {
   "cell_type": "code",
   "execution_count": 5,
   "metadata": {},
   "outputs": [
    {
     "name": "stderr",
     "output_type": "stream",
     "text": [
      "3794it [00:30, 123.55it/s]\n"
     ]
    }
   ],
   "source": [
    "configurations = load_data(\n",
    "    file_path=DATASET_FP,\n",
    "    file_format='folder', \n",
    "    name_field='name',  \n",
    "    elements=['C', 'N', 'O', 'H'],\n",
    "    reader=reader,\n",
    "    glob_string='*.out',\n",
    "    generator=False,\n",
    ")"
   ]
  },
  {
   "cell_type": "code",
   "execution_count": 6,
   "metadata": {},
   "outputs": [],
   "source": [
    "client.insert_property_definition(potential_energy_pd)\n",
    "client.insert_property_definition(atomic_forces_pd)"
   ]
  },
  {
   "cell_type": "code",
   "execution_count": 7,
   "metadata": {},
   "outputs": [],
   "source": [
    "metadata = { 'software': {'value':'Gaussian 09'},\n",
    "            'method': {'value':['B3LYP/6-31g(2df,p)', 'DFT']}\n",
    "}\n",
    "\n",
    "property_map = {\n",
    "    'potential-energy': [{\n",
    "        'energy':   {'field': 'potential_energy',  'units': 'Hartree'},\n",
    "        'per-atom': {'value': False, 'units': None},\n",
    "        '_metadata': metadata\n",
    "    }],\n",
    "\n",
    "    'atomic-forces': [{\n",
    "        'forces':   {'field': 'forces',  'units': 'Hartree/Bohr'},\n",
    "            '_metadata': metadata\n",
    "\n",
    "    }],\n",
    "}"
   ]
  },
  {
   "cell_type": "code",
   "execution_count": 8,
   "metadata": {},
   "outputs": [
    {
     "name": "stderr",
     "output_type": "stream",
     "text": [
      "Preparing to add configurations to Database: 100%|██████████| 3794/3794 [00:08<00:00, 430.70it/s]\n",
      "/Users/piper/Code/colabfit/venv/lib/python3.8/site-packages/colabfit/tools/database.py:1102: UserWarning: 1690 duplicate properties detected\n",
      "  warnings.warn(\n"
     ]
    }
   ],
   "source": [
    "ids = list(client.insert_data(\n",
    "    configurations,\n",
    "    property_map=property_map,\n",
    "    generator=False,\n",
    "    verbose=True\n",
    "))\n",
    "\n",
    "all_co_ids, all_do_ids = list(zip(*ids))"
   ]
  },
  {
   "cell_type": "code",
   "execution_count": 10,
   "metadata": {},
   "outputs": [],
   "source": [
    "cs_ids = []\n",
    "description = \"All molecules from the MolE8 dataset\"\n",
    "\n",
    "co_ids = client.get_data(\n",
    "    'configurations',\n",
    "    fields='hash',\n",
    "    query={'hash': {'$in': all_co_ids}},\n",
    "    ravel=True\n",
    ").tolist()\n",
    "\n",
    "cs_id = client.insert_configuration_set(co_ids, description=description, name='MolE8')\n",
    "\n",
    "cs_ids.append(cs_id)\n"
   ]
  },
  {
   "cell_type": "code",
   "execution_count": 12,
   "metadata": {},
   "outputs": [
    {
     "name": "stderr",
     "output_type": "stream",
     "text": [
      "Aggregating configuration info: 100%|██████████| 3794/3794 [00:00<00:00, 4242.29it/s]\n",
      "Aggregating data_object info: 100%|██████████| 3794/3794 [00:00<00:00, 42162.52it/s]\n",
      "Updating CA->DS relationships: 100%|██████████| 3794/3794 [00:00<00:00, 26162.12it/s]\n"
     ]
    }
   ],
   "source": [
    "client.insert_dataset(\n",
    "    cs_ids,\n",
    "    all_do_ids,\n",
    "    name='MolE8',\n",
    "    authors=[\n",
    "        \"S. Lee, K. Ermanis, J.M. Goodman\"\n",
    "    ],\n",
    "    links=[\n",
    "        \"https://rdmc.nottingham.ac.uk/handle/internal/9356\",\n",
    "        \"http://doi.org/10.17639/nott.7159\",\n",
    "        \"https://doi.org/10.1039/D1SC06324C\"\n",
    "    ],\n",
    "    description = 'About 59,000 molecular structures used for training the MolE8'\n",
    "    ' machine learning models. DFT calculations performed using Gaussian 09 at'\n",
    "    ' the B3LYP/6-31g(2df,p) level of theory.',\n",
    "    verbose=True,\n",
    ")\n"
   ]
  }
 ],
 "metadata": {
  "kernelspec": {
   "display_name": "venv",
   "language": "python",
   "name": "python3"
  },
  "language_info": {
   "codemirror_mode": {
    "name": "ipython",
    "version": 3
   },
   "file_extension": ".py",
   "mimetype": "text/x-python",
   "name": "python",
   "nbconvert_exporter": "python",
   "pygments_lexer": "ipython3",
   "version": "3.8.0 (v3.8.0:fa919fdf25, Oct 14 2019, 10:23:27) \n[Clang 6.0 (clang-600.0.57)]"
  },
  "orig_nbformat": 4,
  "vscode": {
   "interpreter": {
    "hash": "cda00fdd2df1dfb76afa143867e38c41c6b496947491a0a99a04064f867acbf2"
   }
  }
 },
 "nbformat": 4,
 "nbformat_minor": 2
}
