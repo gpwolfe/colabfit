{
 "cells": [
  {
   "cell_type": "code",
   "execution_count": 1,
   "metadata": {},
   "outputs": [],
   "source": [
    "from colabfit.tools.database import MongoDatabase, load_data\n",
    "from colabfit.tools.property_settings import PropertySettings\n",
    "from colabfit.tools.configuration import AtomicConfiguration\n",
    "from colabfit.tools.property_definitions import potential_energy_pd, atomic_forces_pd, free_energy_pd\n",
    "import ase\n",
    "from pathlib import Path"
   ]
  },
  {
   "cell_type": "code",
   "execution_count": 2,
   "metadata": {},
   "outputs": [],
   "source": [
    "client = MongoDatabase('test2_e2e',drop_database=True)"
   ]
  },
  {
   "cell_type": "code",
   "execution_count": 3,
   "metadata": {},
   "outputs": [],
   "source": [
    "def reader(file_path):\n",
    "    file_name=file_path.stem\n",
    "    atom=ase.io.read(file_path)\n",
    "    atom.info['name'] = file_name\n",
    "    yield atom"
   ]
  },
  {
   "cell_type": "code",
   "execution_count": 4,
   "metadata": {},
   "outputs": [
    {
     "name": "stderr",
     "output_type": "stream",
     "text": [
      "2it [00:00,  9.32it/s]\n"
     ]
    }
   ],
   "source": [
    "configurations = load_data(\n",
    "    file_path='/Users/piper/Code/colabfit/data/edmond_scheurer_lps_2022/',\n",
    "    file_format='folder', \n",
    "    name_field='name',  \n",
    "    elements=['Li', 'S', 'P'],\n",
    "    reader=reader,\n",
    "    glob_string='glass.xyz',\n",
    "    generator=False,\n",
    ")"
   ]
  },
  {
   "cell_type": "code",
   "execution_count": 5,
   "metadata": {},
   "outputs": [
    {
     "data": {
      "text/plain": [
       "AtomicConfiguration(symbols='Li186P62S248', pbc=True, cell=[[19.415730802212945, 7.349643431219205e-06, -8.36694044658518e-05], [9.4120792879234e-06, 24.865789944603044, -0.00022831956945719805], [-9.075212126220114e-05, -0.00019337265211474058, 21.060587485283342]], forces=...)"
      ]
     },
     "execution_count": 5,
     "metadata": {},
     "output_type": "execute_result"
    }
   ],
   "source": [
    "configurations[1]"
   ]
  },
  {
   "cell_type": "markdown",
   "id": "15b0512b",
   "metadata": {},
   "source": [
    "## Define properties and setup property mapping(s)"
   ]
  },
  {
   "cell_type": "code",
   "execution_count": 6,
   "metadata": {},
   "outputs": [
    {
     "data": {
      "text/plain": [
       "{'property-id': 'tag:staff@noreply.colabfit.org,2022-05-30:property/free-energy',\n",
       " 'property-name': 'free-energy',\n",
       " 'property-title': 'Free energy from a static calculation',\n",
       " 'property-description': 'Free energy from a calculation of a static configuration. Energies must be specified to be per-atom or supercell. If a reference energy has been used, this must be specified as well.',\n",
       " 'energy': {'type': 'float',\n",
       "  'has-unit': True,\n",
       "  'extent': [],\n",
       "  'required': False,\n",
       "  'description': 'The free energy of the system.'},\n",
       " 'per-atom': {'type': 'bool',\n",
       "  'has-unit': False,\n",
       "  'extent': [],\n",
       "  'required': True,\n",
       "  'description': 'If True, \"energy\" is the total energy of the system, and has NOT been divided by the number of atoms in the configuration.'},\n",
       " 'reference-energy': {'type': 'float',\n",
       "  'has-unit': True,\n",
       "  'extent': [],\n",
       "  'required': False,\n",
       "  'description': 'If provided, then \"energy\" is the energy (either of the whole system, or per-atom) LESS the energy of a reference configuration (E = E_0 - E_reference). Note that \"reference-energy\" is just provided for documentation, and that \"energy\" should already have this value subtracted off. The reference energy must have the same units as \"energy\".'}}"
      ]
     },
     "execution_count": 6,
     "metadata": {},
     "output_type": "execute_result"
    }
   ],
   "source": [
    "#Load from colabfit's definitions\n",
    "# Need to figure out which properties are actually in this dataset\n",
    "client.insert_property_definition(potential_energy_pd)\n",
    "client.insert_property_definition(atomic_forces_pd)\n",
    "client.insert_property_definition(free_energy_pd)\n",
    "free_energy_pd"
   ]
  },
  {
   "cell_type": "code",
   "execution_count": 7,
   "metadata": {},
   "outputs": [],
   "source": [
    "# Will the units ever change? Or where can I check for unit type\n",
    "# \n",
    "\n",
    "metadata = { 'software': {'value':['LAMMPS', 'QUIP']},\n",
    "            'method': {'value':'GAP'}\n",
    "}\n",
    "property_map = {\n",
    "    'potential-energy': [{\n",
    "        'energy':   {'field': 'energy',  'units': 'eV'},\n",
    "        'per-atom': {'field': 'per-atom', 'units': None},\n",
    "        '_metadata': metadata\n",
    "    }],\n",
    "\n",
    "    'atomic-forces': [{\n",
    "        'forces':   {'field': 'forces',  'units': 'eV/Ang'},\n",
    "            '_metadata': metadata\n",
    "\n",
    "    }],\n",
    "\n",
    "    'free-energy': [{\n",
    "        'energy':   {'field': 'free_energy',  'units': 'eV'},\n",
    "        'per-atom': {'field': 'per-atom', 'units': None},\n",
    "        '_metadata': metadata\n",
    "    }],\n",
    "}"
   ]
  },
  {
   "cell_type": "markdown",
   "id": "f71c3605",
   "metadata": {},
   "source": [
    "## Insert configurations and properties into database"
   ]
  },
  {
   "cell_type": "code",
   "execution_count": 8,
   "id": "82fc3cbd",
   "metadata": {},
   "outputs": [
    {
     "name": "stderr",
     "output_type": "stream",
     "text": [
      "Preparing to add configurations to Database: 100%|██████████| 2/2 [00:00<00:00, 133.68it/s]\n"
     ]
    }
   ],
   "source": [
    "ids = list(client.insert_data(\n",
    "    configurations,\n",
    "    property_map=property_map,\n",
    "    generator=False,\n",
    "    verbose=True\n",
    "))\n",
    "\n",
    "all_co_ids, all_do_ids = list(zip(*ids))"
   ]
  },
  {
   "cell_type": "code",
   "execution_count": 9,
   "metadata": {},
   "outputs": [
    {
     "name": "stdout",
     "output_type": "stream",
     "text": [
      "Configuration set 0 (lithium_thiophosphate):       2\n",
      "Configuration set 1 (tetrahedral_lithium_thiophosphate):       1\n",
      "Configuration set 2 (mixed_tetrahedral_bridged_lithium_thiophosphate):       1\n"
     ]
    }
   ],
   "source": [
    "cs_regexes = [\n",
    "    ['lithium_thiophosphate',\n",
    "     '.*',\n",
    "     'All configurations'\n",
    "    ],\n",
    "    ['tetrahedral_lithium_thiophosphate',\n",
    "     'Li3PS4',\n",
    "     'All Li3PS4 configurations'\n",
    "    ],\n",
    "    # ['fully_bridged_lithium_thiophosphate',\n",
    "    #  'Li4P2S7',\n",
    "    #  'All Li4P2S7 configurations'\n",
    "    # ],\n",
    "    ['mixed_tetrahedral_bridged_lithium_thiophosphate',\n",
    "     'Li7P3S11',\n",
    "     'All Li7P3S11 configurations'\n",
    "    ]\n",
    "]\n",
    "\n",
    "cs_ids = []\n",
    "\n",
    "for i, (name, regex, desc) in enumerate(cs_regexes):\n",
    "    co_ids = client.get_data(\n",
    "        'configurations',\n",
    "        fields='hash',\n",
    "        query={'hash': {'$in': all_co_ids}, 'chemical_formula_reduced': {'$regex': regex}},\n",
    "        ravel=True\n",
    "    ).tolist()\n",
    "\n",
    "    print(f'Configuration set {i}', f'({name}):'.rjust(22), f'{len(co_ids)}'.rjust(7))\n",
    "\n",
    "    cs_id = client.insert_configuration_set(co_ids, description=desc, name=name)\n",
    "\n",
    "    cs_ids.append(cs_id)"
   ]
  },
  {
   "cell_type": "code",
   "execution_count": 10,
   "metadata": {},
   "outputs": [
    {
     "name": "stderr",
     "output_type": "stream",
     "text": [
      "Aggregating configuration info: 100%|██████████| 2/2 [00:00<00:00, 211.03it/s]\n",
      "Aggregating data_object info: 100%|██████████| 2/2 [00:00<00:00, 407.59it/s]\n",
      "Updating CA->DS relationships: 100%|██████████| 2/2 [00:00<00:00, 3855.06it/s]\n"
     ]
    },
    {
     "data": {
      "text/plain": [
       "{'_id': ObjectId('63c19efd436308b0bd90ff60'),\n",
       " 'hash': '5677587112426681685580343186289953865416382253707281715799645492910390739638457659157781404953777592961657652925943072084919385957126366125470789356647551',\n",
       " 'aggregated_info': {'nconfigurations': 2,\n",
       "  'nsites': 979,\n",
       "  'nelements': 3,\n",
       "  'chemical_systems': ['LiPS'],\n",
       "  'elements': ['Li', 'P', 'S'],\n",
       "  'individual_elements_ratios': {'Li': [0.38, 0.33],\n",
       "   'P': [0.12, 0.14],\n",
       "   'S': [0.5, 0.52]},\n",
       "  'total_elements_ratios': {'Li': 0.35444330949948927,\n",
       "   'P': 0.1338100102145046,\n",
       "   'S': 0.5117466802860061},\n",
       "  'chemical_formula_reduced': ['Li3PS4', 'Li7P3S11'],\n",
       "  'chemical_formula_anonymous': ['A11B7C3', 'A4B3C'],\n",
       "  'chemical_formula_hill': ['Li186P62S248', 'Li161P69S253'],\n",
       "  'nperiodic_dimensions': [3],\n",
       "  'dimension_types': [[1, 1, 1]],\n",
       "  'property_types': ['potential-energy', 'atomic-forces'],\n",
       "  'property_types_counts': [2, 2]},\n",
       " 'authors': ['C.G. Staack',\n",
       "  'Tabea Huss',\n",
       "  'J.T. Margraf',\n",
       "  'K. Reuter',\n",
       "  'C. Scheurer'],\n",
       " 'colabfit-id': 'DS_bp0npml1kdbc_0',\n",
       " 'description': 'This dataset contains several representative glass structuresfor stoichiometries Li3PS4, Li4P2S7, and Li7P3S11 from the classof Li2S-P2S5 (LPS) solid-state electrolytes (SSE). Configurationswere generated with a Gaussian Approximation Potential (GAP) modelusing QUantum mechanics and Interatomic Potentials (QUIP) andLarge-scale Atomic/Molecular Massively Parallel Simulator (LAMMPS)software.',\n",
       " 'extended-id': 'LPS_nanomaterials2022_StaackHussMargrafReuterScheurer__DS_bp0npml1kdbc_0',\n",
       " 'last_modified': '2023-01-13T13:12:13Z',\n",
       " 'license': 'CC0',\n",
       " 'links': ['https://edmond.mpdl.mpg.de/dataset.xhtml?persistentId=doi:10.17617/3.VZHSXS'],\n",
       " 'name': 'LPS_nanomaterials2022',\n",
       " 'relationships': {'configuration_sets': ['CS_9p2cap57l1nr_0',\n",
       "   'CS_svj23n4syfkw_0',\n",
       "   'CS_mvxlhv2f61ju_0'],\n",
       "  'data_objects': ['DO_1902406046928093786', 'DO_31766939165476518']}}"
      ]
     },
     "execution_count": 10,
     "metadata": {},
     "output_type": "execute_result"
    }
   ],
   "source": [
    "ds_id = client.insert_dataset(\n",
    "    cs_ids,\n",
    "    all_do_ids,\n",
    "    name='LPS_nanomaterials2022',\n",
    "    authors=[\n",
    "        'C.G. Staack', 'Tabea Huss', 'J.T. Margraf', 'K. Reuter', 'C. Scheurer'\n",
    "    ],\n",
    "    links=[\n",
    "        'https://edmond.mpdl.mpg.de/dataset.xhtml?persistentId=doi:10.17617/3.VZHSXS'\n",
    "    ],\n",
    "    description = 'This dataset contains several representative glass structures' \\\n",
    "        'for stoichiometries Li3PS4, Li4P2S7, and Li7P3S11 from the class' \\\n",
    "        'of Li2S-P2S5 (LPS) solid-state electrolytes (SSE). Configurations' \\\n",
    "        'were generated with a Gaussian Approximation Potential (GAP) model' \\\n",
    "        'using QUantum mechanics and Interatomic Potentials (QUIP) and' \\\n",
    "        'Large-scale Atomic/Molecular Massively Parallel Simulator (LAMMPS)' \\\n",
    "        'software.',\n",
    "    verbose=True,\n",
    ")\n",
    "client.datasets.find_one()"
   ]
  },
  {
   "cell_type": "code",
   "execution_count": null,
   "metadata": {},
   "outputs": [],
   "source": []
  }
 ],
 "metadata": {
  "kernelspec": {
   "display_name": "venv",
   "language": "python",
   "name": "python3"
  },
  "language_info": {
   "codemirror_mode": {
    "name": "ipython",
    "version": 3
   },
   "file_extension": ".py",
   "mimetype": "text/x-python",
   "name": "python",
   "nbconvert_exporter": "python",
   "pygments_lexer": "ipython3",
   "version": "3.8.0"
  },
  "orig_nbformat": 4,
  "vscode": {
   "interpreter": {
    "hash": "cda00fdd2df1dfb76afa143867e38c41c6b496947491a0a99a04064f867acbf2"
   }
  }
 },
 "nbformat": 4,
 "nbformat_minor": 2
}
