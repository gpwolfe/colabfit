{
 "cells": [
  {
   "cell_type": "code",
   "execution_count": 2,
   "metadata": {},
   "outputs": [],
   "source": [
    "import ase\n",
    "from ase import Atoms\n",
    "from colabfit.tools.database import MongoDatabase, load_data\n",
    "from colabfit.tools.property_settings import PropertySettings\n",
    "from colabfit.tools.configuration import AtomicConfiguration\n",
    "from colabfit.tools.property_definitions import potential_energy_pd, atomic_forces_pd, cauchy_stress_pd\n",
    "import numpy as np\n",
    "from pathlib import Path"
   ]
  },
  {
   "cell_type": "code",
   "execution_count": 3,
   "metadata": {},
   "outputs": [],
   "source": [
    "DATASET_FP = Path(\"/Users/piper/Code/colabfit/data/gfn-xtb-si/npz/\")\n",
    "client = MongoDatabase('test',drop_database=True)\n"
   ]
  },
  {
   "cell_type": "code",
   "execution_count": 4,
   "metadata": {},
   "outputs": [],
   "source": [
    "def reader(file):\n",
    "    npz = np.load(file)\n",
    "    name = file.stem\n",
    "    atoms = []\n",
    "    for xyz, energy, gradients in zip(\n",
    "        npz[\"xyz\"], npz[\"energy\"],\n",
    "        npz[\"gradients\"]\n",
    "        ):\n",
    "        atoms.append(\n",
    "            Atoms(\n",
    "                numbers=npz[\"numbers\"],\n",
    "                positions=xyz,\n",
    "                pbc=False,\n",
    "                info={\n",
    "                    \"name\": name,\n",
    "                    \"potential_energy\": energy,\n",
    "                    \"nuclear_gradients\": gradients,\n",
    "                },\n",
    "            )\n",
    "        )\n",
    "    return atoms"
   ]
  },
  {
   "cell_type": "code",
   "execution_count": 5,
   "metadata": {},
   "outputs": [
    {
     "name": "stderr",
     "output_type": "stream",
     "text": [
      "344it [00:05, 58.12it/s]\n"
     ]
    }
   ],
   "source": [
    "configurations = load_data(\n",
    "    file_path=DATASET_FP,\n",
    "    file_format='folder', \n",
    "    name_field='name',  \n",
    "    elements=['O', 'Si', 'C', 'H', 'N', 'Cl', 'S', 'F', 'P', 'Br'],\n",
    "    reader=reader,\n",
    "    glob_string='*.npz',\n",
    "    generator=False,\n",
    ")"
   ]
  },
  {
   "cell_type": "code",
   "execution_count": 10,
   "metadata": {},
   "outputs": [],
   "source": [
    "client.insert_property_definition(potential_energy_pd)\n"
   ]
  },
  {
   "cell_type": "code",
   "execution_count": 11,
   "metadata": {},
   "outputs": [],
   "source": [
    "metadata = { 'software': {'value':'Amsterdam Modeling Suite'},\n",
    "            'method': {'value':'revPBE'}\n",
    "}\n",
    "property_map = {\n",
    "    'potential-energy': [{\n",
    "        'energy':   {'field': 'potential_energy',  'units': 'Hartree'},\n",
    "        'per-atom': {'value': False, 'units': None},\n",
    "        '_metadata': metadata\n",
    "    }],\n",
    "    \n",
    "}"
   ]
  },
  {
   "cell_type": "code",
   "execution_count": 12,
   "metadata": {},
   "outputs": [
    {
     "name": "stderr",
     "output_type": "stream",
     "text": [
      "Preparing to add configurations to Database: 100%|██████████| 4931/4931 [00:13<00:00, 376.52it/s]\n",
      "/Users/piper/Code/colabfit/venv/lib/python3.8/site-packages/colabfit/tools/database.py:1095: UserWarning: 38 duplicate configurations detected\n",
      "  warnings.warn(\n",
      "/Users/piper/Code/colabfit/venv/lib/python3.8/site-packages/colabfit/tools/database.py:1102: UserWarning: 38 duplicate properties detected\n",
      "  warnings.warn(\n",
      "/Users/piper/Code/colabfit/venv/lib/python3.8/site-packages/colabfit/tools/database.py:1109: UserWarning: 38 duplicate data objects detected\n",
      "  warnings.warn(\n"
     ]
    }
   ],
   "source": [
    "ids = list(client.insert_data(\n",
    "    configurations,\n",
    "    property_map=property_map,\n",
    "    generator=False,\n",
    "    verbose=True\n",
    "))\n",
    "\n",
    "all_co_ids, all_do_ids = list(zip(*ids))"
   ]
  },
  {
   "cell_type": "code",
   "execution_count": 13,
   "metadata": {},
   "outputs": [],
   "source": [
    "co_ids = client.get_data(\n",
    "    'configurations',\n",
    "    fields='hash',\n",
    "    query={'hash': {'$in': all_co_ids}},\n",
    "    ravel=True\n",
    ").tolist()\n",
    "\n",
    "desc = \"All configurations from GFN-xTB dataset\"\n",
    "cs_ids = []\n",
    "cs_id = client.insert_configuration_set(co_ids, description=desc,name='GFN-xTB')\n",
    "cs_ids.append(cs_id)"
   ]
  },
  {
   "cell_type": "code",
   "execution_count": 14,
   "metadata": {},
   "outputs": [
    {
     "name": "stderr",
     "output_type": "stream",
     "text": [
      "Aggregating configuration info: 100%|██████████| 4893/4893 [00:01<00:00, 4857.70it/s]\n",
      "Aggregating data_object info: 100%|██████████| 4893/4893 [00:00<00:00, 46017.56it/s]\n",
      "Updating CA->DS relationships: 100%|██████████| 4893/4893 [00:00<00:00, 42151.60it/s]\n"
     ]
    }
   ],
   "source": [
    "ds_id = client.insert_dataset(\n",
    "    cs_ids,\n",
    "    all_do_ids,\n",
    "    name='GFN-xTB_jcim_2021',\n",
    "    authors=[\n",
    "        'L. Komissarov, T. Verstraelen'\n",
    "    ],\n",
    "    links=[\n",
    "        'https://doi.org/10.24435/materialscloud:14-4m',\n",
    "        'https://doi.org/10.1021/acs.jcim.1c01170'\n",
    "    ],\n",
    "    description = '10,000 configurations of organosilicon compounds '\n",
    "    'with energies predicted by an improved GFN-xTB Hamiltonian parameterization, '\n",
    "    'using revPBE.',\n",
    "    verbose=True,\n",
    ")"
   ]
  }
 ],
 "metadata": {
  "kernelspec": {
   "display_name": "venv",
   "language": "python",
   "name": "python3"
  },
  "language_info": {
   "codemirror_mode": {
    "name": "ipython",
    "version": 3
   },
   "file_extension": ".py",
   "mimetype": "text/x-python",
   "name": "python",
   "nbconvert_exporter": "python",
   "pygments_lexer": "ipython3",
   "version": "3.8.0"
  },
  "orig_nbformat": 4,
  "vscode": {
   "interpreter": {
    "hash": "cda00fdd2df1dfb76afa143867e38c41c6b496947491a0a99a04064f867acbf2"
   }
  }
 },
 "nbformat": 4,
 "nbformat_minor": 2
}
