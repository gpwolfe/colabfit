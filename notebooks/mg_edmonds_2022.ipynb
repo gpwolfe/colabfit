{
 "cells": [
  {
   "cell_type": "code",
   "execution_count": 176,
   "metadata": {},
   "outputs": [],
   "source": [
    "from argparse import ArgumentParser\n",
    "import ase\n",
    "from ase import Atoms\n",
    "from ase.calculators.calculator import PropertyNotImplementedError\n",
    "from colabfit.tools.database import MongoDatabase, load_data\n",
    "from colabfit.tools.property_definitions import (\n",
    "    atomic_forces_pd,\n",
    "    cauchy_stress_pd,\n",
    ")\n",
    "import h5py\n",
    "import numpy as np\n",
    "from pathlib import Path\n",
    "import sys\n"
   ]
  },
  {
   "cell_type": "code",
   "execution_count": 169,
   "metadata": {},
   "outputs": [],
   "source": [
    "client = MongoDatabase('test2',drop_database=True)"
   ]
  },
  {
   "cell_type": "code",
   "execution_count": 167,
   "metadata": {},
   "outputs": [],
   "source": [
    "DATASET_FP = Path('/Users/piper/Code/colabfit/data/structures_packed/structures/')"
   ]
  },
  {
   "cell_type": "code",
   "execution_count": 161,
   "metadata": {},
   "outputs": [],
   "source": [
    "def reader(filepath: Path):\n",
    "    atoms = []\n",
    "    with h5py.File(filepath) as f:\n",
    "        file_key = list(f.keys())[0]\n",
    "\n",
    "        # Do not need indexing (i.e., one value per configuration)\n",
    "        cells = np.array(f[file_key]['structures']['chunk_arrays']['cell'])\n",
    "        pbcs = list(f[file_key]['structures']['chunk_arrays']['pbc'])\n",
    "        names = [id.decode() for id in f[file_key]['structures']['chunk_arrays']['identifier']]\n",
    "        stress = np.array( f[file_key]['structures']['chunk_arrays']['stress'])\n",
    "        energy = np.array( f[file_key]['structures']['chunk_arrays']['energy'])\n",
    "        start_index = np.array(f[file_key]['structures']['chunk_arrays']['start_index'])\n",
    "        num_atoms = np.array(f[file_key]['structures']['chunk_arrays']['length'])\n",
    "        \n",
    "        \n",
    "        # Need indexing (multiple rows per configuration)\n",
    "        forces = np.array( f[file_key]['structures']['element_arrays']['forces'])\n",
    "        coords = np.array( f[file_key]['structures']['element_arrays']['positions'])\n",
    "        element = np.array([\"Mg\" for x in coords])\n",
    "\n",
    "    # Remove first index to avoid blank array\n",
    "    start_index = start_index[1:]\n",
    " \n",
    "    forces = np.split(forces, start_index)\n",
    "    coords = np.split(coords, start_index)\n",
    "    element = np.split(element, start_index)\n",
    "\n",
    "    for coords, element, pbcs, cells, stress, energy, forces, names in zip(\n",
    "        coords, element, pbcs, cells, stress, energy, forces, names):\n",
    "        atom = Atoms(positions=coords, symbols=element, pbc=pbcs, cell=cells)\n",
    "        atom.info['stress'] = stress\n",
    "        atom.info['energy'] = energy\n",
    "        atom.info['forces'] = forces\n",
    "        atom.info['name'] = f\"{file_key}_{names}\"\n",
    "        atoms.append(atom)\n",
    "    \n",
    "    return atoms\n",
    "    "
   ]
  },
  {
   "cell_type": "code",
   "execution_count": 168,
   "metadata": {},
   "outputs": [
    {
     "name": "stderr",
     "output_type": "stream",
     "text": [
      "9it [00:53,  5.97s/it]\n"
     ]
    }
   ],
   "source": [
    "configurations = load_data(\n",
    "    file_path=DATASET_FP,\n",
    "    file_format='folder', \n",
    "    name_field='name',  \n",
    "    elements=[\"Mg\"],\n",
    "    reader=reader,\n",
    "    glob_string='*.h5',\n",
    "    generator=False,\n",
    ")"
   ]
  },
  {
   "cell_type": "code",
   "execution_count": 178,
   "metadata": {},
   "outputs": [],
   "source": [
    "client.insert_property_definition(atomic_forces_pd)\n",
    "client.insert_property_definition(cauchy_stress_pd)"
   ]
  },
  {
   "cell_type": "code",
   "execution_count": 182,
   "metadata": {},
   "outputs": [],
   "source": [
    "metadata = { 'software': {'value':'MLIP'},\n",
    "            'method': {'value':'DFT'},\n",
    "            # not clear what energy was measured\n",
    "            'energy': {'field': 'energy'}\n",
    "}\n",
    "\n",
    "property_map = {\n",
    "        \n",
    "    'cauchy-stress': [{\n",
    "        'stress':   {'field': 'stress',  'units': 'Unknown'},\n",
    "            '_metadata': metadata\n",
    "\n",
    "    }],\n",
    "    'atomic-forces': [{\n",
    "        'forces':   {'field': 'forces',  'units': 'Unknown'},\n",
    "            '_metadata': metadata\n",
    "\n",
    "    }],\n",
    "}"
   ]
  },
  {
   "cell_type": "code",
   "execution_count": 183,
   "metadata": {},
   "outputs": [
    {
     "name": "stderr",
     "output_type": "stream",
     "text": [
      "/Users/piper/Code/colabfit/venv/lib/python3.8/site-packages/colabfit/tools/database.py:427: UserWarning: Provided field \"cauchy-stress\" in property_map does not match property definition\n",
      "  warnings.warn(\n",
      "Preparing to add configurations to Database: 100%|██████████| 47253/47253 [03:20<00:00, 235.90it/s]\n",
      "/Users/piper/Code/colabfit/venv/lib/python3.8/site-packages/colabfit/tools/database.py:1095: UserWarning: 30505 duplicate configurations detected\n",
      "  warnings.warn(\n",
      "/Users/piper/Code/colabfit/venv/lib/python3.8/site-packages/colabfit/tools/database.py:1102: UserWarning: 64073 duplicate properties detected\n",
      "  warnings.warn(\n",
      "/Users/piper/Code/colabfit/venv/lib/python3.8/site-packages/colabfit/tools/database.py:1109: UserWarning: 30379 duplicate data objects detected\n",
      "  warnings.warn(\n"
     ]
    }
   ],
   "source": [
    "ids = list(client.insert_data(\n",
    "    configurations,\n",
    "    property_map=property_map,\n",
    "    generator=False,\n",
    "    verbose=True\n",
    "))\n",
    "\n",
    "all_co_ids, all_do_ids = list(zip(*ids))"
   ]
  },
  {
   "cell_type": "code",
   "execution_count": 184,
   "metadata": {},
   "outputs": [
    {
     "name": "stdout",
     "output_type": "stream",
     "text": [
      "Configuration set 0 (mg_edmonds_2022_Everything):   16748\n",
      "Configuration set 1 (mg_edmonds_2022_EverythingNoShear):   12371\n",
      "Configuration set 2 (mg_edmonds_2022_Hydro):    4547\n",
      "Configuration set 3 (mg_edmonds_2022_IntMin):     922\n",
      "Configuration set 4 (mg_edmonds_2022_RandSPG):     927\n",
      "Configuration set 5 (mg_edmonds_2022_Rattle):    4583\n",
      "Configuration set 6 (mg_edmonds_2022_Shear):   16748\n",
      "Configuration set 7 (mg_edmonds_2022_VolMin):     926\n"
     ]
    }
   ],
   "source": [
    "cs_regexes = [\n",
    "    ['mg_edmonds_2022_Everything',\n",
    "     'Everything*',\n",
    "     'Configurations from mg_edmonds_2022 in Everything dataset (defined by dataset author)'\n",
    "    ],\n",
    "    ['mg_edmonds_2022_EverythingNoShear',\n",
    "     'EverythingNoShear*',\n",
    "     'Configurations from mg_edmonds_2022 in EverythingNoShear dataset'\n",
    "    ],\n",
    "    ['mg_edmonds_2022_Hydro',\n",
    "     'Hydro*',\n",
    "     'Configurations from mg_edmonds_2022 in Hydro dataset'\n",
    "    ],\n",
    "    ['mg_edmonds_2022_IntMin',\n",
    "     'IntMin*',\n",
    "     'Configurations from mg_edmonds_2022 in IntMin dataset'\n",
    "    ],\n",
    "    ['mg_edmonds_2022_RandSPG',\n",
    "     'RandSPG*',\n",
    "     'Configurations from mg_edmonds_2022 in RandSPG dataset'\n",
    "    ],\n",
    "    ['mg_edmonds_2022_Rattle',\n",
    "     'Rattle*',\n",
    "     'Configurations from mg_edmonds_2022 in Rattle dataset'\n",
    "    ],\n",
    "    ['mg_edmonds_2022_Shear',\n",
    "     'Shear*',\n",
    "     'Configurations from mg_edmonds_2022 in Shear dataset'\n",
    "    ],\n",
    "    ['mg_edmonds_2022_VolMin',\n",
    "     'VolMin*',\n",
    "     'Configurations from mg_edmonds_2022 in VolMin dataset'\n",
    "    ],\n",
    "]\n",
    "\n",
    "cs_ids = []\n",
    "\n",
    "for i, (name, regex, desc) in enumerate(cs_regexes):\n",
    "    co_ids = client.get_data(\n",
    "        'configurations',\n",
    "        fields='hash',\n",
    "        query={'hash': {'$in': all_co_ids}, 'names': {'$regex': regex}},\n",
    "        ravel=True\n",
    "    ).tolist()\n",
    "\n",
    "    print(f'Configuration set {i}', f'({name}):'.rjust(22), f'{len(co_ids)}'.rjust(7))\n",
    "\n",
    "    cs_id = client.insert_configuration_set(co_ids, description=desc,name=name)\n",
    "\n",
    "    cs_ids.append(cs_id)\n"
   ]
  },
  {
   "cell_type": "code",
   "execution_count": null,
   "metadata": {},
   "outputs": [],
   "source": [
    "client.insert_dataset(\n",
    "    cs_ids,\n",
    "    all_do_ids,\n",
    "    name='MG_edmonds_2022',\n",
    "    authors=[\n",
    "        \"M. Poul\"\n",
    "    ],\n",
    "    links=[\n",
    "        \"https://github.com/eisenforschung/magnesium-mtp-training-data\",\n",
    "        \"doi:10.17617/3.A3MB7Z\",\n",
    "        \"https://arxiv.org/abs/2207.04009\"\n",
    "    ],\n",
    "    description = '16748 configurations of magnesium with gathered energy'\n",
    "    ', stress and forces at the DFT level of theory.',\n",
    "    verbose=True,\n",
    ")"
   ]
  }
 ],
 "metadata": {
  "kernelspec": {
   "display_name": "venv",
   "language": "python",
   "name": "python3"
  },
  "language_info": {
   "codemirror_mode": {
    "name": "ipython",
    "version": 3
   },
   "file_extension": ".py",
   "mimetype": "text/x-python",
   "name": "python",
   "nbconvert_exporter": "python",
   "pygments_lexer": "ipython3",
   "version": "3.8.0"
  },
  "orig_nbformat": 4,
  "vscode": {
   "interpreter": {
    "hash": "cda00fdd2df1dfb76afa143867e38c41c6b496947491a0a99a04064f867acbf2"
   }
  }
 },
 "nbformat": 4,
 "nbformat_minor": 2
}
