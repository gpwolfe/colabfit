{
 "cells": [
  {
   "attachments": {},
   "cell_type": "markdown",
   "metadata": {},
   "source": [
    "##### Data at:\n",
    "http://quantum-machine.org/datasets/iso17.tar.gz\n",
    "\n",
    "This data represents total energy, which is not yet implemented.\n",
    "Therefore, only atomic forces are imported\n",
    "Unzip folder before running script.\n"
   ]
  },
  {
   "cell_type": "code",
   "execution_count": null,
   "metadata": {},
   "outputs": [],
   "source": [
    "import ase\n",
    "from ase.db import connect\n",
    "from colabfit.tools.database import MongoDatabase, load_data\n",
    "from colabfit.tools.property_definitions import potential_energy_pd, atomic_forces_pd\n",
    "from pathlib import Path\n",
    "\n",
    "DB_PATH = '/Users/piper/Code/colabfit/data/iso17/'"
   ]
  },
  {
   "cell_type": "code",
   "execution_count": null,
   "metadata": {},
   "outputs": [],
   "source": [
    "client = MongoDatabase('test',drop_database=True)"
   ]
  },
  {
   "cell_type": "code",
   "execution_count": null,
   "metadata": {},
   "outputs": [],
   "source": [
    "def reader(filepath):\n",
    "    filepath = Path(filepath)\n",
    "    db = connect(filepath)\n",
    "    atoms = []\n",
    "    for row in db.select():\n",
    "        atom = row.toatoms()\n",
    "        atom.info = row.data\n",
    "        atom.info['name'] = 'iso-17'\n",
    "        atom.info['energy'] = row.key_value_pairs['total_energy']\n",
    "        atoms.append(atom)\n",
    "\n",
    "    return atoms"
   ]
  },
  {
   "cell_type": "code",
   "execution_count": null,
   "metadata": {},
   "outputs": [],
   "source": [
    "configurations = load_data(\n",
    "    file_path=DB_PATH,\n",
    "    file_format='folder', \n",
    "    name_field='name',  \n",
    "    elements=['C', 'H', 'O', 'N'],\n",
    "    reader=reader,\n",
    "    glob_string='*.db',\n",
    "    generator=False,\n",
    ")"
   ]
  },
  {
   "cell_type": "code",
   "execution_count": null,
   "metadata": {},
   "outputs": [],
   "source": [
    "client.insert_property_definition(potential_energy_pd)\n",
    "client.insert_property_definition(atomic_forces_pd)"
   ]
  },
  {
   "cell_type": "code",
   "execution_count": null,
   "metadata": {},
   "outputs": [],
   "source": [
    "metadata = { 'software': {'value':'FHI-aims'},\n",
    "            'method': {'value':'DFT-GGA-PBE'}\n",
    "}\n",
    "property_map = {\n",
    "    # This data represents total energy, not potential energy\n",
    "    # Total energy is not yet implemented as a property\n",
    "    # 'potential-energy': [{\n",
    "    #     'energy':   {'field': 'energy',  'units': 'eV'},\n",
    "    #     'per-atom': {'value': False, 'units': None},\n",
    "    #     '_metadata': metadata\n",
    "    # }],\n",
    "    \n",
    "    'atomic-forces': [{\n",
    "        'forces': {'field': 'atomic_forces', 'units': 'eV/Ang'},\n",
    "        '_metadata': metadata\n",
    "    }]\n",
    "}"
   ]
  },
  {
   "cell_type": "code",
   "execution_count": null,
   "metadata": {},
   "outputs": [],
   "source": [
    "ids = list(client.insert_data(\n",
    "    configurations,\n",
    "    property_map=property_map,\n",
    "    generator=False,\n",
    "    verbose=True\n",
    "))\n",
    "\n",
    "all_co_ids, all_do_ids = list(zip(*ids))"
   ]
  },
  {
   "cell_type": "code",
   "execution_count": null,
   "metadata": {},
   "outputs": [],
   "source": [
    "cs_ids = []\n",
    "desc = \"Configurations of C7O2H10 from ISO17\"\n",
    "name = 'ISO17'\n",
    "co_ids = client.get_data(\n",
    "    'configurations',\n",
    "    fields='hash',\n",
    "    query={'hash': {'$in': all_co_ids}},\n",
    "    ravel=True\n",
    ").tolist()\n",
    "\n",
    "print('Configuration set', f'({name}):'.rjust(22), f'{len(co_ids)}'.rjust(7))\n",
    "\n",
    "if len(co_ids) > 0:\n",
    "    cs_id = client.insert_configuration_set(co_ids, description=desc,name=name)\n",
    "\n",
    "    cs_ids.append(cs_id)"
   ]
  },
  {
   "cell_type": "code",
   "execution_count": null,
   "metadata": {},
   "outputs": [],
   "source": [
    "client.insert_dataset(\n",
    "    cs_ids,\n",
    "    all_do_ids,\n",
    "    name='ISO17_anips_2017',\n",
    "    authors=[\n",
    "        'K.T. Schütt, P.-J. Kindermans, H.E. Sauceda, S. Chmiela, A. Tkatchenko, K.-R. Müller'\n",
    "    ],\n",
    "    links=[\n",
    "        'http://quantum-machine.org/datasets/',\n",
    "        'http://quantum-machine.org/datasets/iso17.tar.gz',\n",
    "        'https://www.nature.com/articles/s41467-019-12875-2',\n",
    "    ],\n",
    "    description = '129 molecules of composition C7O2H10 from the QM9 dataset with'\n",
    "    ' 5000 conformational geometries apiece. Molecular dynamics data was simulated'\n",
    "    ' using the Fritz-Haber Institute ab initio simulation software.',\n",
    "    verbose=True,\n",
    ")\n"
   ]
  }
 ],
 "metadata": {
  "kernelspec": {
   "display_name": "venv",
   "language": "python",
   "name": "python3"
  },
  "language_info": {
   "codemirror_mode": {
    "name": "ipython",
    "version": 3
   },
   "file_extension": ".py",
   "mimetype": "text/x-python",
   "name": "python",
   "nbconvert_exporter": "python",
   "pygments_lexer": "ipython3",
   "version": "3.8.0"
  },
  "orig_nbformat": 4,
  "vscode": {
   "interpreter": {
    "hash": "cda00fdd2df1dfb76afa143867e38c41c6b496947491a0a99a04064f867acbf2"
   }
  }
 },
 "nbformat": 4,
 "nbformat_minor": 2
}
