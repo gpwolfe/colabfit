{
 "cells": [
  {
   "cell_type": "code",
   "execution_count": null,
   "metadata": {},
   "outputs": [],
   "source": [
    "# Commented output corresponds to notebook run on 11 May, 2023\n",
    "# Does not include OC20 or OC22 datasets"
   ]
  },
  {
   "cell_type": "code",
   "execution_count": 45,
   "metadata": {},
   "outputs": [],
   "source": [
    "from collections import defaultdict\n",
    "from pymongo import MongoClient\n",
    "from pprint import pprint"
   ]
  },
  {
   "cell_type": "code",
   "execution_count": 1,
   "metadata": {},
   "outputs": [],
   "source": [
    "client = MongoClient('mongodb://localhost:5000/')\n",
    "db = client['colabfit-2023-4-27']"
   ]
  },
  {
   "attachments": {},
   "cell_type": "markdown",
   "metadata": {},
   "source": [
    "### Getting aggregate statistics"
   ]
  },
  {
   "cell_type": "code",
   "execution_count": 19,
   "metadata": {},
   "outputs": [
    {
     "name": "stdout",
     "output_type": "stream",
     "text": [
      "Number of distinct chemical systems: 68474\n"
     ]
    }
   ],
   "source": [
    "chem_sys = set()\n",
    "for ds in db.datasets.find():\n",
    "\n",
    "    systems = ds['aggregated_info']['chemical_systems']\n",
    "    if type(systems) == list:\n",
    "        chem_sys.update(systems)\n",
    "    elif type(systems) == str:\n",
    "        chem_sys.add(systems)\n",
    "    else:\n",
    "        print(\"null_set? \", type(systems))\n",
    "print(f\"Number of distinct chemical systems: {len(chem_sys)}\")\n",
    "# Number of distinct chemical systems: 68474\n"
   ]
  },
  {
   "cell_type": "code",
   "execution_count": 40,
   "metadata": {},
   "outputs": [
    {
     "name": "stdout",
     "output_type": "stream",
     "text": [
      "defaultdict(<class 'int'>, {20: 844, 4: 27662, 2: 3160, 5: 7769, 3: 21028, 13: 882, 15: 339, 6: 1883, 1: 89, 7: 1023, 14: 766, 18: 206, 16: 70, 10: 62, 8: 1006, 11: 200, 17: 58, 23: 73, 12: 569, 19: 500, 24: 44, 21: 108, 26: 5, 22: 104, 25: 16, 9: 8})\n"
     ]
    }
   ],
   "source": [
    "# Atoms per system\n",
    "atoms_per_sys = defaultdict(int)\n",
    "for system in chem_sys:\n",
    "    caps = sum([x.isupper() for x in system])\n",
    "    atoms_per_sys[caps] += 1\n",
    "print(atoms_per_sys)\n"
   ]
  },
  {
   "cell_type": "code",
   "execution_count": 46,
   "metadata": {},
   "outputs": [
    {
     "name": "stdout",
     "output_type": "stream",
     "text": [
      "{1: 89,\n",
      " 2: 3160,\n",
      " 3: 21028,\n",
      " 4: 27662,\n",
      " 5: 7769,\n",
      " 6: 1883,\n",
      " 7: 1023,\n",
      " 8: 1006,\n",
      " 9: 8,\n",
      " 10: 62,\n",
      " 11: 200,\n",
      " 12: 569,\n",
      " 13: 882,\n",
      " 14: 766,\n",
      " 15: 339,\n",
      " 16: 70,\n",
      " 17: 58,\n",
      " 18: 206,\n",
      " 19: 500,\n",
      " 20: 844,\n",
      " 21: 108,\n",
      " 22: 104,\n",
      " 23: 73,\n",
      " 24: 44,\n",
      " 25: 16,\n",
      " 26: 5}\n"
     ]
    }
   ],
   "source": [
    "pprint(dict(sorted(list(atoms_per_sys.items()), key=lambda x: x[0])))\n",
    "# {1: 89,\n",
    "#  2: 3160,\n",
    "#  3: 21028,\n",
    "#  4: 27662,\n",
    "#  5: 7769,\n",
    "#  6: 1883,\n",
    "#  7: 1023,\n",
    "#  8: 1006,\n",
    "#  9: 8,\n",
    "#  10: 62,\n",
    "#  11: 200,\n",
    "#  12: 569,\n",
    "#  13: 882,\n",
    "#  14: 766,\n",
    "#  15: 339,\n",
    "#  16: 70,\n",
    "#  17: 58,\n",
    "#  18: 206,\n",
    "#  19: 500,\n",
    "#  20: 844,\n",
    "#  21: 108,\n",
    "#  22: 104,\n",
    "#  23: 73,\n",
    "#  24: 44,\n",
    "#  25: 16,\n",
    "#  26: 5}\n"
   ]
  },
  {
   "cell_type": "code",
   "execution_count": 55,
   "metadata": {},
   "outputs": [],
   "source": [
    "\n",
    "do_per_config = defaultdict(int)\n",
    "for config in db.configurations.find():\n",
    "    do_per_config[len(config['relationships']['data_objects'])] += 1\n",
    "with open(\"data_objects_per_config.txt\", \"w\") as f:\n",
    "    f.write(str(do_per_config))"
   ]
  },
  {
   "cell_type": "code",
   "execution_count": 54,
   "metadata": {},
   "outputs": [],
   "source": [
    "# Find configurations with large numbers of data objects pointing to them\n",
    "with open(\"large_do_per_config.txt\", \"w\") as f:\n",
    "    for config in db.configurations.find():\n",
    "        if len(config['relationships']['data_objects']) > 10:\n",
    "            f.write(str(config))\n",
    "            f.write(\"\\n\")\n"
   ]
  },
  {
   "cell_type": "code",
   "execution_count": 52,
   "metadata": {},
   "outputs": [],
   "source": [
    "total_configs = db.configurations.estimated_document_count()\n",
    "total_data_obj = db.data_objects.estimated_document_count()\n",
    "total_datasets = db.datasets.estimated_document_count()"
   ]
  },
  {
   "cell_type": "code",
   "execution_count": 30,
   "metadata": {},
   "outputs": [],
   "source": [
    "# Property counts\n",
    "pot_energy = db.property_instances.estimated_document_count({\"type\":\"potential-energy\"})\n",
    "free_energy = db.property_instances.estimated_document_count({\"type\":\"free-energy\"})\n",
    "atomic_forces = db.property_instances.estimated_document_count({\"type\":\"atomic-forces\"})\n",
    "formation_energy = db.property_instances.estimated_document_count({\"type\":\"formation-energy\"})\n",
    "atomization_energy = db.property_instances.estimated_document_count({\"type\":\"atomization-energy\"})\n",
    "band_gap = db.property_instances.estimated_document_count({\"type\":\"band-gap\"})\n",
    "cauchy_stress = db.property_instances.estimated_document_count({\"type\":\"cauchy-stress\"})"
   ]
  },
  {
   "cell_type": "code",
   "execution_count": 37,
   "metadata": {},
   "outputs": [
    {
     "name": "stdout",
     "output_type": "stream",
     "text": [
      "[376978, 218820, 14180, 4650, 24851, 363129, 31437, 116380, 598356, 17964, 115805, 96736, 163746, 228396, 23041200, 1294832, 2812, 2450, 17982, 1483936, 304896, 5706023, 106761, 13500, 127913, 45667, 185070, 1857722, 45641, 1072856, 2407753, 4224, 135956, 45439, 3996, 165108, 165108, 223930, 22470, 46466, 524332, 42068, 35403, 1911177, 152130, 1186590, 2951584, 721113, 161580, 2838238, 1294832, 1467492, 4719, 307435, 247744, 26234002, 297397, 4224, 106761, 44480, 524332, 23735083, 2407753, 4022098, 1523988, 2736768, 576000, 694042, 698086, 248410, 12176245, 1479000, 504350, 2100100, 313150, 449000, 711378, 78249, 11938, 11938, 11938, 11938, 11938, 11938, 103804, 103804, 103804, 103804, 103804, 103804, 1000, 529214, 33240, 7629879, 2944000, 321600, 112218, 4513386, 887799, 383955, 15599712, 113804, 171018, 600000, 111768, 1975372, 143856, 117, 158304, 1841742, 137254445, 200038614]\n"
     ]
    }
   ],
   "source": [
    "# Atoms per dataset\n",
    "atoms_per_ds = []\n",
    "for ds in db.datasets.find():\n",
    "    atoms_per_ds.append(ds['aggregated_info']['nsites'])\n",
    "print(atoms_per_ds)\n",
    "# [376978, 218820, 14180, 4650, 24851, 363129, 31437, 116380, 598356, 17964, 115805, 96736, 163746, 228396, 23041200, 1294832, 2812, 2450, 17982, 1483936, 304896, 5706023, 106761, 13500, 127913, 45667, 185070, 1857722, 45641, 1072856, 2407753, 4224, 135956, 45439, 3996, 165108, 165108, 223930, 22470, 46466, 524332, 42068, 35403, 1911177, 152130, 1186590, 2951584, 721113, 161580, 2838238, 1294832, 1467492, 4719, 307435, 247744, 26234002, 297397, 4224, 106761, 44480, 524332, 23735083, 2407753, 4022098, 1523988, 2736768, 576000, 694042, 698086, 248410, 12176245, 1479000, 504350, 2100100, 313150, 449000, 711378, 78249, 11938, 11938, 11938, 11938, 11938, 11938, 103804, 103804, 103804, 103804, 103804, 103804, 1000, 529214, 33240, 7629879, 2944000, 321600, 112218, 4513386, 887799, 383955, 15599712, 113804, 171018, 600000, 111768, 1975372, 143856, 117, 158304, 1841742, 137254445, 200038614]\n"
   ]
  },
  {
   "cell_type": "code",
   "execution_count": 41,
   "metadata": {},
   "outputs": [
    {
     "name": "stdout",
     "output_type": "stream",
     "text": [
      "512471967\n"
     ]
    }
   ],
   "source": [
    "# Total num atoms in database\n",
    "total_atoms = sum(atoms_per_ds)\n",
    "print(total_atoms)\n",
    "# 512471967"
   ]
  },
  {
   "cell_type": "code",
   "execution_count": 36,
   "metadata": {},
   "outputs": [],
   "source": [
    "# Configs per dataset\n",
    "configs_per_ds = []\n",
    "for ds in db.datasets.find():\n",
    "    configs_per_ds.append(ds['aggregated_info']['nconfigurations'])"
   ]
  }
 ],
 "metadata": {
  "kernelspec": {
   "display_name": "venv",
   "language": "python",
   "name": "python3"
  },
  "language_info": {
   "codemirror_mode": {
    "name": "ipython",
    "version": 3
   },
   "file_extension": ".py",
   "mimetype": "text/x-python",
   "name": "python",
   "nbconvert_exporter": "python",
   "pygments_lexer": "ipython3",
   "version": "3.8.0"
  },
  "orig_nbformat": 4
 },
 "nbformat": 4,
 "nbformat_minor": 2
}
