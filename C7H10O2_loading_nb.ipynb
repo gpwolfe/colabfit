{
 "cells": [
  {
   "cell_type": "code",
   "execution_count": null,
   "metadata": {},
   "outputs": [],
   "source": [
    "from colabfit.tools.database import MongoDatabase, load_data\n",
    "from colabfit.tools.configuration import AtomicConfiguration\n",
    "from collections import defaultdict\n",
    "from pathlib import Path\n",
    "import re\n"
   ]
  },
  {
   "attachments": {},
   "cell_type": "markdown",
   "metadata": {},
   "source": [
    "### Importing additional property definitions defined locally - ask GW if these are not present"
   ]
  },
  {
   "cell_type": "code",
   "execution_count": null,
   "metadata": {},
   "outputs": [],
   "source": [
    "import property_definitions_additional as pda"
   ]
  },
  {
   "cell_type": "code",
   "execution_count": null,
   "metadata": {},
   "outputs": [],
   "source": [
    "client = MongoDatabase('test4_e2e',drop_database=True)"
   ]
  },
  {
   "attachments": {},
   "cell_type": "markdown",
   "metadata": {},
   "source": [
    "### Create custom regex parser for header and coordinate rows"
   ]
  },
  {
   "cell_type": "code",
   "execution_count": null,
   "metadata": {},
   "outputs": [],
   "source": [
    "parser_match = re.compile(\n",
    "    r'gdb (?P<index>\\d+)\\s(?P<rotational_a>-?\\d+\\.(\\d+)?)\\s(?P<rotational_b>-?\\d+\\.(\\d+)?)\\s'\n",
    "    r'(?P<rotational_c>-?\\d+\\.(\\d+)?)\\s(?P<mu>-?\\d+\\.(\\d+)?)\\s(?P<alpha>-?\\d+\\.(\\d+)?)\\s'\n",
    "    r'(?P<homo>-?\\d+\\.(\\d+)?)\\s(?P<lumo>-?\\d+\\.(\\d+)?)\\s(?P<gap>-?\\d+\\.(\\d+)?)\\s'\n",
    "    r'(?P<r2>-?\\d+\\.(\\d+)?)\\s(?P<zpve>-?\\d+\\.(\\d+)?)\\s(?P<u0>-?\\d+\\.(\\d+)?)\\s'\n",
    "    r'(?P<u>-?\\d+\\.(\\d+)?)\\s(?P<h>-?\\d+\\.(\\d+)?)\\s(?P<g>-?\\d+\\.(\\d+)?)\\s(?P<cv>-?\\d+\\.(\\d+)?)'\n",
    ")\n",
    "# format to match 'gdb 1\t3.1580357\t1.2436329\t1.1060216\t1.1312\t77.92\t-0.21236\t0.02396\t0.23632\t1176.6995\t0.155411\t-422.593067\t-422.583794\t-422.58285\t-422.62703\t34.695'\n",
    "# The numeric values on the xyz comment line indicate the following in this order, according to the README:\n",
    "\n",
    "# index     rotational_a    rotational_b    rotational_c    [dipole movement (mu)]      [isotropic polarizability (alpha)] \n",
    "# homo      lumo    gap     [electronic spatial extent (r2)]    zpve    [internal energy at 0K (u0)] \n",
    "# [internal energy at 298K (u)]     [Enthalpy (h)]   [free energy (g)]   [heat capacity (cv)]\n",
    "\n",
    "coord_match = re.compile(\n",
    "    r'(?P<element>[a-zA-Z]{1,2})\\s+(?P<x>\\S+)\\s+'\n",
    "    r'(?P<y>\\S+)\\s+(?P<z>\\S+)\\s+(?P<mulliken>\\S+)'\n",
    ")\n",
    "# Format to match(spaces are tabs, no beginning space): C\t 0.3852095134\t 0.5870284364\t-0.7883677644\t-0.178412\n",
    "# Values represent element [x y z coordinates] partial charge (Mulliken)\n",
    "\n",
    "def properties_parser(line):\n",
    "    groups = parser_match.match(line)\n",
    "    return groups.groupdict()\n",
    "\n",
    "def coord_parser(line):\n",
    "    groups = coord_match.match(line)\n",
    "    return groups.groupdict()"
   ]
  },
  {
   "attachments": {},
   "cell_type": "markdown",
   "metadata": {},
   "source": [
    "### Create functions to run file and heading parsers"
   ]
  },
  {
   "cell_type": "code",
   "execution_count": null,
   "metadata": {},
   "outputs": [],
   "source": [
    "def xyz_parser(file_path):\n",
    "    file_path = Path(file_path)\n",
    "    name=file_path.stem\n",
    "    properties = defaultdict(list)\n",
    "    n_atoms = int()\n",
    "    with open(file_path, 'r') as f:\n",
    "        line_num = 0\n",
    "        for line in f:\n",
    "            if line_num == 0:\n",
    "                n_atoms = int(line)\n",
    "                line_num += 1\n",
    "            elif line_num == 1:\n",
    "                property_dict = {k: float(v) for k, v in properties_parser(line).items()}\n",
    "                line_num += 1\n",
    "            elif line_num < n_atoms + 2:\n",
    "                if \"*^\" in line:\n",
    "                    line = line.replace(\"*^\", \"e\")\n",
    "                groups = coord_match.match(line)\n",
    "                try:\n",
    "                    for property, val in groups.groupdict().items():\n",
    "                        properties[property].append(val)\n",
    "                except ValueError:\n",
    "                    print(\"ValueError at {line} in {file_path}\")\n",
    "                line_num += 1\n",
    "            elif line_num >= n_atoms + 2:\n",
    "                return name, n_atoms, properties, property_dict\n",
    "            else:\n",
    "                print(f\"{file_path} finished at line {line_num}.\")\n",
    "                break\n",
    "\n",
    "def reader(file_path):\n",
    "    name, n_atoms, coords, properties = xyz_parser(file_path)\n",
    "    positions = list(zip(coords['x'], coords['y'], coords['z']))\n",
    "    atoms = AtomicConfiguration(names=[name], symbols=coords['element'], positions=positions)\n",
    "    atoms.info['name'] = name\n",
    "    atoms.info['n_atoms'] = n_atoms\n",
    "    for key in properties.keys():\n",
    "        atoms.info[key] = properties[key]\n",
    "    return [atoms]\n",
    "\n",
    "        "
   ]
  },
  {
   "attachments": {},
   "cell_type": "markdown",
   "metadata": {},
   "source": [
    "### Load configurations"
   ]
  },
  {
   "cell_type": "code",
   "execution_count": null,
   "metadata": {},
   "outputs": [],
   "source": [
    "configurations = load_data(\n",
    "    #Data can be downloaded here: 'https://doi.org/10.6084/m9.figshare.c.978904.v5'\n",
    "    file_path='/Users/piper/Code/colabfit/data/C7O2H10_nsd_2014/', \n",
    "    file_format='folder', \n",
    "    name_field='name',  \n",
    "    elements=['C', 'O', 'H'],\n",
    "    reader=reader,\n",
    "    glob_string='*.xyz',\n",
    "    generator=False,\n",
    ")"
   ]
  },
  {
   "cell_type": "code",
   "execution_count": null,
   "metadata": {},
   "outputs": [],
   "source": [
    "# Loaded from a local file of definitions\n",
    "# \n",
    "pds = [pda.free_energy_pd, pda.dipole_moment_pd, pda.electronic_spatial_extent_pd, pda.enthalpy_pd,\n",
    "pda.homo_energy_pd, pda.lumo_energy_pd, pda.isotropic_polarizability_pd, pda.homo_lumo_gap_pd, pda.internal_energy_pd,\n",
    "pda.zpve_pd, pda.heat_capacity_pd]\n",
    "for pd in pds:\n",
    "    client.insert_property_definition(pd)\n",
    "\n"
   ]
  },
  {
   "attachments": {},
   "cell_type": "markdown",
   "metadata": {},
   "source": [
    "### Define properties"
   ]
  },
  {
   "cell_type": "code",
   "execution_count": null,
   "metadata": {},
   "outputs": [],
   "source": [
    "metadata = { 'software': {'value':['MOPAC', 'Gaussian 09']},\n",
    "            'method': {'value':'G4MP2'}\n",
    "}\n",
    "property_map = {\n",
    "    'free-energy': [{\n",
    "        'energy':   {'field': 'free_energy',  'units': 'Ha'},\n",
    "        'per-atom': {'value': False, 'units': None},\n",
    "        'temperature' : {'value': 298.25, 'units': 'K'},\n",
    "        '_metadata': metadata\n",
    "        }],\n",
    "    'dipole-moment': [{\n",
    "        'dipole-moment':   {'field': 'dipole_moment',  'units': 'Debye'},\n",
    "        'per-atom': {'value': False, 'units': None},\n",
    "        '_metadata': metadata\n",
    "        }],\n",
    "    'lumo-energy': [{\n",
    "        'energy':   {'field': 'lumo',  'units': 'Ha'},\n",
    "        'per-atom': {'value': False, 'units': None},\n",
    "        '_metadata': metadata\n",
    "        }],\n",
    "    'homo-energy': [{\n",
    "        'energy':   {'field': 'homo',  'units': 'Ha'},\n",
    "        'per-atom': {'value': False, 'units': None},\n",
    "        '_metadata': metadata\n",
    "        }],\n",
    "    'homo-lumo-gap': [{\n",
    "        'homo-lumo-gap':   {'field': 'gap',  'units': 'Ha'},\n",
    "        'per-atom': {'value': False, 'units': None},\n",
    "        '_metadata': metadata\n",
    "        }],\n",
    "    'isotropic-polarizability': [{\n",
    "        'isotropic-polarizability':   {'field': 'polarizability',  'units': 'Bohr^3'},\n",
    "        'per-atom': {'value': False, 'units': None},\n",
    "        '_metadata': metadata\n",
    "        }],\n",
    "    'electronic-spatial-extent': [{\n",
    "        'electronic-spatial-extent':   {'field': 'spatial_extent',  'units': 'Bohr^2'},\n",
    "        'per-atom': {'value': False, 'units': None},\n",
    "        '_metadata': metadata\n",
    "        }],\n",
    "    'zpve': [{\n",
    "        'zpve':   {'field': 'zpve',  'units': 'Ha'},\n",
    "        'per-atom': {'value': False, 'units': None},\n",
    "        '_metadata': metadata\n",
    "        }],\n",
    "    'internal-energy': [{\n",
    "        'energy':   {'field': 'internal_energy_0',  'units': 'Ha'},\n",
    "        'per-atom': {'value': False, 'units': None},\n",
    "        'temperature': {'value': 0, 'units': 'K'},\n",
    "        '_metadata': metadata\n",
    "        }],\n",
    "    'enthalpy': [{\n",
    "        'enthalpy':   {'field': 'enthalpy',  'units': 'Ha'},\n",
    "        'per-atom': {'value': False, 'units': None},\n",
    "        'temperature': {'value': 298.15, 'units': 'K'},\n",
    "        '_metadata': metadata\n",
    "        }],\n",
    "    'heat-capacity': [{\n",
    "        'heat-capacity':   {'field': 'heat-capacity',  'units': 'cal/[mol K]'},\n",
    "        'per-atom': {'value': False, 'units': None},\n",
    "        'temperature': {'value': 298, 'units': 'K'},\n",
    "        '_metadata': metadata\n",
    "        }],\n",
    "    \n",
    "    \n",
    "}"
   ]
  },
  {
   "cell_type": "code",
   "execution_count": null,
   "metadata": {},
   "outputs": [],
   "source": [
    "ids = list(client.insert_data(\n",
    "    configurations,\n",
    "    property_map=property_map,\n",
    "    generator=False,\n",
    "    verbose=True\n",
    "))\n",
    "\n",
    "all_co_ids, all_do_ids = list(zip(*ids))"
   ]
  },
  {
   "attachments": {},
   "cell_type": "markdown",
   "metadata": {},
   "source": [
    "### Add second set of internal energy properties with different temperature value"
   ]
  },
  {
   "cell_type": "code",
   "execution_count": null,
   "metadata": {},
   "outputs": [],
   "source": [
    "property_map2 = {\n",
    "    'internal-energy': [{\n",
    "        'energy':   {'field': 'internal_energy_298',  'units': 'Ha'},\n",
    "        'per-atom': {'value': False, 'units': None},\n",
    "        'temperature': {'value': 298.15, 'units': 'K'},\n",
    "        '_metadata': metadata\n",
    "        }]\n",
    "}"
   ]
  },
  {
   "cell_type": "code",
   "execution_count": null,
   "metadata": {},
   "outputs": [],
   "source": [
    "ids = list(client.insert_data(\n",
    "    configurations,\n",
    "    property_map=property_map2,\n",
    "    generator=False,\n",
    "    verbose=True\n",
    "))"
   ]
  },
  {
   "cell_type": "code",
   "execution_count": null,
   "metadata": {},
   "outputs": [],
   "source": [
    "hashes = client.get_data('configurations', fields=['hash'])\n",
    "name = 'C7H10O2' # Name according to spreadsheet, not according to ReadMe file/filenames"
   ]
  },
  {
   "cell_type": "code",
   "execution_count": null,
   "metadata": {},
   "outputs": [],
   "source": [
    "cs_ids = []\n",
    "co_ids = client.get_data(\n",
    "    'configurations',\n",
    "    fields='hash',\n",
    "    query={'hash': {'$in': hashes}},\n",
    "    ravel=True\n",
    ").tolist()\n",
    "\n",
    "print(f'Configuration set ', f'({name}):'.rjust(22), f'{len(co_ids)}'.rjust(7))\n",
    "\n",
    "cs_id = client.insert_configuration_set(co_ids, description=f\"Set from dataset {name}\", name=name)\n",
    "\n",
    "cs_ids.append(cs_id)\n"
   ]
  },
  {
   "cell_type": "code",
   "execution_count": null,
   "metadata": {},
   "outputs": [],
   "source": [
    "ds_id = client.insert_dataset(\n",
    "    cs_ids,\n",
    "    all_do_ids,\n",
    "    name='COH_SD_2014',\n",
    "    authors=[\n",
    "        'R. Ramakrishnan, P.O. Dral, M. Rupp, O.A. von Lilienfeld'\n",
    "    ],\n",
    "    links=[\n",
    "        'https://doi.org/10.6084/m9.figshare.c.978904.v5'\n",
    "    ],\n",
    "    description = \"6095 isomers of C7O2H10, energetics were calculated at the G4MP2 level of theory\",\n",
    "    verbose=True,\n",
    ")\n",
    "client.datasets.find_one()"
   ]
  }
 ],
 "metadata": {
  "kernelspec": {
   "display_name": "venv",
   "language": "python",
   "name": "python3"
  },
  "language_info": {
   "codemirror_mode": {
    "name": "ipython",
    "version": 3
   },
   "file_extension": ".py",
   "mimetype": "text/x-python",
   "name": "python",
   "nbconvert_exporter": "python",
   "pygments_lexer": "ipython3",
   "version": "3.8.0 (v3.8.0:fa919fdf25, Oct 14 2019, 10:23:27) \n[Clang 6.0 (clang-600.0.57)]"
  },
  "orig_nbformat": 4,
  "vscode": {
   "interpreter": {
    "hash": "cda00fdd2df1dfb76afa143867e38c41c6b496947491a0a99a04064f867acbf2"
   }
  }
 },
 "nbformat": 4,
 "nbformat_minor": 2
}
