{
 "cells": [
  {
   "cell_type": "code",
   "execution_count": 1,
   "metadata": {},
   "outputs": [],
   "source": [
    "from collections import defaultdict\n",
    "from pymongo import MongoClient\n",
    "from tqdm import tqdm\n",
    "from colabfit.tools.database import MongoDatabase\n",
    "\n",
    "# client = MongoDatabase(database_name=\"mp\", uri=\"mongodb://localhost:27017/\")\n",
    "client = MongoClient(\"mongodb://localhost:27017/\")\n",
    "db = client[\"mp\"]\n",
    "from pprint import pprint\n"
   ]
  },
  {
   "cell_type": "code",
   "execution_count": 30,
   "metadata": {},
   "outputs": [],
   "source": [
    "def get_soft_meth(\n",
    "    batch_size,\n",
    "    skip,\n",
    "    last,\n",
    "    type,\n",
    "):\n",
    "    piped = db.property_instances.aggregate(\n",
    "        [\n",
    "            {\"$match\": {\"type\": type, \"hash\": {\"$gt\": last}}},\n",
    "            {\"$sort\": {\"hash\": 1}},\n",
    "            # {\"$match\": {\"_id\":{\"$gt\": last}}},\n",
    "            {\"$skip\": skip},\n",
    "            {\"$limit\": batch_size},\n",
    "            {\"$unwind\": \"$relationships.metadata\"},\n",
    "            {\n",
    "                \"$lookup\": {\n",
    "                    \"from\": \"metadata\",\n",
    "                    \"localField\": \"relationships.metadata\",\n",
    "                    \"foreignField\": \"colabfit-id\",\n",
    "                    \"as\": \"do_data\",\n",
    "                }\n",
    "            },\n",
    "            {\n",
    "                \"$lookup\": {\n",
    "                    \"from\": \"data_objects\",\n",
    "                    \"localField\": \"do_data.colabfit-id\",\n",
    "                    \"foreignField\": \"colabfit-id\",\n",
    "                    \"as\": \"data_object\",\n",
    "                }\n",
    "            },\n",
    "            {\n",
    "                \"$match\": {\n",
    "                    \"data_object.relationships.datasets\": {\"$ne\": [\"DS_ifdjgm9le1fd_0\"]}\n",
    "                }\n",
    "            },\n",
    "            {\n",
    "                \"$group\": {\n",
    "                    \"_id\": \"$colabfit-id\",\n",
    "                    \"hash\": {\"$push\": \"$hash\"},\n",
    "                    \"md_ids\": {\"$push\": \"$relationships.metadata\"},\n",
    "                    \"do_ids\": {\"$push\": \"$relationships.data_objects\"},\n",
    "                    \"method\": {\"$push\": \"$do_data.method.source-value\"},\n",
    "                    \"software\": {\"$push\": \"$do_data.software.source-value\"},\n",
    "                }\n",
    "            },\n",
    "            {\n",
    "                \"$project\": {\n",
    "                    \"_id\": 0,\n",
    "                    \"hash\": \"$hash\",\n",
    "                    \"md_ids\": {\"$size\": \"$md_ids\"},\n",
    "                    \"do_ids\": {\"$size\": \"$do_ids\"},\n",
    "                    \"method\": \"$method\",\n",
    "                    \"software\": \"$software\",\n",
    "                }\n",
    "            },\n",
    "        ]\n",
    "    )\n",
    "    return piped"
   ]
  },
  {
   "cell_type": "code",
   "execution_count": 26,
   "metadata": {},
   "outputs": [],
   "source": [
    "def update_ms(ms_data, soft_dict, meth_dict):\n",
    "    last_hash = None\n",
    "    for data in ms_data:\n",
    "        last_hash = data.get(\"hash\")\n",
    "        if last_hash is None:\n",
    "            return last_hash\n",
    "        meth = data[\"method\"][0]\n",
    "        soft = data[\"software\"][0]\n",
    "        do_len = data[\"do_ids\"]\n",
    "        md_len = data[\"md_ids\"]\n",
    "        # If the number of md-ids == num of do-ids\n",
    "        if do_len == md_len:\n",
    "            if len(meth) == 0:\n",
    "                meth_dict[\"None\"] += do_len\n",
    "            else:\n",
    "                if len(meth) == 1:\n",
    "                    meth_dict[meth[0]] += do_len\n",
    "                elif len(meth) == do_len:\n",
    "                    for m in meth:\n",
    "                        meth_dict[m] += 1\n",
    "                else:\n",
    "                    meth_dict[\"unequal_meth_domd\"] += do_len\n",
    "            if len(soft) == 0:\n",
    "                soft_dict[\"None\"] += do_len\n",
    "            else:\n",
    "                if len(soft) == 1:\n",
    "                    soft_dict[soft[0]] += do_len\n",
    "                elif len(soft) == do_len:\n",
    "                    for s in soft:\n",
    "                        soft_dict[s] += 1\n",
    "                else:\n",
    "                    soft_dict[\"unequal_soft_domd\"] += do_len\n",
    "        else:\n",
    "            soft_dict[\"unequal_do_md\"] += 1\n",
    "            meth_dict[\"unequal_do_md\"] += 1\n",
    "\n",
    "    return last_hash\n"
   ]
  },
  {
   "cell_type": "code",
   "execution_count": 4,
   "metadata": {},
   "outputs": [],
   "source": [
    "methods = defaultdict(int)\n",
    "software = defaultdict(int)"
   ]
  },
  {
   "cell_type": "code",
   "execution_count": 28,
   "metadata": {},
   "outputs": [],
   "source": [
    "n_pis = db.property_instances.estimated_document_count()\n",
    "b_size = 10000\n",
    "n_batches = n_pis // b_size\n",
    "if n_batches < 1:\n",
    "    n_batches = 1\n",
    "remain = n_pis % b_size"
   ]
  },
  {
   "cell_type": "code",
   "execution_count": 33,
   "metadata": {},
   "outputs": [
    {
     "name": "stdout",
     "output_type": "stream",
     "text": [
      "['54730572218636845']\n",
      "['54730572218636845']\n",
      "None\n"
     ]
    }
   ],
   "source": [
    "last = \"0\"\n",
    "\n",
    "for batch in range(n_batches):\n",
    "    skip = batch * b_size\n",
    "    data = get_soft_meth(b_size, skip, last, \"free-energy\")\n",
    "    last = update_ms(data, software, methods)\n",
    "    print(last)\n",
    "    if last is None:\n",
    "        break"
   ]
  },
  {
   "cell_type": "code",
   "execution_count": null,
   "metadata": {},
   "outputs": [],
   "source": [
    "methods"
   ]
  },
  {
   "cell_type": "code",
   "execution_count": null,
   "metadata": {},
   "outputs": [],
   "source": [
    "pe = []\n",
    "# for batch in range(n_batches):\n",
    "#     skip = batch * b_size\n",
    "# print(skip)\n",
    "data = db.property_instances.aggregate(\n",
    "    [\n",
    "        {\"$match\": {\"type\": \"potential-energy\"}},\n",
    "        # {\"$limit\": 1},\n",
    "        {\"$count\": \"totalDocuments\"},\n",
    "    ]\n",
    ")\n",
    "# update_ms(data, software, methods)\n",
    "print(list(data))"
   ]
  },
  {
   "cell_type": "code",
   "execution_count": null,
   "metadata": {},
   "outputs": [],
   "source": [
    "with open(\"software_no_oc.txt\", \"a\") as f:\n",
    "    f.write(str(software))\n",
    "with open(\"methods_no_oc.txt\", \"a\") as f:\n",
    "    f.write(str(methods))"
   ]
  },
  {
   "cell_type": "code",
   "execution_count": null,
   "metadata": {},
   "outputs": [],
   "source": [
    "def main():\n",
    "    methods = defaultdict(int)\n",
    "    software = defaultdict(int)\n",
    "    n_pis = db.property_instances.estimated_document_count()\n",
    "    b_size = 1000000\n",
    "    n_batches = n_pis // b_size\n",
    "    remain = n_pis % b_size\n",
    "    for batch in range(n_batches):\n",
    "        skip = batch * b_size\n",
    "        print(skip)\n",
    "        data = get_soft_meth(b_size, skip, typ)\n",
    "        update_ms(data, software, methods)"
   ]
  },
  {
   "cell_type": "code",
   "execution_count": null,
   "metadata": {},
   "outputs": [],
   "source": [
    "with open(\"pub_dois_2023-6-8.txt\", \"r\") as f:\n",
    "    dois = f.readlines()\n"
   ]
  }
 ],
 "metadata": {
  "kernelspec": {
   "display_name": "venv",
   "language": "python",
   "name": "python3"
  },
  "language_info": {
   "codemirror_mode": {
    "name": "ipython",
    "version": 3
   },
   "file_extension": ".py",
   "mimetype": "text/x-python",
   "name": "python",
   "nbconvert_exporter": "python",
   "pygments_lexer": "ipython3",
   "version": "3.8.0"
  },
  "orig_nbformat": 4
 },
 "nbformat": 4,
 "nbformat_minor": 2
}
