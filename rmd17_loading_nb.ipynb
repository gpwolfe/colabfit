{
 "cells": [
  {
   "cell_type": "code",
   "execution_count": 1,
   "metadata": {},
   "outputs": [],
   "source": [
    "import ase\n",
    "from ase import Atoms\n",
    "from colabfit.tools.database import MongoDatabase, load_data\n",
    "from colabfit.tools.property_settings import PropertySettings\n",
    "from colabfit.tools.configuration import AtomicConfiguration\n",
    "from colabfit.tools.property_definitions import potential_energy_pd, atomic_forces_pd\n",
    "import numpy as np\n",
    "from pathlib import Path"
   ]
  },
  {
   "cell_type": "code",
   "execution_count": 2,
   "metadata": {},
   "outputs": [],
   "source": [
    "DATASET_FP = Path(\"/Users/piper/Code/colabfit/data/rmd17\")\n",
    "client = MongoDatabase('test',drop_database=True)\n"
   ]
  },
  {
   "cell_type": "code",
   "execution_count": 3,
   "metadata": {},
   "outputs": [],
   "source": [
    "def reader(file):\n",
    "    atoms = []\n",
    "    with np.load(file) as npz:\n",
    "        npz = np.load(file)\n",
    "        for coords, energy, forces, md17_index in zip(\n",
    "            npz[\"coords\"], npz[\"energies\"],\n",
    "            npz[\"forces\"], npz[\"old_indices\"]\n",
    "            ):\n",
    "            atoms.append(\n",
    "                Atoms(\n",
    "                    numbers=npz['nuclear_charges'],\n",
    "                    positions=coords,\n",
    "                    info={\n",
    "                        \"name\": file.stem,\n",
    "                        \"energy\": energy,\n",
    "                        \"forces\": forces,\n",
    "                        \"md17_index\": md17_index\n",
    "                    },\n",
    "                )\n",
    "            )\n",
    "    return atoms"
   ]
  },
  {
   "cell_type": "code",
   "execution_count": 4,
   "metadata": {},
   "outputs": [
    {
     "name": "stderr",
     "output_type": "stream",
     "text": [
      "10it [00:06,  1.46it/s]\n"
     ]
    }
   ],
   "source": [
    "configurations = load_data(\n",
    "    file_path=DATASET_FP,\n",
    "    file_format='folder', \n",
    "    name_field='name',  \n",
    "    elements=['C', 'H', 'O', 'N'],\n",
    "    reader=reader,\n",
    "    glob_string='*.npz',\n",
    "    generator=False,\n",
    ")"
   ]
  },
  {
   "cell_type": "code",
   "execution_count": 5,
   "metadata": {},
   "outputs": [],
   "source": [
    "client.insert_property_definition(potential_energy_pd)\n",
    "client.insert_property_definition(atomic_forces_pd)"
   ]
  },
  {
   "cell_type": "code",
   "execution_count": 6,
   "metadata": {},
   "outputs": [],
   "source": [
    "metadata = { 'software': {'value':'ORCA'},\n",
    "            'method': {'value':'DFT-PBE def2-SVP'}\n",
    "}\n",
    "property_map = {\n",
    "    'potential-energy': [{\n",
    "        'energy':   {'field': 'energy',  'units': 'kcal/mol'},\n",
    "        'per-atom': {'value': False, 'units': None},\n",
    "        '_metadata': metadata\n",
    "    }],\n",
    "\n",
    "    'atomic-forces': [{\n",
    "        'forces':   {'field': 'forces',  'units': 'kcal/mol/angstrom'},\n",
    "            '_metadata': metadata\n",
    "\n",
    "    }],\n",
    "}"
   ]
  },
  {
   "cell_type": "code",
   "execution_count": 7,
   "metadata": {},
   "outputs": [
    {
     "name": "stderr",
     "output_type": "stream",
     "text": [
      "Preparing to add configurations to Database: 100%|██████████| 2000/2000 [00:04<00:00, 458.97it/s]\n"
     ]
    }
   ],
   "source": [
    "ids = list(client.insert_data(\n",
    "    configurations,\n",
    "    property_map=property_map,\n",
    "    generator=False,\n",
    "    verbose=True\n",
    "))\n",
    "\n",
    "all_co_ids, all_do_ids = list(zip(*ids))"
   ]
  },
  {
   "cell_type": "code",
   "execution_count": 8,
   "metadata": {},
   "outputs": [
    {
     "name": "stdout",
     "output_type": "stream",
     "text": [
      "Configuration set 0 (rmd17_configurations):    2000\n",
      "Configuration set 1             (aspirin):     200\n",
      "Configuration set 2          (azobenzene):     200\n",
      "Configuration set 3             (benzene):     400\n",
      "Configuration set 4             (ethanol):     200\n",
      "Configuration set 5       (malonaldehyde):     200\n",
      "Configuration set 6         (naphthalene):     200\n",
      "Configuration set 7         (paracetamol):     200\n",
      "Configuration set 8           (salicylic):     200\n",
      "Configuration set 9             (toluene):     200\n",
      "Configuration set 10              (uracil):     200\n"
     ]
    }
   ],
   "source": [
    "cs_regexes = [\n",
    "    ['rmd17_configurations',\n",
    "     '.*',\n",
    "     'All rmd17 configurations'\n",
    "    ],\n",
    "    ['aspirin',\n",
    "     'aspirin',\n",
    "     'All aspirin rmd17 configurations'\n",
    "    ],\n",
    "    ['azobenzene',\n",
    "     'azobenzene',\n",
    "     'All azobenzene rmd17 configurations'\n",
    "    ],\n",
    "    ['benzene',\n",
    "     'benzene',\n",
    "     'All benzene rmd17 configurations'\n",
    "    ],\n",
    "    ['ethanol',\n",
    "     'ethanol',\n",
    "     'All ethanol rmd17 configurations'\n",
    "    ],\n",
    "    ['malonaldehyde',\n",
    "     'malonaldehyde',\n",
    "     'All malonaldehyde rmd17 configurations'\n",
    "    ],\n",
    "    ['naphthalene',\n",
    "     'naphthalene',\n",
    "     'All naphthalene rmd17 configurations'\n",
    "    ],\n",
    "    ['paracetamol',\n",
    "     'paracetamol',\n",
    "     'All paracetamol rmd17 configurations'\n",
    "    ],\n",
    "    ['salicylic',\n",
    "     'salicylic',\n",
    "     'All salicylic rmd17 configurations'\n",
    "    ],\n",
    "    ['toluene',\n",
    "     'toluene',\n",
    "     'All toluene rmd17 configurations'\n",
    "    ],\n",
    "    ['uracil',\n",
    "     'uracil',\n",
    "     'All uracil rmd17 configurations'\n",
    "    ],\n",
    "]\n",
    "\n",
    "cs_ids = []\n",
    "\n",
    "for i, (name, regex, desc) in enumerate(cs_regexes):\n",
    "    co_ids = client.get_data(\n",
    "        'configurations',\n",
    "        fields='hash',\n",
    "        query={'hash': {'$in': all_co_ids}, 'names': {'$regex': regex}},\n",
    "        ravel=True\n",
    "    ).tolist()\n",
    "\n",
    "    print(f'Configuration set {i}', f'({name}):'.rjust(22), f'{len(co_ids)}'.rjust(7))\n",
    "    \n",
    "    if len(co_ids) > 0:\n",
    "        cs_id = client.insert_configuration_set(co_ids, description=desc,name=name)\n",
    "\n",
    "        cs_ids.append(cs_id)"
   ]
  },
  {
   "cell_type": "code",
   "execution_count": 9,
   "metadata": {},
   "outputs": [
    {
     "name": "stderr",
     "output_type": "stream",
     "text": [
      "Aggregating configuration info: 100%|██████████| 2000/2000 [00:00<00:00, 6497.25it/s]\n",
      "Aggregating data_object info: 100%|██████████| 2000/2000 [00:00<00:00, 16759.12it/s]\n",
      "Updating CA->DS relationships: 100%|██████████| 2000/2000 [00:00<00:00, 81575.06it/s]\n"
     ]
    }
   ],
   "source": [
    "ds_id = client.insert_dataset(\n",
    "    cs_ids,\n",
    "    all_do_ids,\n",
    "    name='rMD17',\n",
    "    authors=[\n",
    "        'A. Christensen, O. A. von Lilienfeld'\n",
    "    ],\n",
    "    links=[\n",
    "        'https://doi.org/10.6084/m9.figshare.12672038.v3',\n",
    "        'https://doi.org/10.48550/arXiv.2007.09593',\n",
    "    ],\n",
    "    description = 'A dataset of 10 molecules (aspirin, '\n",
    "    'azobenzene, benzene, ethanol, malonaldehyde, naphthalene, '\n",
    "    'paracetamol, salicylic, toluene, uracil) with 100,000 structures'\n",
    "    'calculated for each at the PBE/def2-SVP level of theory, using ORCA.',\n",
    "    verbose=True,\n",
    ")"
   ]
  }
 ],
 "metadata": {
  "kernelspec": {
   "display_name": "venv",
   "language": "python",
   "name": "python3"
  },
  "language_info": {
   "codemirror_mode": {
    "name": "ipython",
    "version": 3
   },
   "file_extension": ".py",
   "mimetype": "text/x-python",
   "name": "python",
   "nbconvert_exporter": "python",
   "pygments_lexer": "ipython3",
   "version": "3.8.0"
  },
  "orig_nbformat": 4,
  "vscode": {
   "interpreter": {
    "hash": "cda00fdd2df1dfb76afa143867e38c41c6b496947491a0a99a04064f867acbf2"
   }
  }
 },
 "nbformat": 4,
 "nbformat_minor": 2
}
