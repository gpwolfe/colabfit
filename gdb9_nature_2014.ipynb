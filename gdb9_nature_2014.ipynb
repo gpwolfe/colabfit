{
 "cells": [
  {
   "cell_type": "code",
   "execution_count": 30,
   "metadata": {},
   "outputs": [],
   "source": [
    "from colabfit.tools.database import MongoDatabase, load_data\n",
    "from colabfit.tools.configuration import AtomicConfiguration\n",
    "from collections import defaultdict\n",
    "from pathlib import Path\n",
    "import re"
   ]
  },
  {
   "cell_type": "code",
   "execution_count": 31,
   "metadata": {},
   "outputs": [],
   "source": [
    "import property_definitions_additional as pda"
   ]
  },
  {
   "cell_type": "code",
   "execution_count": 32,
   "metadata": {},
   "outputs": [],
   "source": [
    "client = MongoDatabase('test2',drop_database=True)"
   ]
  },
  {
   "attachments": {},
   "cell_type": "markdown",
   "metadata": {},
   "source": [
    "### Location of dataset"
   ]
  },
  {
   "cell_type": "code",
   "execution_count": 33,
   "metadata": {},
   "outputs": [],
   "source": [
    "DATASET_FP = \"/Users/piper/Code/colabfit/data/gdb9/test_set/\""
   ]
  },
  {
   "attachments": {},
   "cell_type": "markdown",
   "metadata": {},
   "source": [
    "### Parsing and file reading functions"
   ]
  },
  {
   "cell_type": "code",
   "execution_count": 34,
   "metadata": {},
   "outputs": [],
   "source": [
    "HEADER_RE = re.compile(\n",
    "    r\"gdb (?P<index>\\d+)\\s(?P<rotational_a>[-\\d\\.]+)\\s\"\n",
    "    r\"(?P<rotational_b>[-\\d\\.]+)\\s(?P<rotational_c>[-\\d\\.]+)\\s\"\n",
    "    r\"(?P<dipole_moment>[-\\d\\.]+)\\s(?P<isotropic_polarizability>[-\\d\\.]+)\\s(?P<homo>[-\\d\\.]+)\"\n",
    "    r\"\\s(?P<lumo>[-\\d\\.]+)\\s(?P<homo_lumo_gap>[-\\d\\.]+)\\s(?P<elect_spatial_extent>[-\\d\\.]+)\"\n",
    "    r\"\\s(?P<zpve>[-\\d\\.]+)\\s(?P<internal_energy_0>[-\\d\\.]+)\\s(?P<internal_energy_298>[-\\d\\.]+)\\s\"\n",
    "    r\"(?P<enthalpy>[-\\d\\.]+)\\s(?P<free_energy>[-\\d\\.]+)\\s(?P<heat_capacity>[-\\d\\.]+)\"\n",
    ")\n",
    "\n",
    "COORD_RE = re.compile(\n",
    "    r\"(?P<element>[a-zA-Z]{1,2})\\s+(?P<x>\\S+)\\s+\"\n",
    "    r\"(?P<y>\\S+)\\s+(?P<z>\\S+)\\s+(?P<mulliken>\\S+)\"\n",
    ")\n",
    "\n",
    "def properties_parser(re_match, line):\n",
    "    groups = re_match.match(line)\n",
    "    return groups.groupdict().items()\n",
    "\n",
    "def xyz_parser(file_path, header_regex):\n",
    "    file_path = Path(file_path)\n",
    "    name=f\"gdb9_nature_2014\"\n",
    "    elem_coords = defaultdict(list)\n",
    "    n_atoms = int()\n",
    "    property_dict = defaultdict(float)\n",
    "    with open(file_path, 'r') as f:\n",
    "        line_num = 0\n",
    "        for line in f:\n",
    "            if line_num == 0:\n",
    "                n_atoms = int(line)\n",
    "                line_num += 1\n",
    "            elif line_num == 1:\n",
    "                for k, v in properties_parser(HEADER_RE ,line):\n",
    "                    if v == '-':\n",
    "                        pass\n",
    "                    else:\n",
    "                        property_dict[k] = float(v)\n",
    "                line_num += 1\n",
    "            elif line_num < n_atoms + 2:\n",
    "                if \"*^\" in line:\n",
    "                    line = line.replace(\"*^\", \"e\")\n",
    "                elem_coord_items = properties_parser(COORD_RE, line)\n",
    "                try:\n",
    "                    for elem_coord, val in elem_coord_items:\n",
    "                        elem_coords[elem_coord].append(val)\n",
    "                except ValueError:\n",
    "                    print(\"ValueError at {line} in {file_path}\")\n",
    "                line_num += 1\n",
    "            else:    \n",
    "                return name, n_atoms, elem_coords, property_dict\n",
    "\n",
    "def reader(file_path):\n",
    "    name, n_atoms, elem_coords, properties = xyz_parser(file_path, HEADER_RE)\n",
    "    positions = list(\n",
    "            zip(elem_coords[\"x\"], elem_coords[\"y\"], elem_coords[\"z\"])\n",
    "        )\n",
    "    atoms = AtomicConfiguration(\n",
    "            names=[name], symbols=elem_coords[\"element\"], positions=positions\n",
    "        )\n",
    "    atoms.info['name'] = name\n",
    "    atoms.info['n_atoms'] = n_atoms\n",
    "    for key in properties.keys():\n",
    "        atoms.info[key] = properties[key]\n",
    "    return [atoms]\n"
   ]
  },
  {
   "attachments": {},
   "cell_type": "markdown",
   "metadata": {},
   "source": [
    "### Load configurations"
   ]
  },
  {
   "cell_type": "code",
   "execution_count": 35,
   "metadata": {},
   "outputs": [
    {
     "name": "stderr",
     "output_type": "stream",
     "text": [
      "10785it [00:14, 742.65it/s]\n"
     ]
    }
   ],
   "source": [
    "configurations = load_data(\n",
    "    # Data can be downloaded here:\n",
    "    # 'https://doi.org/10.6084/m9.figshare.c.978904.v5'\n",
    "    file_path=DATASET_FP, \n",
    "    file_format='folder', \n",
    "    name_field='name',  \n",
    "    elements=['C', 'H', 'O', 'N', 'F'],\n",
    "    reader=reader,\n",
    "    glob_string='*.xyz',\n",
    "    generator=False,\n",
    ")"
   ]
  },
  {
   "cell_type": "code",
   "execution_count": 36,
   "metadata": {},
   "outputs": [],
   "source": [
    "pds = [pda.free_energy_pd, pda.dipole_moment_pd, pda.electronic_spatial_extent_pd, pda.enthalpy_pd,\n",
    "pda.homo_energy_pd, pda.lumo_energy_pd, pda.polarizability_pd, pda.homo_lumo_gap_pd, pda.internal_energy_pd,\n",
    "pda.zpve_pd, pda.heat_capacity_pd]\n",
    "for pd in pds:\n",
    "    client.insert_property_definition(pd)"
   ]
  },
  {
   "cell_type": "code",
   "execution_count": 37,
   "metadata": {},
   "outputs": [],
   "source": [
    "metadata = { 'software': {'value':['MOPAC', 'Gaussian 09']},\n",
    "            'method': {'value':['DFT', 'B3LYP','6-31G(2df,p)']}\n",
    "}\n",
    "property_map_1 = {\n",
    "    'free-energy': [{\n",
    "        'energy':   {'field': 'free_energy',  'units': 'Ha'},\n",
    "        'per-atom': {'value': False, 'units': None},\n",
    "        'temperature' : {'value': 298.25, 'units': 'K'},\n",
    "        '_metadata': metadata\n",
    "        }],\n",
    "    'dipole-moment': [{\n",
    "        'dipole-moment':   {'field': 'dipole_moment',  'units': 'Debye'},\n",
    "        'per-atom': {'value': False, 'units': None},\n",
    "        '_metadata': metadata\n",
    "        }],\n",
    "    'lumo-energy': [{\n",
    "        'energy':   {'field': 'lumo',  'units': 'Ha'},\n",
    "        'per-atom': {'value': False, 'units': None},\n",
    "        '_metadata': metadata\n",
    "        }],\n",
    "    'homo-energy': [{\n",
    "        'energy':   {'field': 'homo',  'units': 'Ha'},\n",
    "        'per-atom': {'value': False, 'units': None},\n",
    "        '_metadata': metadata\n",
    "        }],\n",
    "    'homo-lumo-gap': [{\n",
    "        'homo-lumo-gap':   {'field': 'homo_lumo_gap',  'units': 'Ha'},\n",
    "        'per-atom': {'value': False, 'units': None},\n",
    "        '_metadata': metadata\n",
    "        }],\n",
    "    'polarizability': [{\n",
    "        'polarizability':   {'field': 'polarizability',  'units': 'Bohr^3'},\n",
    "        'iso-aniso': {'value': 'isotropic', 'units': None},\n",
    "        'di-quad': {'value': 'dipole', 'units': None},\n",
    "        'per-atom': {'value': False, 'units': None},\n",
    "        '_metadata': metadata\n",
    "        }],\n",
    "    'electronic-spatial-extent': [{\n",
    "        'electronic-spatial-extent':   {'field': 'elec_spatial_extent',  'units': 'Bohr^2'},\n",
    "        'per-atom': {'value': False, 'units': None},\n",
    "        '_metadata': metadata\n",
    "        }],\n",
    "    'zpve': [{\n",
    "        'zpve':   {'field': 'zpve',  'units': 'Ha'},\n",
    "        'per-atom': {'value': False, 'units': None},\n",
    "        '_metadata': metadata\n",
    "        }],\n",
    "    'internal-energy': [{\n",
    "        'energy':   {'field': 'internal_energy_0',  'units': 'Ha'},\n",
    "        'per-atom': {'value': False, 'units': None},\n",
    "        'temperature': {'value': 0, 'units': 'K'},\n",
    "        '_metadata': metadata\n",
    "        }],\n",
    "    'enthalpy': [{\n",
    "        'enthalpy':   {'field': 'enthalpy',  'units': 'Ha'},\n",
    "        'per-atom': {'value': False, 'units': None},\n",
    "        'temperature': {'value': 298.15, 'units': 'K'},\n",
    "        '_metadata': metadata\n",
    "        }],\n",
    "    'heat-capacity': [{\n",
    "        'heat-capacity':   {'field': 'heat-capacity',  'units': 'cal/(mol K)'},\n",
    "        'per-atom': {'value': False, 'units': None},\n",
    "        'temperature': {'value': 298, 'units': 'K'},\n",
    "        '_metadata': metadata\n",
    "        }],\n",
    "    \n",
    "    \n",
    "}\n",
    "\n",
    "property_map_2 = {\n",
    "    'internal-energy': [{\n",
    "        'energy':   {'field': 'internal_energy_298',  'units': 'Ha'},\n",
    "        'per-atom': {'value': False, 'units': None},\n",
    "        'temperature': {'value': 298, 'units': 'K'},\n",
    "        '_metadata': metadata\n",
    "        }],\n",
    "}"
   ]
  },
  {
   "cell_type": "code",
   "execution_count": 38,
   "metadata": {},
   "outputs": [
    {
     "name": "stderr",
     "output_type": "stream",
     "text": [
      "Preparing to add configurations to Database: 100%|██████████| 10785/10785 [02:43<00:00, 65.89it/s]\n",
      "/Users/piper/Code/colabfit/venv/lib/python3.8/site-packages/colabfit/tools/database.py:1102: UserWarning: 60991 duplicate properties detected\n",
      "  warnings.warn(\n",
      "Preparing to add configurations to Database: 100%|██████████| 10785/10785 [00:20<00:00, 518.73it/s]\n",
      "/Users/piper/Code/colabfit/venv/lib/python3.8/site-packages/colabfit/tools/database.py:1095: UserWarning: 10785 duplicate configurations detected\n",
      "  warnings.warn(\n",
      "/Users/piper/Code/colabfit/venv/lib/python3.8/site-packages/colabfit/tools/database.py:1102: UserWarning: 18 duplicate properties detected\n",
      "  warnings.warn(\n",
      "/Users/piper/Code/colabfit/venv/lib/python3.8/site-packages/colabfit/tools/database.py:1126: UserWarning: 1 duplicate metadata objects detected\n",
      "  warnings.warn(\n"
     ]
    }
   ],
   "source": [
    "ids = list(client.insert_data(\n",
    "    configurations,\n",
    "    property_map=property_map_1,\n",
    "    generator=False,\n",
    "    verbose=True\n",
    "))\n",
    "client.insert_data(\n",
    "    configurations,\n",
    "    property_map=property_map_2,\n",
    "    generator=False,\n",
    "    verbose=True\n",
    ")\n",
    "all_co_ids, all_do_ids = list(zip(*ids))"
   ]
  },
  {
   "cell_type": "code",
   "execution_count": 39,
   "metadata": {},
   "outputs": [
    {
     "name": "stdout",
     "output_type": "stream",
     "text": [
      "Configuration set                (GDB_9):   10785\n"
     ]
    }
   ],
   "source": [
    "hashes = client.get_data('configurations', fields=['hash'])\n",
    "name = 'GDB_9'\n",
    "cs_ids = []\n",
    "co_ids = client.get_data(\n",
    "    'configurations',\n",
    "    fields='hash',\n",
    "    query={'hash': {'$in': hashes}},\n",
    "    ravel=True\n",
    ").tolist()\n",
    "\n",
    "print(f'Configuration set ', f'({name}):'.rjust(22), f'{len(co_ids)}'.rjust(7))\n",
    "\n",
    "cs_id = client.insert_configuration_set(co_ids, description=f\"Set from dataset {name}\", name=name)\n",
    "\n",
    "cs_ids.append(cs_id)"
   ]
  },
  {
   "cell_type": "code",
   "execution_count": 40,
   "metadata": {},
   "outputs": [
    {
     "name": "stderr",
     "output_type": "stream",
     "text": [
      "Aggregating configuration info: 100%|██████████| 10785/10785 [00:01<00:00, 6452.52it/s] \n",
      "Aggregating data_object info: 100%|██████████| 10785/10785 [00:00<00:00, 26099.92it/s]\n",
      "Updating CA->DS relationships: 100%|██████████| 10785/10785 [00:00<00:00, 28701.90it/s]\n"
     ]
    }
   ],
   "source": [
    "ds_id = client.insert_dataset(\n",
    "    cs_ids,\n",
    "    all_do_ids,\n",
    "    name='GDB_9_nature_2014',\n",
    "    authors=[\n",
    "        'R. Ramakrishnan, P.O. Dral, M. Rupp, O.A. von Lilienfeld'\n",
    "    ],\n",
    "    links=[\n",
    "        'https://doi.org/10.6084/m9.figshare.c.978904.v5',\n",
    "        'https://doi.org/10.1038/sdata.2014.22'\n",
    "    ],\n",
    "    description = \"133,855 of stable small organic molecules composed of CHONF. \"\n",
    "    \"A subset of GDB-17, with calculations of energies, dipole moment, polarizability\"\n",
    "    \"and enthalpy. Calculations performed at B3LYP/6-31G(2df,p) level of theory\",\n",
    "    verbose=True,\n",
    ")"
   ]
  }
 ],
 "metadata": {
  "kernelspec": {
   "display_name": "venv",
   "language": "python",
   "name": "python3"
  },
  "language_info": {
   "codemirror_mode": {
    "name": "ipython",
    "version": 3
   },
   "file_extension": ".py",
   "mimetype": "text/x-python",
   "name": "python",
   "nbconvert_exporter": "python",
   "pygments_lexer": "ipython3",
   "version": "3.8.0"
  },
  "orig_nbformat": 4,
  "vscode": {
   "interpreter": {
    "hash": "cda00fdd2df1dfb76afa143867e38c41c6b496947491a0a99a04064f867acbf2"
   }
  }
 },
 "nbformat": 4,
 "nbformat_minor": 2
}
