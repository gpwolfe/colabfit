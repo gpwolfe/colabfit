{
 "cells": [
  {
   "cell_type": "code",
   "execution_count": 1,
   "metadata": {},
   "outputs": [],
   "source": [
    "from colabfit.tools.database import MongoDatabase, load_data\n",
    "from colabfit.tools.configuration import AtomicConfiguration\n",
    "from colabfit.tools.property_definitions import atomic_forces_pd\n",
    "import property_definitions_additional as pda\n",
    "from collections import defaultdict\n",
    "import numpy as np"
   ]
  },
  {
   "cell_type": "code",
   "execution_count": 2,
   "metadata": {},
   "outputs": [],
   "source": [
    "DATASET_FP = \"/Users/piper/Code/colabfit/data/brass_data/\""
   ]
  },
  {
   "cell_type": "code",
   "execution_count": 3,
   "metadata": {},
   "outputs": [],
   "source": [
    "client = MongoDatabase('test', drop_database=True)"
   ]
  },
  {
   "cell_type": "code",
   "execution_count": 4,
   "metadata": {},
   "outputs": [],
   "source": [
    "def read_npz(filepath):\n",
    "    data = defaultdict(list)\n",
    "    with np.load(filepath, allow_pickle=True) as f:\n",
    "        for key in f.files:\n",
    "            data[key] = f[key]\n",
    "    return data\n",
    "\n",
    "def reader(filepath):\n",
    "    name = \"alpha-brass-nanoparticles\"\n",
    "    data = read_npz(filepath)\n",
    "    old_keys = ('coords', 'latt', 'z', 'F', 'E', 'E_coh',\n",
    "        'comp', 'cmts', 'theory', 'name', 'citation')\n",
    "\n",
    "    new_keys = (\"coords\", \"lattice\", \"atomic_num\", \"forces\", \n",
    "        \"total_energy\", \"cohesive_energy\", \"composition_dict\", \n",
    "        \"comments\", \"vasp_pbe\", \"citation\")\n",
    "    for old, new in zip(old_keys, new_keys):\n",
    "        data[new] = data.pop(old)\n",
    "\n",
    "    atoms = [AtomicConfiguration(\n",
    "        names=[name],\n",
    "        positions=data['coords'][i],\n",
    "        cell=data['lattice'][i],\n",
    "        numbers=data['atomic_num'][i],\n",
    "        pbc=True,\n",
    "        ) for i, val in enumerate(data['coords'])]\n",
    "    using_keys = ('forces', 'total_energy')\n",
    "    for i, atom in enumerate(atoms):\n",
    "        for key in using_keys:\n",
    "            atom.info[key] = data[key][i]\n",
    "        atom.info['name'] = name\n",
    "    return atoms"
   ]
  },
  {
   "cell_type": "code",
   "execution_count": 5,
   "metadata": {},
   "outputs": [
    {
     "name": "stderr",
     "output_type": "stream",
     "text": [
      "1it [00:33, 33.97s/it]\n"
     ]
    }
   ],
   "source": [
    "configurations = load_data(\n",
    "    #Data can be downloaded here: 'https://archive.materialscloud.org/record/2021.153'\n",
    "    file_path=DATASET_FP, \n",
    "    file_format='folder', \n",
    "    name_field='name',  \n",
    "    elements=['Cu', 'Zn'],\n",
    "    reader=reader,\n",
    "    glob_string='*.npz',\n",
    "    generator=False,\n",
    ")"
   ]
  },
  {
   "cell_type": "code",
   "execution_count": 9,
   "metadata": {},
   "outputs": [],
   "source": [
    "pds = [atomic_forces_pd, pda.total_energy_pd]\n",
    "for pd in pds:\n",
    "    client.insert_property_definition(pd)"
   ]
  },
  {
   "cell_type": "code",
   "execution_count": 10,
   "metadata": {},
   "outputs": [],
   "source": [
    "metadata = { 'software': {'value':['LAMMPS', 'VASP']},\n",
    "            'method': {'value':['DFT', 'PBE']}\n",
    "}\n",
    "property_map = {\n",
    "    'total-energy': [{\n",
    "        'energy': {'field': 'total_energy', 'units': 'meV'},\n",
    "        'per-atom': {'value': True, 'units': None}    ,\n",
    "        '_metadata': metadata\n",
    "        }],\n",
    "    'atomic-forces' : [{\n",
    "        'forces': {'field': 'forces', 'units': 'meV Å^-1'},\n",
    "        '_metadata': metadata\n",
    "    }],\n",
    "    \n",
    "}"
   ]
  },
  {
   "cell_type": "code",
   "execution_count": 11,
   "metadata": {},
   "outputs": [
    {
     "name": "stderr",
     "output_type": "stream",
     "text": [
      "Preparing to add configurations to Database: 100%|██████████| 300/300 [00:01<00:00, 264.86it/s]\n",
      "/Users/piper/Code/colabfit/venv/lib/python3.8/site-packages/colabfit/tools/database.py:1095: UserWarning: 4 duplicate configurations detected\n",
      "  warnings.warn(\n",
      "/Users/piper/Code/colabfit/venv/lib/python3.8/site-packages/colabfit/tools/database.py:1102: UserWarning: 7 duplicate properties detected\n",
      "  warnings.warn(\n",
      "/Users/piper/Code/colabfit/venv/lib/python3.8/site-packages/colabfit/tools/database.py:1109: UserWarning: 3 duplicate data objects detected\n",
      "  warnings.warn(\n"
     ]
    }
   ],
   "source": [
    "ids = list(client.insert_data(\n",
    "    configurations,\n",
    "    property_map=property_map,\n",
    "    generator=False,\n",
    "    verbose=True\n",
    "))\n",
    "\n",
    "all_co_ids, all_do_ids = list(zip(*ids))"
   ]
  },
  {
   "cell_type": "code",
   "execution_count": 12,
   "metadata": {},
   "outputs": [
    {
     "name": "stdout",
     "output_type": "stream",
     "text": [
      "Configuration set  (alpha-brass-nanoparticles):     296\n",
      "Configuration set  (Cu-only-alpha-brass-nanoparticles):     273\n"
     ]
    }
   ],
   "source": [
    "hashes = client.get_data('configurations', fields=['hash'])\n",
    "\n",
    "name = \"alpha-brass-nanoparticles\"\n",
    "cs_ids = []\n",
    "co_ids = client.get_data(\n",
    "    'configurations',\n",
    "    fields='hash',\n",
    "    query={'hash': {'$in': hashes}},\n",
    "    ravel=True\n",
    ").tolist()\n",
    "\n",
    "\n",
    "print(f'Configuration set ', f'({name}):'.rjust(22), f'{len(co_ids)}'.rjust(7))\n",
    "\n",
    "cs_id = client.insert_configuration_set(co_ids, description=f\"Set of {name}\", name=name)\n",
    "cs_ids.append(cs_id)\n",
    "\n",
    "# Gather copper-only set\n",
    "name='Cu-only-alpha-brass-nanoparticles'\n",
    "cu_ids = client.get_data(\n",
    "    'configurations',\n",
    "    fields=['hash', 'nelements'],\n",
    "    query={'hash': {'$in': hashes}, \n",
    "        'nelements': {'$eq': 1}},\n",
    "        ravel=True\n",
    "        )['hash']\n",
    "print(f'Configuration set ', f'({name}):'.rjust(22), f'{len(cu_ids)}'.rjust(7))\n",
    "\n",
    "cs_id = client.insert_configuration_set(cu_ids,\n",
    "    description=\"Set from alpha-brass nanoparticles dataset containing only copper\",\n",
    "    name=name)\n",
    "\n",
    "cs_ids.append(cs_id)"
   ]
  },
  {
   "cell_type": "code",
   "execution_count": 13,
   "metadata": {},
   "outputs": [],
   "source": [
    "cuzn_ids = cu_ids = client.get_data(\n",
    "    'configurations',\n",
    "    fields=['hash', 'nelements'],\n",
    "    query={'hash': {'$in': hashes}, \n",
    "        'nelements': {'$eq': 2}},\n",
    "        ravel=True\n",
    "        )['hash']\n",
    "cs_id = client.insert_configuration_set(cuzn_ids,\n",
    "    description=\"Set from alpha-brass nanoparticles dataset containing copper and zinc (i.e., no copper-only molecules)\",\n",
    "    name='CuZn-only-alpha-brass-nanoparticles')\n",
    "cs_ids.append(cs_id)"
   ]
  },
  {
   "cell_type": "code",
   "execution_count": 14,
   "metadata": {},
   "outputs": [
    {
     "name": "stderr",
     "output_type": "stream",
     "text": [
      "Aggregating configuration info: 100%|██████████| 296/296 [00:00<00:00, 4282.53it/s]\n",
      "Aggregating data_object info: 100%|██████████| 297/297 [00:00<00:00, 9666.02it/s]\n",
      "Updating CA->DS relationships: 100%|██████████| 297/297 [00:00<00:00, 9715.09it/s]\n"
     ]
    }
   ],
   "source": [
    "ds_id = client.insert_dataset(\n",
    "    cs_ids,\n",
    "    all_do_ids,\n",
    "    name='alpha_brass_nanoparticles',\n",
    "    authors=[\n",
    "        'J. Weinreich, A. Römer, M.L. Paleico, J. Behler'\n",
    "    ],\n",
    "    links=[\n",
    "        \"http://doi.org/10.1021/acs.jpcc.0c00559\",\n",
    "    \"https://doi.org/10.24435/materialscloud:94-aq\"\n",
    "    ],\n",
    "    description = \"53,841 structures of alpha-brass (less than 40% Zinc).\"\n",
    "    \" Includes atomic forces and total energy. Calculated using VASP at \"\n",
    "    \"the DFT level of theory.\",\n",
    "    verbose=True,\n",
    ")\n"
   ]
  },
  {
   "cell_type": "code",
   "execution_count": null,
   "metadata": {},
   "outputs": [],
   "source": []
  }
 ],
 "metadata": {
  "kernelspec": {
   "display_name": "venv",
   "language": "python",
   "name": "python3"
  },
  "language_info": {
   "codemirror_mode": {
    "name": "ipython",
    "version": 3
   },
   "file_extension": ".py",
   "mimetype": "text/x-python",
   "name": "python",
   "nbconvert_exporter": "python",
   "pygments_lexer": "ipython3",
   "version": "3.8.0"
  },
  "orig_nbformat": 4,
  "vscode": {
   "interpreter": {
    "hash": "cda00fdd2df1dfb76afa143867e38c41c6b496947491a0a99a04064f867acbf2"
   }
  }
 },
 "nbformat": 4,
 "nbformat_minor": 2
}
