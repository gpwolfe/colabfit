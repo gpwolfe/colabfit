{
 "cells": [
  {
   "cell_type": "code",
   "execution_count": 1,
   "metadata": {},
   "outputs": [],
   "source": [
    "from colabfit.tools.configuration import AtomicConfiguration\n",
    "from colabfit.tools.database import MongoDatabase, load_data\n",
    "from colabfit.tools.property_definitions import (\n",
    "    atomic_forces_pd,\n",
    "    cauchy_stress_pd,\n",
    "    potential_energy_pd,\n",
    ")\n",
    "import numpy as np\n",
    "from pathlib import Path\n",
    "import sys"
   ]
  },
  {
   "cell_type": "code",
   "execution_count": 68,
   "metadata": {},
   "outputs": [],
   "source": [
    "DATASET_FP = Path(\"data/23-Single-Element-DNPs-main/Training_Data\")\n",
    "DATASET = \"23-DNPs-RSCDD-2023\"\n",
    "\n",
    "LINKS = [\n",
    "    \"https://doi.org/10.1039/D3DD00046J\",\n",
    "    \"https://github.com/saidigroup/23-Single-Element-DNPs\",\n",
    "]\n",
    "AUTHORS = [\"Christopher M. Andolina\", \"Wissam A. Saidi\"]\n",
    "DS_DESC = (\n",
    "    \"Minimalist, curated sets of DFT-calculated properties for many \"\n",
    "    \"individual elements for the purpose of providing input to machine learning of \"\n",
    "    \"atomic potentials. Each element set contains on average ~4000 structures with \"\n",
    "    \"27 atoms per structure.\"\n",
    ")\n",
    "ELEMENTS = [\n",
    "    \"Ag\",\n",
    "    \"Al\",\n",
    "    \"Au\",\n",
    "    \"Co\",\n",
    "    \"Cu\",\n",
    "    \"Ge\",\n",
    "    \"I\",\n",
    "    \"Kr\",\n",
    "    \"Li\",\n",
    "    \"Mg\",\n",
    "    \"Mo\",\n",
    "    \"Nb\",\n",
    "    \"Ni\",\n",
    "    \"Os\",\n",
    "    \"Pb\",\n",
    "    # \"Pd\",\n",
    "    # \"Pt\",\n",
    "    # \"Re\",\n",
    "    # \"Sb\",\n",
    "    # \"Sr\",\n",
    "    # \"Ti\",\n",
    "    # \"Zn\",\n",
    "    # \"Zr\",\n",
    "]\n",
    "GLOB_STR = \"box.npy\"\n",
    "METHODS = \"DFT-PBE\"\n",
    "SOFTWARE = \"VASP\"\n"
   ]
  },
  {
   "cell_type": "code",
   "execution_count": 60,
   "metadata": {},
   "outputs": [],
   "source": [
    "def assemble_props(filepath: Path, element: str):\n",
    "    props = {}\n",
    "    prop_paths = list(filepath.parent.glob(\"*.npy\"))\n",
    "    for p in prop_paths:\n",
    "        key = p.stem\n",
    "        props[key] = np.load(p)\n",
    "    num_configs = props[\"force\"].shape[0]\n",
    "    num_atoms = props[\"force\"].shape[1] // 3\n",
    "    props[\"forces\"] = props[\"force\"].reshape(num_configs, num_atoms, 3)\n",
    "    props[\"coord\"] = props[\"coord\"].reshape(num_configs, num_atoms, 3)\n",
    "    props[\"box\"] = props[\"box\"].reshape(num_configs, 3, 3)\n",
    "    virial = props.get(\"virial\")\n",
    "    if virial is not None:\n",
    "        props[\"virial\"] = virial.reshape(num_configs, 3, 3)\n",
    "    props[\"symbols\"] = [element for i in range(props[\"coord\"].shape[1])]\n",
    "    return props"
   ]
  },
  {
   "cell_type": "code",
   "execution_count": 66,
   "metadata": {},
   "outputs": [],
   "source": [
    "def reader(filepath: Path, element: str):\n",
    "    start_part = filepath.parts.index(element)\n",
    "    name_parts = filepath.parts[start_part:-2]\n",
    "    name = \"_\".join(name_parts)\n",
    "    for part in name_parts:\n",
    "        if part.isdigit():\n",
    "            temp = int(part)\n",
    "        if \"_mp-\" in part:\n",
    "            mp_id = part.split(\"_\")[1]\n",
    "\n",
    "    props = assemble_props(filepath, element)\n",
    "    configs = [\n",
    "        AtomicConfiguration(\n",
    "            symbols=props[\"symbols\"], positions=pos, cell=props[\"box\"][i]\n",
    "        )\n",
    "        for i, pos in enumerate(props[\"coord\"])\n",
    "    ]\n",
    "    energy = props.get(\"energy\")\n",
    "    for i, c in enumerate(configs):\n",
    "        c.info[\"forces\"] = props[\"forces\"][i]\n",
    "        virial = props.get(\"virial\")\n",
    "        if virial is not None:\n",
    "            c.info[\"virial\"] = virial[i]\n",
    "        # if energy is not None:\n",
    "        c.info[\"energy\"] = float(energy[i])\n",
    "        c.info[\"methods\"] = METHODS\n",
    "        c.info[\"software\"] = SOFTWARE\n",
    "        c.info[\"mp_id\"] = mp_id\n",
    "        c.info[\"name\"] = f\"{name}_{i}\"\n",
    "        if temp is not None:\n",
    "            c.info[\"temp\"] = temp\n",
    "    return configs\n"
   ]
  },
  {
   "cell_type": "code",
   "execution_count": 73,
   "metadata": {},
   "outputs": [],
   "source": [
    "dp = Path(\n",
    "    \"/Users/piper/Code/colabfit/scripts/data/23-Single-Element-DNPs-main/Training_Data/Co/iter1_2_Co/iter1/0_mp-54/elastic/B222_dist03_0/1800/set.000/box.npy\"\n",
    ")"
   ]
  },
  {
   "cell_type": "code",
   "execution_count": 75,
   "metadata": {},
   "outputs": [],
   "source": [
    "data = reader(dp, \"Co\")\n"
   ]
  }
 ],
 "metadata": {
  "kernelspec": {
   "display_name": "venv",
   "language": "python",
   "name": "python3"
  },
  "language_info": {
   "codemirror_mode": {
    "name": "ipython",
    "version": 3
   },
   "file_extension": ".py",
   "mimetype": "text/x-python",
   "name": "python",
   "nbconvert_exporter": "python",
   "pygments_lexer": "ipython3",
   "version": "3.8.0"
  },
  "orig_nbformat": 4
 },
 "nbformat": 4,
 "nbformat_minor": 2
}
