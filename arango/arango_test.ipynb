{
 "cells": [
  {
   "cell_type": "code",
   "execution_count": 17,
   "metadata": {},
   "outputs": [],
   "source": [
    "from pyArango.connection import Connection\n",
    "from pyArango.collection import Collection, Edges, Field\n",
    "from pyArango.graph import Graph, EdgeDefinition\n",
    "\n",
    "# For a local database, view at http://127.0.0.1:8529\n",
    "conn = Connection(username=\"root\", password=\"\")"
   ]
  },
  {
   "attachments": {},
   "cell_type": "markdown",
   "metadata": {},
   "source": [
    "##### Establish connection to the database, create if it doesn't exist"
   ]
  },
  {
   "cell_type": "code",
   "execution_count": 18,
   "metadata": {},
   "outputs": [],
   "source": [
    "if not conn.hasDatabase(\"colabfit\"):\n",
    "    conn.createDatabase(\"colabfit\")\n",
    "db = conn[\"colabfit\"]"
   ]
  },
  {
   "attachments": {},
   "cell_type": "markdown",
   "metadata": {},
   "source": [
    "##### Collection classes"
   ]
  },
  {
   "cell_type": "code",
   "execution_count": 19,
   "metadata": {},
   "outputs": [],
   "source": [
    "\n",
    "class Dataset(Collection):\n",
    "    _fields = {\n",
    "        \"name\": Field(),\n",
    "        \"authors\": Field(),\n",
    "        \"links\": Field(),\n",
    "        \"description\": Field()\n",
    "    }\n",
    "\n",
    "class Configuration(Collection):\n",
    "    _fields = {\n",
    "        # _key is required to be unique\n",
    "        # used here for the 'name' values for indexing purposes\n",
    "        # Doesn't actually have to be included here, as is always created\n",
    "        \"_key\": Field(), \n",
    "        \"positions\": Field(),\n",
    "        \"cell\": Field(),\n",
    "        \"atoms\": Field()\n",
    "    }\n",
    "\n",
    "class Property(Collection):\n",
    "    _fields = {\n",
    "        \"name\": Field(),\n",
    "        \"value\": Field()\n",
    "    }"
   ]
  },
  {
   "attachments": {},
   "cell_type": "markdown",
   "metadata": {},
   "source": [
    "##### Edge classes"
   ]
  },
  {
   "cell_type": "code",
   "execution_count": 20,
   "metadata": {},
   "outputs": [],
   "source": [
    "class DatasetConfig(Edges):\n",
    "    _fields = {}\n",
    "\n",
    "class DatasetProperty(Edges):\n",
    "    _fields = {}\n",
    "\n",
    "class ConfigProperty(Edges):\n",
    "    _fields = {}\n",
    "    "
   ]
  },
  {
   "attachments": {},
   "cell_type": "markdown",
   "metadata": {},
   "source": [
    "##### Create graph object"
   ]
  },
  {
   "cell_type": "code",
   "execution_count": 21,
   "metadata": {},
   "outputs": [],
   "source": [
    "class ColabfitGraph(Graph):\n",
    "    _edgeDefinitions = [\n",
    "        EdgeDefinition(\n",
    "            \"DatasetConfig\",\n",
    "            fromCollections=[\"Dataset\"],\n",
    "            toCollections=[\"Configuration\"],\n",
    "        ),\n",
    "\n",
    "        EdgeDefinition(\n",
    "            \"DatasetProperty\",\n",
    "            fromCollections=[\"Dataset\"],\n",
    "            toCollections=[\"Property\"],\n",
    "        ),\n",
    "\n",
    "        EdgeDefinition(\n",
    "            \"ConfigProperty\",\n",
    "            fromCollections=[\"Configuration\"],\n",
    "            toCollections=[\"Property\"],\n",
    "        ),\n",
    "\n",
    "    ]\n",
    "    _orphanedCollections = []\n"
   ]
  },
  {
   "cell_type": "code",
   "execution_count": 22,
   "metadata": {},
   "outputs": [],
   "source": [
    "if not db.hasGraph('ColabfitGraph'):\n",
    "    graph = db.createGraph(\"ColabfitGraph\")\n",
    "else:\n",
    "    graph = db.graphs['ColabfitGraph']\n",
    "    "
   ]
  },
  {
   "attachments": {},
   "cell_type": "markdown",
   "metadata": {},
   "source": [
    "##### Set up mock dataset"
   ]
  },
  {
   "cell_type": "code",
   "execution_count": 23,
   "metadata": {},
   "outputs": [],
   "source": [
    "\"\"\"\n",
    "There will be three vertex collections (Datasets, Configurations, and Properties) \n",
    "and three edge collections denoting relationships \n",
    "(Dataset<->Configurations, \n",
    " Dataset<->Properties, \n",
    " Configurations<->Properties)\n",
    "\"\"\"\n",
    "\n",
    "# Number of configurations w/ properties to insert into database\n",
    "n_configs = 1000\n",
    "\n",
    "# Contains dictionaries of configurational key-value pairs to insert into database \n",
    "config_l = []\n",
    "\n",
    "# Contains lists of dictionaries of property key-value pairs to insert into database-Two properties for each configuration\n",
    "prop_l = []\n",
    "\n",
    "# Simulated Data\n",
    "for i in range(n_configs):\n",
    "    config_l.append({'name':'name_%s' %i,'atoms':'atoms_%s' %i, 'positions':'positions_%s' %i})\n",
    "    prop_l.append([{'name':'first_property','value': 'fp_%s' %(i%3)},{'name':'second_property','value':'sp_%s' %(i%5)}])\n",
    "# Two Datasets-One contains a subset of data from the other\n",
    "dataset_1 = [*range(int(n_configs/2))] # Let's say this dataset only had \"first_property\" computed for its n_configs/2 configurations\n",
    "dataset_2 = [*range(n_configs)] # This dataset expanded upon the first and both properties were computed \n"
   ]
  },
  {
   "cell_type": "code",
   "execution_count": 25,
   "metadata": {},
   "outputs": [],
   "source": [
    "for i, id in enumerate(dataset_1):\n",
    "    config = graph.createVertex(\n",
    "        collectionName=\"Configuration\",\n",
    "        docAttributes={\n",
    "            \"_key\": config_l[i]['name'],\n",
    "            \"atoms\": config_l[i]['atoms'],\n",
    "            \"positions\": config_l[i]['positions']\n",
    "        }\n",
    "        )\n",
    "    prop = graph.createVertex(\n",
    "        collectionName=\"Property\",\n",
    "        docAttributes={\n",
    "            \"name\": prop_l[i][0]['name'],\n",
    "            \"value\": prop_l[i][0]['value']\n",
    "            }\n",
    "            )\n",
    "    graph.createEdge(\"ConfigProperty\", config['_id'], prop['_id'], {})\n",
    "    \n"
   ]
  },
  {
   "attachments": {},
   "cell_type": "markdown",
   "metadata": {},
   "source": [
    "##### Create the first dataset object in the graph"
   ]
  },
  {
   "cell_type": "code",
   "execution_count": 26,
   "metadata": {},
   "outputs": [],
   "source": [
    "ds1 = graph.createVertex(\n",
    "    \"Dataset\",\n",
    "    {\n",
    "        \"name\": \"Dataset_1\",\n",
    "        \"authors\": [\"Eric Fuemmeler\"],\n",
    "        \"description\": \"A dataset of 500 configurations.\"\n",
    "    }\n",
    ")"
   ]
  },
  {
   "attachments": {},
   "cell_type": "markdown",
   "metadata": {},
   "source": [
    "##### Gather keys for configurations, add configurations to dataset 1"
   ]
  },
  {
   "cell_type": "code",
   "execution_count": 27,
   "metadata": {},
   "outputs": [],
   "source": [
    "aql = \"\"\"\n",
    "    FOR config in Configuration\n",
    "    RETURN config\n",
    "\"\"\"\n",
    "\n",
    "configs = db.AQLQuery(aql, batchSize=1000, rawResults=True)\n",
    "\n",
    "for config in configs:\n",
    "    \n",
    "    graph.createEdge(\"DatasetConfig\", ds1['_id'], config['_id'], edgeAttributes={})"
   ]
  },
  {
   "attachments": {},
   "cell_type": "markdown",
   "metadata": {},
   "source": [
    "##### Connect dataset 1 to property 1"
   ]
  },
  {
   "cell_type": "code",
   "execution_count": 28,
   "metadata": {},
   "outputs": [],
   "source": [
    "aql = \"\"\"\n",
    "    FOR prop in Property\n",
    "    RETURN prop._id\n",
    "\"\"\"\n",
    "ds1_props = db.AQLQuery(aql, batchSize=1000, rawResults=True)\n",
    "\n",
    "for prop in ds1_props:\n",
    "    graph.createEdge(\"DatasetProperty\", ds1['_id'], prop, {})"
   ]
  },
  {
   "cell_type": "code",
   "execution_count": 29,
   "metadata": {},
   "outputs": [],
   "source": [
    "ds2 = graph.createVertex(\n",
    "    \"Dataset\",\n",
    "    {\n",
    "        \"name\": \"Dataset_2\",\n",
    "        \"authors\": [\"Eric Fuemmeler\"],\n",
    "        \"description\": \"A dataset of 1000 configurations.\"\n",
    "    }\n",
    ")\n"
   ]
  },
  {
   "cell_type": "markdown",
   "metadata": {},
   "source": [
    "##### A cleaner addition of edges and vertices\n",
    "##### Adds dataset-property edges without having to find the appropriate vertices again"
   ]
  },
  {
   "cell_type": "code",
   "execution_count": 30,
   "metadata": {},
   "outputs": [],
   "source": [
    "for i, id in enumerate(dataset_2):\n",
    "    config = graph.createVertex(\n",
    "        collectionName=\"Configuration\",\n",
    "        docAttributes={\n",
    "            \"_key\": config_l[i]['name'] + \"_2\",\n",
    "            \"atoms\": config_l[i]['atoms'],\n",
    "            \"positions\": config_l[i]['positions']\n",
    "        }\n",
    "        )\n",
    "    prop = graph.createVertex(\n",
    "        collectionName=\"Property\",\n",
    "        docAttributes={\n",
    "            \"name\": prop_l[i][0]['name'],\n",
    "            \"value\": prop_l[i][0]['value']\n",
    "            }\n",
    "            )\n",
    "    prop2 = graph.createVertex(\n",
    "        collectionName=\"Property\",\n",
    "        docAttributes={\n",
    "            \"name\": prop_l[i][1]['name'],\n",
    "            \"value\": prop_l[i][1]['value']\n",
    "            }\n",
    "            )\n",
    "    graph.createEdge(\"ConfigProperty\", config['_id'], prop['_id'], {})\n",
    "    graph.createEdge(\"ConfigProperty\", config['_id'], prop2['_id'], {})\n",
    "    graph.createEdge(\"DatasetProperty\", ds2['_id'], prop['_id'], {})\n",
    "    graph.createEdge(\"DatasetProperty\", ds2['_id'], prop2['_id'], {})\n"
   ]
  },
  {
   "attachments": {},
   "cell_type": "markdown",
   "metadata": {},
   "source": [
    "##### To clear the database"
   ]
  },
  {
   "cell_type": "code",
   "execution_count": 16,
   "metadata": {},
   "outputs": [],
   "source": [
    "db.dropAllCollections()"
   ]
  }
 ],
 "metadata": {
  "kernelspec": {
   "display_name": "venv",
   "language": "python",
   "name": "python3"
  },
  "language_info": {
   "codemirror_mode": {
    "name": "ipython",
    "version": 3
   },
   "file_extension": ".py",
   "mimetype": "text/x-python",
   "name": "python",
   "nbconvert_exporter": "python",
   "pygments_lexer": "ipython3",
   "version": "3.8.0"
  },
  "orig_nbformat": 4,
  "vscode": {
   "interpreter": {
    "hash": "cda00fdd2df1dfb76afa143867e38c41c6b496947491a0a99a04064f867acbf2"
   }
  }
 },
 "nbformat": 4,
 "nbformat_minor": 2
}
