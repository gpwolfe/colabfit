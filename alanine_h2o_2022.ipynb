{
 "cells": [
  {
   "cell_type": "code",
   "execution_count": null,
   "metadata": {},
   "outputs": [],
   "source": [
    "from ase import Atoms\n",
    "from colabfit.tools.database import MongoDatabase, load_data\n",
    "from colabfit.tools.configuration import AtomicConfiguration\n",
    "from colabfit.tools.property_definitions import atomic_forces_pd, potential_energy_pd\n",
    "from collections import defaultdict\n",
    "import numpy as np\n",
    "from pathlib import Path\n",
    "from pymongo.errors import OperationFailure, InvalidOperation\n",
    "import re"
   ]
  },
  {
   "cell_type": "code",
   "execution_count": null,
   "metadata": {},
   "outputs": [],
   "source": [
    "DATASET_FP = Path(\"/Users/piper/Code/colabfit/data/alanine_h2o_2022/\")\n",
    "water_fp = DATASET_FP / \"water.npy\"\n",
    "alani_fp = DATASET_FP / 'alanine_dipeptide.npy'\n",
    "client = MongoDatabase('----', drop_database=True)"
   ]
  },
  {
   "cell_type": "code",
   "execution_count": null,
   "metadata": {},
   "outputs": [],
   "source": [
    "def water_reader(file_path):\n",
    "    data = np.load(file_path, allow_pickle=True)\n",
    "    data = data.tolist()\n",
    "    return data\n",
    "\n",
    "data = reader(DATASET_FP)\n"
   ]
  },
  {
   "cell_type": "code",
   "execution_count": 17,
   "metadata": {},
   "outputs": [
    {
     "data": {
      "text/plain": [
       "dict_keys(['atomic_number', 'pos', 'force', 'lengths', 'angles'])"
      ]
     },
     "execution_count": 17,
     "metadata": {},
     "output_type": "execute_result"
    }
   ],
   "source": [
    "data.keys()"
   ]
  },
  {
   "cell_type": "code",
   "execution_count": 16,
   "metadata": {},
   "outputs": [
    {
     "data": {
      "text/plain": [
       "(22,)"
      ]
     },
     "execution_count": 16,
     "metadata": {},
     "output_type": "execute_result"
    }
   ],
   "source": [
    "data['atomic_number'].shape"
   ]
  },
  {
   "cell_type": "code",
   "execution_count": null,
   "metadata": {},
   "outputs": [],
   "source": [
    "\n",
    "\n",
    "def water_reader(file_path):\n",
    "    file_path = Path(file_path)\n",
    "    data = np.load(file_path, allow_pickle=True)\n",
    "    data = data.tolist()\n",
    "    # keys: 'wrapped_coords', 'unwrapped_coords', 'forces', 'velocities'\n",
    "    # 'lengths', 'angles', 'raw_types', 'atom_types', 'bond_index', \n",
    "    # 'bond_types', 'e_steps', 'energy'\n",
    "    atoms = []\n",
    "    atoms = [Atoms(numbers=data['atom_types'], positions=data['wrapped_coords'][i]) for i, atom in enumerate(data['wrapped_coords'])]\n",
    "    for i, atom in enumerate(atoms):\n",
    "        atom.info['energy'] = data['energy'][i]\n",
    "        atom.info['forces'] = data['forces'][i]\n",
    "        atom.info['unwrapped_coords'] = data['unwrapped_coords'][i]\n",
    "        atom.info['velocities'] = data['velocities'][i]\n",
    "        atom.info['lengths'] = data['lengths'][i]\n",
    "        atom.info['angles'] = data['angles'][i]\n",
    "        atom.info['e_steps'] = data['e_steps'][i]\n",
    "    return atoms[:1000]\n"
   ]
  },
  {
   "cell_type": "code",
   "execution_count": null,
   "metadata": {},
   "outputs": [],
   "source": [
    "def water_reader(file_path):\n",
    "    file_path = Path(file_path)\n",
    "    data = np.load(file_path, allow_pickle=True)\n",
    "    data = data.tolist()\n",
    "    # keys: 'atomic_number', 'pos', 'force', 'lengths', 'angles'\n",
    "    atoms = []\n",
    "    atoms = [Atoms(numbers=data['atomic_number'], positions=data['pos'][i]) for i, atom in enumerate(data['pos'])]\n",
    "    for i, atom in enumerate(atoms):\n",
    "        atom.info['forces'] = data['force'][i]\n",
    "        atom.info['lengths'] = data['lengths'][i]\n",
    "        atom.info['angles'] = data['angles'][i]\n",
    "    return atoms[:1000]"
   ]
  },
  {
   "cell_type": "code",
   "execution_count": null,
   "metadata": {},
   "outputs": [],
   "source": [
    "configurations = load_data(\n",
    "    file_path=DATASET_FP,\n",
    "    file_format='folder', \n",
    "    name_field=None,  \n",
    "    elements=['H', 'O'],\n",
    "    reader=water_reader,\n",
    "    glob_string='*.npy',\n",
    "    generator=False,\n",
    ")"
   ]
  },
  {
   "cell_type": "code",
   "execution_count": null,
   "metadata": {},
   "outputs": [],
   "source": [
    "configurations.extend(\n",
    "    load_data(\n",
    "    file_path=DATASET_FP,\n",
    "    file_format='folder', \n",
    "    name_field=None,  \n",
    "    elements=['H', 'O'],\n",
    "    reader=water_reader,\n",
    "    glob_string='alanine_dipeptide.npy',\n",
    "    generator=False,\n",
    " )"
   ]
  },
  {
   "cell_type": "code",
   "execution_count": null,
   "metadata": {},
   "outputs": [],
   "source": [
    "len(configurations)"
   ]
  },
  {
   "cell_type": "code",
   "execution_count": null,
   "metadata": {},
   "outputs": [],
   "source": [
    "client.insert_property_definition(potential_energy_pd)\n",
    "client.insert_property_definition(atomic_forces_pd)"
   ]
  },
  {
   "cell_type": "code",
   "execution_count": null,
   "metadata": {},
   "outputs": [],
   "source": [
    "metadata = { 'software': {'value':'LAMMPS'},\n",
    "            'method': {'value':'DFT'},\n",
    "            'unwrapped_coords': {'field': 'unwrapped_coords'},\n",
    "            'velocities': {'field': 'velocities'},\n",
    "            'lengths': {'field': 'lengths'},\n",
    "            'angles': {'field': 'angles'},\n",
    "            'e_steps': {'field': 'e_steps'},\n",
    "}\n",
    "\n",
    "property_map = {\n",
    "    'potential-energy': [{\n",
    "        'energy':   {'field': 'energy',  'units': 'eV'},\n",
    "        'per-atom': {'value': False, 'units': None},\n",
    "        '_metadata': metadata\n",
    "    }],\n",
    "\n",
    "    'atomic-forces': [{\n",
    "        'forces':   {'field': 'forces',  'units': 'eV/A'},\n",
    "            '_metadata': metadata\n",
    "\n",
    "    }],\n",
    "}"
   ]
  },
  {
   "cell_type": "code",
   "execution_count": null,
   "metadata": {},
   "outputs": [],
   "source": [
    "ids = list(client.insert_data(\n",
    "    configurations,\n",
    "    property_map=property_map,\n",
    "    generator=False,\n",
    "    verbose=True\n",
    "))\n",
    "\n",
    "all_co_ids, all_do_ids = list(zip(*ids))"
   ]
  },
  {
   "cell_type": "code",
   "execution_count": null,
   "metadata": {},
   "outputs": [],
   "source": [
    "\n",
    "cs_regexes = [\n",
    "    [\n",
    "        \"All_H2/Pt(III)\",\n",
    "        \".*\",\n",
    "        \"All configurations from H/Pt(III)\",\n",
    "    ],\n",
    "    [\n",
    "        \"H2_H2/Pt(III)\",\n",
    "        \"H2*\",\n",
    "        \"H2 configurations from H/Pt(III)\",\n",
    "    ],\n",
    "    [\n",
    "        \"Pt-bulk_H2/Pt(III)\",\n",
    "        \"Pt-bulk*\",\n",
    "        \"Pt-bulk configurations from H/Pt(III)\",\n",
    "    ],\n",
    "    [\n",
    "        \"Pt-surface_H2/Pt(III)\",\n",
    "        \"Pt-surface*\",\n",
    "        \"Pt-surface configurations from H/Pt(III)\",\n",
    "    ],\n",
    "    [\n",
    "        \"PtH_H2/Pt(III)\",\n",
    "        \"PtH*\",\n",
    "        \"PtH configurations from H/Pt(III)\",\n",
    "    ],\n",
    "]\n",
    "\n",
    "cs_ids = []\n",
    "\n",
    "for i, (name, regex, desc) in enumerate(cs_regexes):\n",
    "    try:\n",
    "        co_ids = client.get_data(\n",
    "            \"configurations\",\n",
    "            fields=\"hash\",\n",
    "            query={\"hash\": {\"$in\": all_co_ids}, \"names\": {\"$regex\": regex}},\n",
    "            ravel=True,\n",
    "        ).tolist()\n",
    "    except OperationFailure:\n",
    "        print(f\"No match for regex: {regex}\")\n",
    "        continue\n",
    "\n",
    "    print(\n",
    "        f\"Configuration set {i}\",\n",
    "        f\"({name}):\".rjust(25),\n",
    "        f\"{len(co_ids)}\".rjust(7),\n",
    "    )\n",
    "\n",
    "    if len(co_ids) == 0:\n",
    "        pass\n",
    "    else:    \n",
    "        cs_id    = client.insert_configuration_set(\n",
    "            co_ids, description=desc, name=name\n",
    "        )\n",
    "\n",
    "        cs_ids.append(cs_id)\n"
   ]
  },
  {
   "cell_type": "code",
   "execution_count": null,
   "metadata": {},
   "outputs": [],
   "source": [
    "client.insert_dataset(\n",
    "    cs_ids,\n",
    "    all_do_ids,\n",
    "    name='HPt_nc_2022',\n",
    "    authors=[\n",
    "        \"S. Lee, K. Ermanis, J.M. Goodman\"\n",
    "    ],\n",
    "    links=[\n",
    "        \"https://rdmc.nottingham.ac.uk/handle/internal/9356\",\n",
    "        \"http://doi.org/10.17639/nott.7159\",\n",
    "        \"https://doi.org/10.1039/D1SC06324C\"\n",
    "    ],\n",
    "    description = 'A training dataset of 90,000 configurations'\n",
    "    ' with interaction properties between H2 and Pt(111) surfaces.',\n",
    "    verbose=True,\n",
    ")"
   ]
  }
 ],
 "metadata": {
  "kernelspec": {
   "display_name": "venv",
   "language": "python",
   "name": "python3"
  },
  "language_info": {
   "codemirror_mode": {
    "name": "ipython",
    "version": 3
   },
   "file_extension": ".py",
   "mimetype": "text/x-python",
   "name": "python",
   "nbconvert_exporter": "python",
   "pygments_lexer": "ipython3",
   "version": "3.8.0"
  },
  "orig_nbformat": 4,
  "vscode": {
   "interpreter": {
    "hash": "cda00fdd2df1dfb76afa143867e38c41c6b496947491a0a99a04064f867acbf2"
   }
  }
 },
 "nbformat": 4,
 "nbformat_minor": 2
}
