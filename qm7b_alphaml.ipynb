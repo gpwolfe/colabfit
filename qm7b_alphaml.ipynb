{
 "cells": [
  {
   "cell_type": "code",
   "execution_count": null,
   "metadata": {},
   "outputs": [],
   "source": [
    "from colabfit.tools.database import MongoDatabase, load_data\n",
    "from colabfit.tools.configuration import AtomicConfiguration\n",
    "from collections import defaultdict\n",
    "from pathlib import Path\n",
    "import property_definitions_additional as pda\n",
    "import re"
   ]
  },
  {
   "cell_type": "markdown",
   "id": "7ccf7de7",
   "metadata": {},
   "source": [
    "## Connect to MongoDB instance"
   ]
  },
  {
   "cell_type": "code",
   "execution_count": null,
   "id": "1b1d8991",
   "metadata": {},
   "outputs": [],
   "source": [
    "client = MongoDatabase('test2',drop_database=True)"
   ]
  },
  {
   "cell_type": "code",
   "execution_count": null,
   "metadata": {},
   "outputs": [],
   "source": [
    "QM7_ALPHAML_FP = \"/Users/piper/Code/colabfit/data/qm7_alphaml/\""
   ]
  },
  {
   "attachments": {},
   "cell_type": "markdown",
   "metadata": {},
   "source": [
    "### Regex parsers for header line and coordinate lines"
   ]
  },
  {
   "cell_type": "code",
   "execution_count": null,
   "metadata": {},
   "outputs": [],
   "source": [
    "CCSD_HEADER_RE = re.compile(\n",
    "    r\"Properties,(?P<iso_di_pol>[-\\d\\.]+),(?P<aniso_di_pol>[-\\d\\.]+),\"\n",
    "    r\"(?P<di_pol_1>[-\\d\\.]+),(?P<di_pol_2>[-\\d\\.]+),(?P<di_pol_3>[-\\d\\.]+),\"\n",
    "    r\"(?P<di_pol_4>[-\\d\\.]+),(?P<di_pol_5>[-\\d\\.]+),(?P<di_pol_6>[-\\d\\.]+),\"\n",
    "    r\"(?P<di_moment_1>[-\\d\\.]+),(?P<di_moment_2>[-\\d\\.]+),(?P<di_moment_3>[-\\d\\.]+),\"\n",
    "    r\"(?P<quad_moment_1>[-\\d\\.]+),(?P<quad_moment_2>[-\\d\\.]+),\"\n",
    "    r\"(?P<quad_moment_3>[-\\d\\.]+),(?P<quad_moment_4>[-\\d\\.]+),\"\n",
    "    r\"(?P<quad_moment_5>[-\\d\\.]+),(?P<quad_moment_6>[-\\d\\.]+),\"\n",
    "    r\"(?P<total_energy>[-\\d\\.]+),(?P<same_spin_mp2_corr>[-\\d\\.]+),\"\n",
    "    r\"(?P<oppos_spin_mp2_corr>[-\\d\\.]+),(?P<same_spin_ccsd_corr>[-\\d\\.]+),\"\n",
    "    r\"(?P<oppos_spin_ccsd_corr>[-\\d\\.]+)$\"\n",
    ")\n",
    "# Pattern to match (in some files, some num. values replaced by hyphen)\n",
    "# Properties,75.615177454043703,4.939919779917851,78.387507863214978,75.767797915524383,72.690226583391762,0.001369360429452,0.044615618191013,-0.007312056508349,0.0021,-0.5290,-0.1546,1.5527,-2.8038,1.2511,0.0195,0.0045,-1.5023,-288.067480970457609,-0.260956266998665,-0.795712498569882,-0.238171179770555,-0.885417704524427\n",
    "\n",
    "B3LYP_SCAN0_HEADER_RE = re.compile(\n",
    "    r\"Properties,(?P<iso_di_pol>[-\\d\\.]+),(?P<aniso_di_pol>[-\\d\\.]+),\"\n",
    "    r\"(?P<di_pol_1>[-\\d\\.]+),(?P<di_pol_2>[-\\d\\.]+),(?P<di_pol_3>[-\\d\\.]+),\"\n",
    "    r\"(?P<di_pol_4>[-\\d\\.]+),(?P<di_pol_5>[-\\d\\.]+),(?P<di_pol_6>[-\\d\\.]+),\"\n",
    "    r\"(?P<di_moment_1>[-\\d\\.]+),(?P<di_moment_2>[-\\d\\.]+),\"\n",
    "    r\"(?P<di_moment_3>[-\\d\\.]+),(?P<quad_moment_1>[-\\d\\.]+),\"\n",
    "    r\"(?P<quad_moment_2>[-\\d\\.]+),(?P<quad_moment_3>[-\\d\\.]+),\"\n",
    "    r\"(?P<quad_moment_4>[-\\d\\.]+),(?P<quad_moment_5>[-\\d\\.]+),\"\n",
    "    r\"(?P<quad_moment_6>[-\\d\\.]+),(?P<total_energy>[-\\d\\.]+),\"\n",
    "    r\"(?P<homo_energy>[-\\d\\.]+),(?P<lumo_energy>[-\\d\\.]+)$\"\n",
    ")\n",
    "# Pattern to match (in some files, some num. values replaced by hyphen)\n",
    "# Properties,16.939854052467204,0.003828440619037,16.942383975424679,16.938517010826502,16.938661171150429,-0.000267048928424,0.000028373634520,0.000089186068862,-0.0000,-0.0001,0.0000,-0.0001,0.0000,0.0001,0.0001,-0.0001,-0.0001,-40.48621978,-0.411,0.006\n",
    "\n",
    "COORD_RE = re.compile(\n",
    "    r\"(?P<element>[a-zA-Z]{1,2})\\s+(?P<x>[-\\d\\.]+)\\s+(?P<y>[-\\d\\.]+)\\s+(?P<z>[-\\d\\.]+)$\")\n",
    "\n",
    "# Pattern to match: \n",
    "# O\t-0.9033863347\t-2.7689731175\t-0.4116379574\n",
    "\n",
    "def properties_parser(re_match, line):\n",
    "    groups = re_match.match(line)\n",
    "    return groups.groupdict().items()\n",
    "\n"
   ]
  },
  {
   "attachments": {},
   "cell_type": "markdown",
   "metadata": {},
   "source": [
    "### File reading functions"
   ]
  },
  {
   "cell_type": "code",
   "execution_count": null,
   "metadata": {},
   "outputs": [],
   "source": [
    "def xyz_parser(file_path, header_regex):\n",
    "    file_path = Path(file_path)\n",
    "    name=f\"qm7_{file_path.parent.name}\"\n",
    "    elem_coords = defaultdict(list)\n",
    "    n_atoms = int()\n",
    "    property_dict = defaultdict(float)\n",
    "    with open(file_path, 'r') as f:\n",
    "        line_num = 0\n",
    "        for line in f:\n",
    "            if line_num == 0:\n",
    "                n_atoms = int(line)\n",
    "                line_num += 1\n",
    "            elif line_num == 1:\n",
    "                for k, v in properties_parser(header_regex ,line):\n",
    "                    if v == '-':\n",
    "                        pass\n",
    "                    else:\n",
    "                        property_dict[k] = float(v)\n",
    "                line_num += 1\n",
    "            elif line_num < n_atoms + 2:\n",
    "                elem_coord_items = properties_parser(COORD_RE, line)\n",
    "                try:\n",
    "                    for elem_coord, val in elem_coord_items:\n",
    "                        elem_coords[elem_coord].append(val)\n",
    "                except ValueError:\n",
    "                    print(\"ValueError at {line} in {file_path}\")\n",
    "                line_num += 1\n",
    "            else:\n",
    "                print(f\"{file_path} finished at line {line_num}.\")\n",
    "                break\n",
    "    return name, n_atoms, elem_coords, property_dict\n",
    "\n",
    "def reader_ccsd(file_path):\n",
    "    name, n_atoms, elem_coords, properties = xyz_parser(file_path, CCSD_HEADER_RE)\n",
    "    positions = list(\n",
    "            zip(elem_coords[\"x\"], elem_coords[\"y\"], elem_coords[\"z\"])\n",
    "        )\n",
    "    atoms = AtomicConfiguration(\n",
    "            names=[name], symbols=elem_coords[\"element\"], positions=positions\n",
    "        )\n",
    "    atoms.info['name'] = name\n",
    "    atoms.info['n_atoms'] = n_atoms\n",
    "    for key in properties.keys():\n",
    "        atoms.info[key] = properties[key]\n",
    "    return [atoms]\n",
    "\n",
    "def reader_b3lyp(file_path):\n",
    "    name, n_atoms, elem_coords, properties = xyz_parser(file_path, B3LYP_SCAN0_HEADER_RE)\n",
    "    positions = list(\n",
    "            zip(elem_coords[\"x\"], elem_coords[\"y\"], elem_coords[\"z\"])\n",
    "        )\n",
    "    atoms = AtomicConfiguration(\n",
    "            names=[name], symbols=elem_coords[\"element\"], positions=positions\n",
    "        )\n",
    "    atoms.info['name'] = name\n",
    "    atoms.info['n_atoms'] = n_atoms\n",
    "    for key in properties.keys():\n",
    "        atoms.info[key] = properties[key]\n",
    "    return [atoms]\n",
    "    "
   ]
  },
  {
   "cell_type": "code",
   "execution_count": null,
   "metadata": {},
   "outputs": [],
   "source": [
    "def load_data_wrapper(reader, glob_string, metadata, energy_map):\n",
    "    configurations = load_data(\n",
    "        #Data can be downloaded here: 'https://archive.materialscloud.org/record/2019.0002/v3'\n",
    "        file_path=QM7_ALPHAML_FP,\n",
    "        file_format='folder', \n",
    "        name_field='name',  \n",
    "        elements=['C', 'O', 'H', 'N', 'S', 'Cl'],\n",
    "        reader=reader,\n",
    "        glob_string=glob_string,\n",
    "        generator=False,\n",
    "    )\n",
    "    ids = list(client.insert_data(\n",
    "        configurations,\n",
    "        property_map=energy_map,\n",
    "        generator=False,\n",
    "        verbose=True\n",
    "    ))\n",
    "\n",
    "    for p in polars:\n",
    "        property_map_polar = {\n",
    "            'polarizability': [{\n",
    "                'polarizability':   {'field': p[0],  'units': 'atomic units'},\n",
    "                'di-quad': {'value': p[1], 'units': None},\n",
    "                'iso-aniso': {'value': p[2], 'units': None},\n",
    "\n",
    "                '_metadata': metadata\n",
    "                }],\n",
    "        }\n",
    "    \n",
    "        client.insert_data(\n",
    "            configurations,\n",
    "            property_map=property_map_polar,\n",
    "            generator=False,\n",
    "            verbose=True\n",
    "            )\n",
    "    all_co_ids, all_do_ids = list(zip(*ids))\n",
    "    return all_co_ids, all_do_ids\n",
    "    "
   ]
  },
  {
   "attachments": {},
   "cell_type": "markdown",
   "metadata": {},
   "source": [
    "### Add property definitions"
   ]
  },
  {
   "cell_type": "code",
   "execution_count": null,
   "metadata": {},
   "outputs": [],
   "source": [
    "pds = [\n",
    "pda.polarizability_pd, pda.homo_lumo_gap_pd, pda.total_energy_pd, pda.homo_energy_pd, pda.lumo_energy_pd\n",
    "]\n",
    "for pd in pds:\n",
    "    client.insert_property_definition(pd)\n",
    "\n",
    "polars = [('iso_di_pol', 'dipolar', 'isotropic'), \n",
    "    ('aniso_di_pol', 'dipolar', 'anisotropic')]\n"
   ]
  },
  {
   "attachments": {},
   "cell_type": "markdown",
   "metadata": {},
   "source": [
    "### Metadata and property maps"
   ]
  },
  {
   "cell_type": "code",
   "execution_count": null,
   "metadata": {},
   "outputs": [],
   "source": [
    "ccsd_metadata = { 'software': {'value':'Psi4'},\n",
    "            'method': {'value':'CCSD'}\n",
    "}\n",
    "ccsd_total_energy_map = {\n",
    "    'total-energy': [{\n",
    "        'energy':   {'field': 'total_energy',  'units': 'atomic units'},\n",
    "        'per-atom': {'value': False, 'units': None},\n",
    "        '_metadata': ccsd_metadata\n",
    "        }]\n",
    "}\n",
    "\n",
    "b3lyp_metadata = { 'software': {'value':'Psi4'},\n",
    "            'method': {'value':['B3LYP', 'DFT']}\n",
    "}\n",
    "\n",
    "b3lyp_energy_map = {\n",
    "    'total-energy': [{\n",
    "        'energy':   {'field': 'total_energy',  'units': 'atomic units'},\n",
    "        'per-atom': {'value': False, 'units': None},\n",
    "        '_metadata': b3lyp_metadata\n",
    "        }],\n",
    "    'lumo-energy' : [{\n",
    "        'energy':   {'field': 'lumo_energy',  'units': 'atomic units'},\n",
    "        'per-atom': {'value': False, 'units': None},\n",
    "        '_metadata': b3lyp_metadata\n",
    "        }],\n",
    "    'homo-energy' : [{\n",
    "        'energy':   {'field': 'homo_energy',  'units': 'atomic units'},\n",
    "        'per-atom': {'value': False, 'units': None},\n",
    "        '_metadata': b3lyp_metadata\n",
    "        }],\n",
    "}\n",
    "\n",
    "scan0_metadata = { 'software': {'value':'Q-Chem'},\n",
    "            'method': {'value':['SCAN0', 'DFT']}\n",
    "}"
   ]
  },
  {
   "cell_type": "markdown",
   "metadata": {},
   "source": [
    "### Load data"
   ]
  },
  {
   "cell_type": "code",
   "execution_count": null,
   "metadata": {},
   "outputs": [],
   "source": [
    "all_co_ids = set()\n",
    "all_do_ids = set()"
   ]
  },
  {
   "cell_type": "code",
   "execution_count": null,
   "metadata": {},
   "outputs": [],
   "source": [
    "co_ids, do_ids = (load_data_wrapper(reader_ccsd, 'CCSD_daDZ/*.xyz', ccsd_metadata, ccsd_total_energy_map))\n",
    "all_co_ids.update(co_ids)\n",
    "all_do_ids.update(do_ids)"
   ]
  },
  {
   "cell_type": "code",
   "execution_count": null,
   "metadata": {},
   "outputs": [],
   "source": [
    "co_ids, do_ids = (load_data_wrapper(reader_b3lyp, 'B3LYP_daTZ/*xyz', b3lyp_metadata, b3lyp_energy_map))\n",
    "all_co_ids.update(co_ids)\n",
    "all_do_ids.update(do_ids)"
   ]
  },
  {
   "cell_type": "code",
   "execution_count": null,
   "metadata": {},
   "outputs": [],
   "source": [
    "co_ids, do_ids = load_data_wrapper(reader_b3lyp, 'B3LYP_daDZ/*.xyz', b3lyp_metadata, b3lyp_energy_map)\n",
    "all_co_ids.update(co_ids)\n",
    "all_do_ids.update(do_ids)"
   ]
  },
  {
   "cell_type": "code",
   "execution_count": null,
   "metadata": {},
   "outputs": [],
   "source": [
    "co_ids, do_ids = load_data_wrapper(reader_b3lyp, 'SCAN0_daDZ/*.xyz', scan0_metadata, b3lyp_energy_map)\n",
    "all_co_ids.update(co_ids)\n",
    "all_do_ids.update(do_ids)"
   ]
  },
  {
   "attachments": {},
   "cell_type": "markdown",
   "metadata": {},
   "source": [
    "### Create configuration sets"
   ]
  },
  {
   "cell_type": "code",
   "execution_count": null,
   "metadata": {},
   "outputs": [],
   "source": [
    "cs_regexes = [\n",
    "    ['QM7b_AlphaML',\n",
    "     '.*',\n",
    "     'All QM7b and AlphaML configurations'\n",
    "    ],\n",
    "    ['B3LYP_daTZ',\n",
    "     'B3LYP_daTZ',\n",
    "     'Configurations gathered using DFT B3LYP methods and the d-aug-cc-pVTZ basis set'\n",
    "    ],\n",
    "    ['B3LYP_daDZ',\n",
    "     'B3LYP_daDZ',\n",
    "     'Configurations gathered using DFT B3LYP methods and the d-aug-cc-pVDZ basis set'\n",
    "    ],\n",
    "    ['SCAN0',\n",
    "     'SCAN0',\n",
    "     'Configurations gathered using DFT SCAN0 methods and the d-aug-cc-pVDZ basis set'\n",
    "    ],\n",
    "    ['CCSD_daDZ',\n",
    "     'CCSD_daDZ',\n",
    "     'Configurations gathered using quantum calculation CCSD methods and the d-aug-cc-pVDZ basis set'\n",
    "    ]\n",
    "]\n",
    "\n",
    "cs_ids = []\n",
    "\n",
    "for i, (name, regex, desc) in enumerate(cs_regexes):\n",
    "    co_ids = client.get_data(\n",
    "        'configurations',\n",
    "        fields='hash',\n",
    "        query={'hash': {'$in': list(all_co_ids)}, 'names': {'$regex': regex}},\n",
    "        ravel=True\n",
    "    ).tolist()\n",
    "\n",
    "    print(f'Configuration set {i}', f'({name}):'.rjust(22), f'{len(co_ids)}'.rjust(7))\n",
    "\n",
    "    if len(co_ids) == 0:\n",
    "        pass\n",
    "    else:\n",
    "        cs_id = client.insert_configuration_set(co_ids, description=desc,name=name)\n",
    "\n",
    "        cs_ids.append(cs_id)"
   ]
  },
  {
   "attachments": {},
   "cell_type": "markdown",
   "metadata": {},
   "source": [
    "### Insert dataset"
   ]
  },
  {
   "cell_type": "code",
   "execution_count": null,
   "metadata": {},
   "outputs": [],
   "source": [
    "ds_id = client.insert_dataset(\n",
    "    cs_ids,\n",
    "    list(all_do_ids),\n",
    "    name=\"QM7b_AlphaML\",\n",
    "    authors=[\"Y. Yang, K. Un Lao, D.M. Wilkins, A. Grisafi, M. Ceriotti, R.A. DiStasio Jr\"],\n",
    "    links=[\"https://archive.materialscloud.org/record/2019.0002/v3\",\n",
    "    \"https://doi.org/10.24435/materialscloud:2019.0002/v3\",\n",
    "    \"https://www.nature.com/articles/s41597-019-0157-8\"],\n",
    "    description=\"Polarizability and total energy, computed with LR-CCSD, hybrid DFT (B3LYP & SCAN0) \"\n",
    "    \"for 7211 molecules in QM7b and 52 molecules in AlphaML showcase database.\"\n",
    "    \"Folders used are SCAN0_DADZ, B3LYP_daTZ, BELYP_daDZ, and CCSD_daDZ.\",\n",
    "    verbose=True,\n",
    ")"
   ]
  },
  {
   "cell_type": "code",
   "execution_count": null,
   "metadata": {},
   "outputs": [],
   "source": [
    "# Property group names for ccsd\n",
    "# iso_di_pol\n",
    "# aniso_di_pol\n",
    "# di_pol_1\n",
    "# di_pol_2\n",
    "# di_pol_3\n",
    "# di_pol_4\n",
    "# di_pol_5\n",
    "# di_pol_6\n",
    "# di_moment_1\n",
    "# di_moment_2\n",
    "# di_moment_3\n",
    "# quad_moment_1\n",
    "# quad_moment_2\n",
    "# quad_moment_3\n",
    "# quad_moment_4\n",
    "# quad_moment_5\n",
    "# quad_moment_6\n",
    "# total_energy\n",
    "# same_spin_mp2_corr\n",
    "# oppos_spin_mp2_corr\n",
    "# same_spin_ccsd_corr\n",
    "# oppos_spin_ccsd_corr\n",
    "\n",
    "# Property group names for B3LYP and SCAN0\n",
    "# iso_di_pol\n",
    "# aniso_di_pol\n",
    "# di_pol_1\n",
    "# di_pol_2\n",
    "# di_pol_3\n",
    "# di_pol_4\n",
    "# di_pol_5\n",
    "# di_pol_6\n",
    "# di_moment_1\n",
    "# di_moment_2\n",
    "# di_moment_3\n",
    "# quad_moment_1\n",
    "# quad_moment_2\n",
    "# quad_moment_3\n",
    "# quad_moment_4\n",
    "# quad_moment_5\n",
    "# quad_moment_6\n",
    "# total_energy\n",
    "# homo_energy\n",
    "# lumo_energy"
   ]
  }
 ],
 "metadata": {
  "kernelspec": {
   "display_name": "venv",
   "language": "python",
   "name": "python3"
  },
  "language_info": {
   "codemirror_mode": {
    "name": "ipython",
    "version": 3
   },
   "file_extension": ".py",
   "mimetype": "text/x-python",
   "name": "python",
   "nbconvert_exporter": "python",
   "pygments_lexer": "ipython3",
   "version": "3.8.0"
  },
  "orig_nbformat": 4,
  "vscode": {
   "interpreter": {
    "hash": "cda00fdd2df1dfb76afa143867e38c41c6b496947491a0a99a04064f867acbf2"
   }
  }
 },
 "nbformat": 4,
 "nbformat_minor": 2
}
