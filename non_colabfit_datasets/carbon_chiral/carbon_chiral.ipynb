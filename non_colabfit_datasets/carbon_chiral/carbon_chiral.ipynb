{
 "cells": [
  {
   "cell_type": "code",
   "execution_count": null,
   "id": "3e770811",
   "metadata": {},
   "outputs": [],
   "source": [
    "import os\n",
    "from logging import getLogger\n",
    "from pathlib import Path\n",
    "from time import sleep\n",
    "\n",
    "import pandas as pd\n",
    "import pyarrow as pa\n",
    "import pyarrow.parquet as pq\n",
    "from ase.io import iread\n",
    "from colabfit.tools.vast.configuration import AtomicConfiguration\n",
    "from colabfit.tools.vast.database import DataManager\n",
    "from colabfit.tools.vast.property import PropertyInfo, PropertyMap\n",
    "from dotenv import load_dotenv\n",
    "from huggingface_hub import HfApi, delete_repo\n",
    "\n",
    "load_dotenv()\n",
    "\n",
    "logger = getLogger(__name__)"
   ]
  },
  {
   "cell_type": "code",
   "execution_count": null,
   "id": "bbf2683e",
   "metadata": {},
   "outputs": [],
   "source": [
    "from colabfit.tools.vast.schema import config_md_schema\n",
    "from colabfit.tools.vast.utils import spark_schema_to_arrow_schema\n",
    "\n",
    "arrow_schema = spark_schema_to_arrow_schema(config_md_schema)"
   ]
  },
  {
   "cell_type": "code",
   "execution_count": null,
   "id": "65c03e8e",
   "metadata": {},
   "outputs": [],
   "source": [
    "DATASET_NAME = \"carbon-enantiomorphs\"\n",
    "\n",
    "\n",
    "def reader(xyz):\n",
    "    # with open(csv_file, \"r\") as f:\n",
    "    #     orig_ids = f.read().splitlines()\n",
    "    for i, atoms in enumerate(iread(xyz, format=\"extxyz\")):\n",
    "        # atoms.info[\"original_id\"] = orig_ids[i]\n",
    "        atoms.info[\"_name\"] = f\"{DATASET_NAME}_index_{i}\"\n",
    "        yield AtomicConfiguration.from_ase(atoms)"
   ]
  },
  {
   "cell_type": "markdown",
   "id": "f2a8894c",
   "metadata": {},
   "source": [
    "### Train"
   ]
  },
  {
   "cell_type": "code",
   "execution_count": null,
   "id": "144ef618",
   "metadata": {},
   "outputs": [],
   "source": [
    "gen_train = reader(\"data/train.xyz\")\n",
    "\n",
    "cos_train = [co.row_dict for co in gen_train]\n",
    "for c in cos_train:\n",
    "    c[\"structure_hash\"] = str(c[\"structure_hash\"])\n",
    "cos_train[0]"
   ]
  },
  {
   "cell_type": "code",
   "execution_count": null,
   "id": "c718cc38",
   "metadata": {},
   "outputs": [],
   "source": [
    "co_table = pa.Table.from_pylist(cos_train, schema=arrow_schema)\n",
    "co_table = co_table.select(\n",
    "    [\n",
    "        \"id\",\n",
    "        \"hash\",\n",
    "        \"last_modified\",\n",
    "        \"chemical_formula_hill\",\n",
    "        \"chemical_formula_reduced\",\n",
    "        \"chemical_formula_anonymous\",\n",
    "        \"elements\",\n",
    "        \"elements_ratios\",\n",
    "        \"atomic_numbers\",\n",
    "        \"nsites\",\n",
    "        \"nelements\",\n",
    "        \"nperiodic_dimensions\",\n",
    "        \"cell\",\n",
    "        \"dimension_types\",\n",
    "        \"pbc\",\n",
    "        \"names\",\n",
    "        \"labels\",\n",
    "        \"positions\",\n",
    "    ]\n",
    ")\n",
    "pq.write_table(\n",
    "    co_table, \"parquets/train.parquet\", compression=\"ZSTD\", compression_level=9\n",
    ")"
   ]
  },
  {
   "cell_type": "markdown",
   "id": "c3e2c3c1",
   "metadata": {},
   "source": [
    "### Val"
   ]
  },
  {
   "cell_type": "code",
   "execution_count": null,
   "id": "1e88097a",
   "metadata": {},
   "outputs": [],
   "source": [
    "gen_val = reader(\"data/val.xyz\")\n",
    "\n",
    "cos_val = [co.row_dict for co in gen_val]\n",
    "for c in cos_val:\n",
    "    c[\"structure_hash\"] = str(c[\"structure_hash\"])\n",
    "cos_val[0]"
   ]
  },
  {
   "cell_type": "code",
   "execution_count": null,
   "id": "df4b07ea",
   "metadata": {},
   "outputs": [],
   "source": [
    "co_table = pa.Table.from_pylist(cos_val, schema=arrow_schema)\n",
    "co_table = co_table.select(\n",
    "    [\n",
    "        \"id\",\n",
    "        \"hash\",\n",
    "        \"last_modified\",\n",
    "        \"chemical_formula_hill\",\n",
    "        \"chemical_formula_reduced\",\n",
    "        \"chemical_formula_anonymous\",\n",
    "        \"elements\",\n",
    "        \"elements_ratios\",\n",
    "        \"atomic_numbers\",\n",
    "        \"nsites\",\n",
    "        \"nelements\",\n",
    "        \"nperiodic_dimensions\",\n",
    "        \"cell\",\n",
    "        \"dimension_types\",\n",
    "        \"pbc\",\n",
    "        \"names\",\n",
    "        \"labels\",\n",
    "        \"positions\",\n",
    "    ]\n",
    ")\n",
    "pq.write_table(\n",
    "    co_table, \"parquets/val.parquet\", compression=\"ZSTD\", compression_level=9\n",
    ")"
   ]
  },
  {
   "cell_type": "markdown",
   "id": "e8a3d626",
   "metadata": {},
   "source": [
    "#### Val to HF"
   ]
  },
  {
   "cell_type": "code",
   "execution_count": null,
   "id": "e6e379d2",
   "metadata": {},
   "outputs": [],
   "source": [
    "token = os.getenv(\"HF_TOKEN\")\n",
    "\n",
    "api = HfApi(token=token)"
   ]
  },
  {
   "cell_type": "code",
   "execution_count": null,
   "id": "71a09280",
   "metadata": {},
   "outputs": [],
   "source": [
    "api.create_repo(\n",
    "    repo_id=\"colabfit/carbon-enantiomorphs\", repo_type=\"dataset\", token=token\n",
    ")"
   ]
  },
  {
   "cell_type": "code",
   "execution_count": null,
   "id": "78e05915",
   "metadata": {},
   "outputs": [],
   "source": [
    "# api.delete_file(\n",
    "#     repo_id=\"colabfit/carbon-enantiomorphs\",\n",
    "#     repo_type=\"dataset\",\n",
    "#     token=token,\n",
    "#     path_in_repo=\"test.parquet\",\n",
    "# )"
   ]
  },
  {
   "cell_type": "code",
   "execution_count": null,
   "id": "d0e4b2ab",
   "metadata": {},
   "outputs": [],
   "source": [
    "api.upload_folder(\n",
    "    folder_path=\"parquets\",\n",
    "    repo_type=\"dataset\",\n",
    "    repo_id=\"colabfit/carbon-enantiomorphs\",\n",
    "    token=token,\n",
    ")"
   ]
  },
  {
   "cell_type": "code",
   "execution_count": null,
   "id": "5f5bbf02",
   "metadata": {},
   "outputs": [],
   "source": [
    "api.upload_file(\n",
    "    path_or_fileobj=\"README.md\",\n",
    "    path_in_repo=\"README.md\",\n",
    "    repo_type=\"dataset\",\n",
    "    repo_id=\"colabfit/carbon-enantiomorphs\",\n",
    "    token=token,\n",
    ")"
   ]
  },
  {
   "cell_type": "code",
   "execution_count": null,
   "id": "c0689de0",
   "metadata": {},
   "outputs": [],
   "source": [
    "api.delete_repo(repo_id=\"colabfit/carbon_chiral\", repo_type=\"dataset\", token=token)"
   ]
  },
  {
   "cell_type": "markdown",
   "id": "94d87ded",
   "metadata": {},
   "source": [
    "### Get croissant files"
   ]
  },
  {
   "cell_type": "code",
   "execution_count": null,
   "id": "a9955dc7",
   "metadata": {},
   "outputs": [],
   "source": [
    "import requests\n",
    "import json\n",
    "\n",
    "headers = {\"Authorization\": f\"Bearer {token}\"}\n",
    "\n",
    "\n",
    "def query():\n",
    "    response = requests.get(API_URL, headers=headers)\n",
    "    return response.json()\n",
    "\n",
    "\n",
    "for url in [\n",
    "    \"carbon-enantiomorphs\",\n",
    "]:\n",
    "    API_URL = f\"https://huggingface.co/api/datasets/colabfit/{url}/croissant\"\n",
    "    data = query()\n",
    "    with open(f\"{url}.json\", \"w\") as f:\n",
    "        json.dump(data, f)"
   ]
  },
  {
   "cell_type": "code",
   "execution_count": null,
   "id": "87db21e7",
   "metadata": {},
   "outputs": [],
   "source": []
  }
 ],
 "metadata": {
  "kernelspec": {
   "display_name": "vast_env",
   "language": "python",
   "name": "python3"
  },
  "language_info": {
   "codemirror_mode": {
    "name": "ipython",
    "version": 3
   },
   "file_extension": ".py",
   "mimetype": "text/x-python",
   "name": "python",
   "nbconvert_exporter": "python",
   "pygments_lexer": "ipython3",
   "version": "3.11.4"
  }
 },
 "nbformat": 4,
 "nbformat_minor": 5
}
