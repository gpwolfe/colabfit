{
 "cells": [
  {
   "cell_type": "code",
   "execution_count": null,
   "id": "971215b5",
   "metadata": {},
   "outputs": [],
   "source": [
    "from huggingface_hub import HfApi, delete_repo\n",
    "from pathlib import Path\n",
    "import os\n",
    "from dotenv import load_dotenv\n",
    "from time import sleep\n",
    "\n",
    "load_dotenv()"
   ]
  },
  {
   "cell_type": "code",
   "execution_count": null,
   "id": "35184b03",
   "metadata": {},
   "outputs": [],
   "source": [
    "token = os.getenv(\"HF_TOKEN\")\n",
    "\n",
    "api = HfApi(token=token)"
   ]
  },
  {
   "cell_type": "code",
   "execution_count": null,
   "id": "9b970ac7",
   "metadata": {},
   "outputs": [],
   "source": [
    "api.create_repo(repo_id=\"colabfit/carbon-24_unique\", repo_type=\"dataset\", token=token)"
   ]
  },
  {
   "cell_type": "code",
   "execution_count": null,
   "id": "cd763d1a",
   "metadata": {},
   "outputs": [],
   "source": [
    "api.upload_folder(\n",
    "    folder_path=\"maya_datasets/carbon-24_unique\",\n",
    "    repo_type=\"dataset\",\n",
    "    repo_id=\"colabfit/carbon-24_unique\",\n",
    "    token=token,\n",
    ")"
   ]
  },
  {
   "cell_type": "code",
   "execution_count": null,
   "id": "b16b90f3",
   "metadata": {},
   "outputs": [],
   "source": [
    "api.upload_folder(\n",
    "    folder_path=\"maya_datasets_withIDs/carbon_24_unique/supplemental\",\n",
    "    path_in_repo=\"supplemental\",\n",
    "    repo_type=\"dataset\",\n",
    "    repo_id=\"colabfit/carbon-24_unique\",\n",
    "    token=token,\n",
    ")"
   ]
  },
  {
   "cell_type": "code",
   "execution_count": null,
   "id": "28392c77",
   "metadata": {},
   "outputs": [],
   "source": [
    "# api.delete_file(\n",
    "#     repo_id=\"colabfit/carbon-24_unique\",\n",
    "#     repo_type=\"dataset\",\n",
    "#     token=token,\n",
    "#     path_in_repo=\"carbon_X.xyz\",\n",
    "# )"
   ]
  },
  {
   "cell_type": "markdown",
   "id": "e1c3fd7f",
   "metadata": {},
   "source": [
    "### carbon_NXL"
   ]
  },
  {
   "cell_type": "code",
   "execution_count": null,
   "id": "4471201a",
   "metadata": {},
   "outputs": [],
   "source": [
    "api.create_repo(repo_id=\"colabfit/carbon_NXL\", repo_type=\"dataset\", token=token)"
   ]
  },
  {
   "cell_type": "code",
   "execution_count": null,
   "id": "15433c21",
   "metadata": {},
   "outputs": [],
   "source": [
    "api.upload_folder(\n",
    "    folder_path=\"maya_datasets/carbon_NXL\",\n",
    "    repo_type=\"dataset\",\n",
    "    repo_id=\"colabfit/carbon_NXL\",\n",
    "    token=token,\n",
    ")"
   ]
  },
  {
   "cell_type": "code",
   "execution_count": null,
   "id": "b1994e23",
   "metadata": {},
   "outputs": [],
   "source": [
    "# /scratch/martiniani/maya_datasets_withIDs/carbon_NXL\n",
    "api.upload_file(\n",
    "    path_or_fileobj=\"maya_datasets_withIDs/carbon_NXL/carbon_NXL_materialsID.csv\",\n",
    "    path_in_repo=\"supplemental/carbon_NXL_materialsID.csv\",\n",
    "    repo_id=\"colabfit/carbon_NXL\",\n",
    "    repo_type=\"dataset\",\n",
    "    token=token,\n",
    ")"
   ]
  },
  {
   "cell_type": "markdown",
   "id": "14cccc34",
   "metadata": {},
   "source": [
    "## carbon_X"
   ]
  },
  {
   "cell_type": "code",
   "execution_count": null,
   "id": "79a978e1",
   "metadata": {},
   "outputs": [],
   "source": [
    "api.create_repo(repo_id=\"colabfit/carbon_X\", repo_type=\"dataset\", token=token)"
   ]
  },
  {
   "cell_type": "code",
   "execution_count": null,
   "id": "a49a8651",
   "metadata": {},
   "outputs": [],
   "source": [
    "api.upload_folder(\n",
    "    folder_path=\"maya_datasets/carbon_X\",\n",
    "    repo_type=\"dataset\",\n",
    "    repo_id=\"colabfit/carbon_X\",\n",
    "    token=token,\n",
    ")"
   ]
  },
  {
   "cell_type": "code",
   "execution_count": null,
   "id": "316b99ba",
   "metadata": {},
   "outputs": [],
   "source": [
    "api.upload_file(\n",
    "    path_or_fileobj=\"maya_datasets_withIDs/carbon_X/carbon_X_materialsID.csv\",\n",
    "    path_in_repo=\"supplemental/carbon_X_materialsID.csv\",\n",
    "    repo_id=\"colabfit/carbon_X\",\n",
    "    repo_type=\"dataset\",\n",
    "    token=token,\n",
    ")"
   ]
  },
  {
   "cell_type": "markdown",
   "id": "8e1fb9e7",
   "metadata": {},
   "source": [
    "### perov"
   ]
  },
  {
   "cell_type": "code",
   "execution_count": null,
   "id": "e15dd294",
   "metadata": {},
   "outputs": [],
   "source": [
    "api.create_repo(\n",
    "    repo_id=\"colabfit/perov-5_polymorph_split\", repo_type=\"dataset\", token=token\n",
    ")"
   ]
  },
  {
   "cell_type": "code",
   "execution_count": null,
   "id": "73b0c76e",
   "metadata": {},
   "outputs": [],
   "source": [
    "api.delete_files(\n",
    "    repo_type=\"dataset\",\n",
    "    delete_patterns=[\"*.parquet\"],\n",
    "    repo_id=\"colabfit/perov-5_polymorph_split\",\n",
    "    token=token,\n",
    ")"
   ]
  },
  {
   "cell_type": "code",
   "execution_count": null,
   "id": "530c2f85",
   "metadata": {},
   "outputs": [],
   "source": [
    "api.upload_folder(\n",
    "    folder_path=\"maya_datasets/perov-5_polymorph_split/main\",\n",
    "    path_in_repo=\"main\",\n",
    "    repo_type=\"dataset\",\n",
    "    repo_id=\"colabfit/perov-5_polymorph_split\",\n",
    "    token=token,\n",
    ")"
   ]
  },
  {
   "cell_type": "code",
   "execution_count": null,
   "id": "71e63913",
   "metadata": {},
   "outputs": [],
   "source": [
    "api.upload_folder(\n",
    "    folder_path=\"maya_datasets_withIDs/perov_5_new/supplemental\",\n",
    "    path_in_repo=\"supplemental\",\n",
    "    repo_type=\"dataset\",\n",
    "    repo_id=\"colabfit/perov-5_polymorph_split\",\n",
    "    token=token,\n",
    ")"
   ]
  },
  {
   "cell_type": "markdown",
   "id": "ca5e8746",
   "metadata": {},
   "source": [
    "### Enantiomorphs"
   ]
  },
  {
   "cell_type": "code",
   "execution_count": null,
   "id": "02637235",
   "metadata": {},
   "outputs": [],
   "source": [
    "api.create_repo(\n",
    "    repo_id=\"colabfit/carbon-24_unique_with_enantiomorphs\",\n",
    "    repo_type=\"dataset\",\n",
    "    token=token,\n",
    ")"
   ]
  },
  {
   "cell_type": "code",
   "execution_count": null,
   "id": "33925978",
   "metadata": {},
   "outputs": [],
   "source": [
    "api.upload_folder(\n",
    "    folder_path=\"maya_datasets/carbon-24_enantiomorphs\",\n",
    "    repo_type=\"dataset\",\n",
    "    repo_id=\"colabfit/carbon-24_unique_with_enantiomorphs\",\n",
    "    token=token,\n",
    ")"
   ]
  },
  {
   "cell_type": "code",
   "execution_count": null,
   "id": "63f4bbf5",
   "metadata": {},
   "outputs": [],
   "source": [
    "# /scratch/martiniani/maya_datasets_withIDs/carbon_24_unique_withenants\n",
    "api.upload_file(\n",
    "    path_or_fileobj=\"maya_datasets_withIDs/carbon_24_unique_withenants/carbon_24_unique_withenants_materialsID.csv\",\n",
    "    repo_type=\"dataset\",\n",
    "    path_in_repo=\"supplemental/carbon_24_unique_with_enantiomorphs_materialsID.csv\",\n",
    "    repo_id=\"colabfit/carbon-24_unique_with_enantiomorphs\",\n",
    "    token=token,\n",
    ")"
   ]
  },
  {
   "cell_type": "markdown",
   "id": "1b2b971e",
   "metadata": {},
   "source": [
    "## Manage repos"
   ]
  },
  {
   "cell_type": "code",
   "execution_count": null,
   "id": "362d4d12",
   "metadata": {},
   "outputs": [],
   "source": [
    "api.delete_repo(repo_id=\"colabfit/carbon_NXL\", repo_type=\"dataset\", token=token)"
   ]
  },
  {
   "cell_type": "code",
   "execution_count": null,
   "id": "8d91ab3d",
   "metadata": {},
   "outputs": [],
   "source": [
    "api.delete_file(\n",
    "    repo_type=\"dataset\",\n",
    "    path_in_repo=\"carbon_24_unique_with_enantiomorphs_materialsID.csv\",\n",
    "    repo_id=\"colabfit/carbon-24_unique_with_enantiomorphs\",\n",
    "    token=token,\n",
    ")"
   ]
  },
  {
   "cell_type": "code",
   "execution_count": null,
   "id": "8b6424f6",
   "metadata": {},
   "outputs": [],
   "source": [
    "import requests\n",
    "import json\n",
    "\n",
    "headers = {\"Authorization\": f\"Bearer {token}\"}\n",
    "\n",
    "\n",
    "def query():\n",
    "    response = requests.get(API_URL, headers=headers)\n",
    "    return response.json()\n",
    "\n",
    "\n",
    "for url in [\n",
    "    \"carbon-24_unique\",\n",
    "    \"carbon_NXL\",\n",
    "    \"carbon_X\",\n",
    "    \"perov-5_polymorph_split\",\n",
    "    \"carbon-24_unique_with_enantiomorphs\",\n",
    "]:\n",
    "    API_URL = f\"https://huggingface.co/api/datasets/colabfit/{url}/croissant\"\n",
    "    data = query()\n",
    "    with open(f\"{url}.json\", \"w\") as f:\n",
    "        json.dump(data, f)"
   ]
  },
  {
   "cell_type": "code",
   "execution_count": null,
   "id": "09e38d3e",
   "metadata": {},
   "outputs": [],
   "source": []
  }
 ],
 "metadata": {
  "kernelspec": {
   "display_name": "vast_env",
   "language": "python",
   "name": "python3"
  },
  "language_info": {
   "codemirror_mode": {
    "name": "ipython",
    "version": 3
   },
   "file_extension": ".py",
   "mimetype": "text/x-python",
   "name": "python",
   "nbconvert_exporter": "python",
   "pygments_lexer": "ipython3",
   "version": "3.11.4"
  }
 },
 "nbformat": 4,
 "nbformat_minor": 5
}
