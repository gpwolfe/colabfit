{
 "cells": [
  {
   "cell_type": "code",
   "execution_count": null,
   "id": "77f9253d",
   "metadata": {},
   "outputs": [],
   "source": [
    "\"\"\"train.lmdb: 405,073 structures\n",
    "test.lmdb: 135,116 structures\n",
    "val.lmdb: 135,015 structures\"\"\""
   ]
  },
  {
   "cell_type": "code",
   "execution_count": null,
   "id": "5fa27550",
   "metadata": {},
   "outputs": [],
   "source": [
    "import lmdb\n",
    "import pickle\n",
    "import torch\n",
    "import pyarrow as pa\n",
    "import pyarrow.parquet as pq"
   ]
  },
  {
   "cell_type": "code",
   "execution_count": null,
   "id": "351b3f23",
   "metadata": {},
   "outputs": [],
   "source": [
    "keep_rows = [\n",
    "    \"pos\",\n",
    "    \"cell\",\n",
    "    \"atomic_numbers\",\n",
    "    \"pbc\",\n",
    "    \"material_id\",\n",
    "    \"reduced_formula\",\n",
    "    \"space_group\",\n",
    "    \"chemical_system\",\n",
    "    \"num_sites\",\n",
    "    \"cif\",\n",
    "    \"energy_above_hull\",\n",
    "    \"dft_band_gap\",\n",
    "    \"dft_bulk_modulus\",\n",
    "    \"dft_mag_density\",\n",
    "    \"hhi_score\",\n",
    "    \"ml_bulk_modulus\",\n",
    "]"
   ]
  },
  {
   "cell_type": "code",
   "execution_count": null,
   "id": "7c4b7b04",
   "metadata": {},
   "outputs": [],
   "source": [
    "def read_lmdb_content(lmdb_path):\n",
    "    env = lmdb.open(\n",
    "        lmdb_path,\n",
    "        subdir=False,\n",
    "        readonly=True,\n",
    "    )\n",
    "    with env.begin() as txn:\n",
    "        cursor = txn.cursor()\n",
    "        for key, value in cursor:\n",
    "            yield pickle.loads(value)"
   ]
  },
  {
   "cell_type": "code",
   "execution_count": null,
   "id": "41548f0d",
   "metadata": {},
   "outputs": [],
   "source": [
    "def create_table(lmdb_content, keep_rows):\n",
    "    table_rows = []\n",
    "    for row in lmdb_content:\n",
    "        row = {\n",
    "            key: val.tolist() if isinstance(val, torch.Tensor) else val\n",
    "            for key, val in row.items()\n",
    "            if key in keep_rows\n",
    "        }\n",
    "        table_rows.append(\n",
    "            {\n",
    "                \"positions\": [float(y) for x in row[\"pos\"] for y in x],\n",
    "                \"cell\": [float(y) for x in row[\"cell\"] for y in x],\n",
    "                \"atomic_numbers\": [int(x) for x in row[\"atomic_numbers\"]],\n",
    "                \"pbc\": [int(x) for x in row[\"pbc\"]],\n",
    "                \"material_id\": str(row[\"material_id\"]),\n",
    "                \"reduced_formula\": str(row[\"reduced_formula\"]),\n",
    "                \"space_group\": str(row[\"space_group\"]),\n",
    "                \"chemical_system\": str(row[\"chemical_system\"]),\n",
    "                \"num_sites\": int(row[\"num_sites\"]),\n",
    "                \"cif\": str(row[\"cif\"]),\n",
    "                \"energy_above_hull\": float(row[\"energy_above_hull\"]),\n",
    "                \"dft_band_gap\": float(row[\"dft_band_gap\"]),\n",
    "                \"dft_bulk_modulus\": float(row[\"dft_bulk_modulus\"]),\n",
    "                \"dft_mag_density\": float(row[\"dft_mag_density\"]),\n",
    "                \"hhi_score\": float(row[\"hhi_score\"]),\n",
    "                \"ml_bulk_modulus\": float(row[\"ml_bulk_modulus\"]),\n",
    "            }\n",
    "        )\n",
    "\n",
    "    return pa.Table.from_pylist(table_rows)"
   ]
  },
  {
   "cell_type": "code",
   "execution_count": null,
   "id": "018997ec",
   "metadata": {},
   "outputs": [],
   "source": [
    "test = create_table(read_lmdb_content(\"data/test.lmdb\"), keep_rows)\n",
    "pq.write_table(test, \"parquets/test.parquet\", compression=\"ZSTD\", compression_level=18)"
   ]
  },
  {
   "cell_type": "code",
   "execution_count": null,
   "id": "887645b9",
   "metadata": {},
   "outputs": [],
   "source": [
    "val = create_table(read_lmdb_content(\"data/val.lmdb\"), keep_rows)\n",
    "# pq.write_table(val, \"parquets/val.parquet\", compression=\"ZSTD\", compression_level=18)"
   ]
  },
  {
   "cell_type": "code",
   "execution_count": null,
   "id": "14cef944",
   "metadata": {},
   "outputs": [],
   "source": [
    "train = create_table(read_lmdb_content(\"data/train.lmdb\"), keep_rows)"
   ]
  },
  {
   "cell_type": "code",
   "execution_count": null,
   "id": "8f806d50",
   "metadata": {},
   "outputs": [],
   "source": [
    "len(train)"
   ]
  },
  {
   "cell_type": "code",
   "execution_count": null,
   "id": "fd29cfeb",
   "metadata": {},
   "outputs": [],
   "source": [
    "train_table = pa.Table.from_pylist(train)"
   ]
  },
  {
   "cell_type": "code",
   "execution_count": null,
   "id": "b76775fc",
   "metadata": {},
   "outputs": [],
   "source": [
    "train_table.num_rows"
   ]
  },
  {
   "cell_type": "code",
   "execution_count": null,
   "id": "0840de7b",
   "metadata": {},
   "outputs": [],
   "source": [
    "pq.write_table(\n",
    "    train_table, \"parquets/train.parquet\", compression=\"ZSTD\", compression_level=18\n",
    ")"
   ]
  },
  {
   "cell_type": "markdown",
   "id": "84f16d83",
   "metadata": {},
   "source": [
    "### HF upload"
   ]
  },
  {
   "cell_type": "code",
   "execution_count": null,
   "id": "ad21e347",
   "metadata": {},
   "outputs": [],
   "source": [
    "from huggingface_hub import HfApi\n",
    "from dotenv import load_dotenv\n",
    "import os\n",
    "\n",
    "load_dotenv()\n",
    "token = os.getenv(\"HF_TOKEN\")\n",
    "\n",
    "api = HfApi(token=token)"
   ]
  },
  {
   "cell_type": "code",
   "execution_count": null,
   "id": "684bad20",
   "metadata": {},
   "outputs": [],
   "source": [
    "api.create_repo(\n",
    "    repo_id=\"colabfit/Alex-MP-20_Polymorph_Split\", repo_type=\"dataset\", token=token\n",
    ")"
   ]
  },
  {
   "cell_type": "code",
   "execution_count": null,
   "id": "059c94d6",
   "metadata": {},
   "outputs": [],
   "source": [
    "api.upload_folder(\n",
    "    folder_path=\"parquets\",\n",
    "    repo_type=\"dataset\",\n",
    "    repo_id=\"colabfit/Alex-MP-20_Polymorph_Split\",\n",
    "    token=token,\n",
    ")"
   ]
  },
  {
   "cell_type": "code",
   "execution_count": null,
   "id": "6988f9ac",
   "metadata": {},
   "outputs": [],
   "source": [
    "api.upload_file(\n",
    "    path_or_fileobj=\"README.md\",\n",
    "    path_in_repo=\"README.md\",\n",
    "    repo_type=\"dataset\",\n",
    "    repo_id=\"colabfit/Alex-MP-20_Polymorph_Split\",\n",
    "    token=token,\n",
    ")"
   ]
  },
  {
   "cell_type": "code",
   "execution_count": null,
   "id": "75bf7fa8",
   "metadata": {},
   "outputs": [],
   "source": [
    "api.delete_file(\n",
    "    path_in_repo=\"parquets/val.parquet\",\n",
    "    repo_type=\"dataset\",\n",
    "    repo_id=\"colabfit/Alex-MP-20_Polymorph_Split\",\n",
    "    token=token,\n",
    ")\n",
    "api.delete_file(\n",
    "    path_in_repo=\"parquets/test.parquet\",\n",
    "    repo_type=\"dataset\",\n",
    "    repo_id=\"colabfit/Alex-MP-20_Polymorph_Split\",\n",
    "    token=token,\n",
    ")"
   ]
  },
  {
   "cell_type": "code",
   "execution_count": null,
   "id": "86237db0",
   "metadata": {},
   "outputs": [],
   "source": []
  }
 ],
 "metadata": {
  "kernelspec": {
   "display_name": "vast_env",
   "language": "python",
   "name": "python3"
  },
  "language_info": {
   "codemirror_mode": {
    "name": "ipython",
    "version": 3
   },
   "file_extension": ".py",
   "mimetype": "text/x-python",
   "name": "python",
   "nbconvert_exporter": "python",
   "pygments_lexer": "ipython3",
   "version": "3.11.4"
  }
 },
 "nbformat": 4,
 "nbformat_minor": 5
}
